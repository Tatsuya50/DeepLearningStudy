{
 "cells": [
  {
   "cell_type": "markdown",
   "metadata": {},
   "source": [
    "# ディープラーニングによる画像分類 （CNN for CIFAR-10）&#x1f439;\n",
    "# <font color=\"Crimson \">L2 正則化</font>\n",
    "\n",
    "### 担当教員： 長浜バイオ大学　和田 健之介"
   ]
  },
  {
   "cell_type": "markdown",
   "metadata": {},
   "source": [
    "## 課題内容\n",
    "\n",
    "下記のモデル設計では、<font color=\"Red\">過学習</font>の傾向がはっきりと現れてしまっているため、<br>\n",
    "モデルを改良し、精度と損失の２つのグラフにより過学習の状態になっていないことを確認しつつ、より一層の精度向上を目指す。\n",
    "\n",
    "## 成績ランク\n",
    "過学習がない状態で、テスト用データに対する最終評価(evaluation)の正解率で成績を決める。\n",
    "\n",
    "- Ｓ・・・93.0 以上\n",
    "- Ａ・・・90.0 以上 93.0 未満\n",
    "- Ｂ・・・85.0 以上 90.0 未満\n",
    "- Ｃ・・・80.0 以上 85.0 未満\n",
    "- Ｄ・・・80.0 未満 もしくは 過学習 の状態\n",
    "\n",
    "### 損失が低く、精度が高いモデルにするためのヒントと<font color='red'>過学習</font>の予防策：\n",
    "01. より深い層への改良<br>\n",
    "　　https://keras.io/ja/getting-started/sequential-model-guide/\n",
    "02. オプティマイザの変更<br>\n",
    "　　https://keras.io/ja/optimizers/\n",
    "03. より高度な活性化関数への変更<br>\n",
    "　　https://keras.io/ja/layers/advanced-activations/\n",
    "04. BatchNormalization の導入<br>\n",
    "　　https://keras.io/ja/layers/normalization/#batchnormalization\n",
    "05. Dropout を適宜追加<br>\n",
    "　　https://keras.io/ja/layers/core/#dropout\n",
    "06. データ標準化<br>\n",
    "　　https://blog.amedama.jp/entry/2016/07/06/000918\n",
    "07. L2正則化<br>\n",
    "　　https://keras.io/ja/regularizers/\n",
    "08. 重みの初期化の変更<br>\n",
    "　　https://keras.io/ja/initializers/\n",
    "09. データ拡張 (ImageDataGenerator)<br>\n",
    "　　https://keras.io/ja/preprocessing/image/#imagedatagenerator_1\n",
    "10. 学習率の自動調整<br>\n",
    "　　LearningRateScheduler<br>\n",
    "　　https://keras.io/ja/callbacks/#learningratescheduler<br>\n",
    "　　ReduceLROnPlateau<br>\n",
    "　　https://keras.io/ja/callbacks/#reducelronplateau\n",
    "\n",
    "### 参考になる本家のサイト\n",
    "　https://keras.io/ja/\n",
    "\n",
    "### サンプルプログラム:\n",
    "　https://keras.io/examples/cifar10_cnn/<br>\n",
    "　https://github.com/tensorflow/models/tree/master/research/resnet<br>\n",
    "　https://appliedmachinelearning.blog/2018/03/24/achieving-90-accuracy-in-object-recognition-task-on-cifar-10-dataset-with-keras-convolutional-neural-networks/\n",
    "\n",
    "### 各種モデルによる精度の比較:\n",
    "　https://www.kaggle.com/c/cifar-10/leaderboard<br>\n",
    "　https://github.com/BIGBALLON/cifar-10-cnn<br>\n",
    "　http://rodrigob.github.io/are_we_there_yet/build/classification_datasets_results.html#43494641522d3130<br>\n",
    "　https://paperswithcode.com/sota/image-classification-on-cifar-10"
   ]
  },
  {
   "cell_type": "markdown",
   "metadata": {},
   "source": [
    "## 参考書\n",
    "\n",
    "### 『最短コースでわかる ディープラーニングの数学』\n",
    "著者：    赤石 雅典  (著)<br>\n",
    "出版社 :  日経BP<br>\n",
    "ISBN-10:  4296102508<br>\n",
    "ISBN-13:  978-4296102501<br>\n",
    "発売日 :  2019年4月11日<br>\n",
    "価格   :  2,900円 (＋税)\n",
    "\n",
    "### 『scikit-learnとTensorFlowによる実践機械学習』\n",
    "著者：    Aurélien Géron (著), 下田 倫大 (監修), 長尾 高弘  (翻訳)<br>\n",
    "出版社 :  オライリージャパン<br>\n",
    "ISBN-10:  4873118344<br>\n",
    "ISBN-13:  978-4873118345<br>\n",
    "発売日 :  2018年4月26日<br>\n",
    "価格   :  4,500円 (＋税)"
   ]
  },
  {
   "cell_type": "markdown",
   "metadata": {},
   "source": [
    "## CIFAR-10 (シーファーテン）\n",
    "`10` のクラスにラベル付けされた `32 x 32` の大きさのカラー画像のデータセットで、 `50,000` 枚の<font color='red'>訓練用</font>画像と`10,000` 枚の<font color='red'>テスト用</font>画像とで構成されている。\n",
    "\n",
    "参考:<br>\n",
    "https://keras.io/ja/datasets/<br>\n",
    "https://www.cs.toronto.edu/~kriz/cifar.html"
   ]
  },
  {
   "cell_type": "markdown",
   "metadata": {},
   "source": [
    "## CIFAR-10 の正解ラベル名を設定"
   ]
  },
  {
   "cell_type": "code",
   "execution_count": 1,
   "metadata": {},
   "outputs": [],
   "source": [
    "labels = [\n",
    "    'airplane', 'automobile', 'bird', 'cat', 'deer',\n",
    "    'dog', 'frog', 'horse', 'ship', 'truck'\n",
    "]"
   ]
  },
  {
   "cell_type": "markdown",
   "metadata": {},
   "source": [
    "## 計算開始時刻の記録\n",
    "\n",
    "Google Colaboratory で実行する際に、日本時間の時刻を表示するためにはタイムゾーンの取得が必要となる。"
   ]
  },
  {
   "cell_type": "code",
   "execution_count": 2,
   "metadata": {},
   "outputs": [
    {
     "name": "stdout",
     "output_type": "stream",
     "text": [
      "2019-08-29 15:24:57.221699+09:00\n"
     ]
    }
   ],
   "source": [
    "import datetime\n",
    "import pytz\n",
    "\n",
    "start_time = datetime.datetime.now(pytz.timezone('Asia/Tokyo'))\n",
    "print(start_time)"
   ]
  },
  {
   "cell_type": "markdown",
   "metadata": {},
   "source": [
    "## TensorFlow と Keras のバージョンの確認"
   ]
  },
  {
   "cell_type": "code",
   "execution_count": 3,
   "metadata": {},
   "outputs": [
    {
     "name": "stdout",
     "output_type": "stream",
     "text": [
      "TensorFlow:  1.13.1\n",
      "Keras     :  2.2.5\n"
     ]
    },
    {
     "name": "stderr",
     "output_type": "stream",
     "text": [
      "Using TensorFlow backend.\n"
     ]
    }
   ],
   "source": [
    "import tensorflow as tf\n",
    "import keras\n",
    "\n",
    "print(\"TensorFlow: \", tf.__version__)\n",
    "print(\"Keras     : \", keras.__version__)"
   ]
  },
  {
   "cell_type": "markdown",
   "metadata": {},
   "source": [
    "## Warnings の抑制\n",
    "\n",
    "今後の変更点などが警告として表示されるので、以下のセルの各文をコメントアウトして、一度は眺めておくと参考になる。"
   ]
  },
  {
   "cell_type": "code",
   "execution_count": 4,
   "metadata": {},
   "outputs": [],
   "source": [
    "import warnings\n",
    "warnings.filterwarnings('ignore')\n",
    "\n",
    "import tensorflow as tf\n",
    "tf.logging.set_verbosity(tf.logging.ERROR)"
   ]
  },
  {
   "cell_type": "markdown",
   "metadata": {},
   "source": [
    "## Numpy の乱数の種を設定\n",
    "\n",
    "再実行後も train, validation, test の各データセットが同一となるために必要"
   ]
  },
  {
   "cell_type": "code",
   "execution_count": 5,
   "metadata": {},
   "outputs": [],
   "source": [
    "import numpy as np\n",
    "\n",
    "seed = 1234567\n",
    "np.random.seed(seed=seed)"
   ]
  },
  {
   "cell_type": "markdown",
   "metadata": {},
   "source": [
    "## CIFAR-10 のデータセットをロード"
   ]
  },
  {
   "cell_type": "code",
   "execution_count": 6,
   "metadata": {},
   "outputs": [],
   "source": [
    "from keras.datasets import cifar10\n",
    "\n",
    "(X_train, Y_train), (x_tests, y_tests) = cifar10.load_data()"
   ]
  },
  {
   "cell_type": "markdown",
   "metadata": {},
   "source": [
    "## 学習に使用するデータセットの割合を設定"
   ]
  },
  {
   "cell_type": "code",
   "execution_count": 7,
   "metadata": {},
   "outputs": [],
   "source": [
    "# データセットの最初の rate (0～1) の割合だけ使用\n",
    "rate = 1.0\n",
    "\n",
    "num_train = round(X_train.shape[0] * rate)\n",
    "num_tests = round(x_tests.shape[0] * rate)\n",
    "\n",
    "arange_train = np.arange(X_train.shape[0])\n",
    "select_train = np.random.choice(arange_train, num_train, replace=False) # 重複なし\n",
    "\n",
    "arange_tests = np.arange(x_tests.shape[0])\n",
    "select_tests = np.random.choice(arange_tests, num_tests, replace=False) # 重複なし\n",
    "\n",
    "X_train = X_train[select_train]\n",
    "Y_train = Y_train[select_train]\n",
    "\n",
    "x_tests = x_tests[select_tests]\n",
    "y_tests = y_tests[select_tests]"
   ]
  },
  {
   "cell_type": "markdown",
   "metadata": {},
   "source": [
    "## CIFAR-10 の画像を 100枚だけ表示"
   ]
  },
  {
   "cell_type": "code",
   "execution_count": 8,
   "metadata": {},
   "outputs": [
    {
     "data": {
      "image/png": "[encoded data removed]",
      "text/plain": [
       "<Figure size 1152x432 with 40 Axes>"
      ]
     },
     "metadata": {
      "needs_background": "light"
     },
     "output_type": "display_data"
    }
   ],
   "source": [
    "import random\n",
    "import matplotlib.pyplot as plt\n",
    "%matplotlib inline\n",
    "\n",
    "start = random.randint(0, x_tests.shape[0] / 2)\n",
    "plt.figure(figsize=(16, 6))\n",
    "plt.subplots_adjust(wspace=0.2, hspace=0.3, top=0.85, bottom=0.01)\n",
    "\n",
    "for idx, img in enumerate(x_tests[start:(start+40)]):\n",
    "    plt.subplot(4, 10, (idx + 1))\n",
    "    plt.imshow(img)\n",
    "    plt.axis('off')\n",
    "    plt.title(labels[y_tests[start + idx][0]])\n",
    "\n",
    "plt.show()"
   ]
  },
  {
   "cell_type": "markdown",
   "metadata": {},
   "source": [
    "## 正解ラベルを One-hot 表現に変換"
   ]
  },
  {
   "cell_type": "code",
   "execution_count": 9,
   "metadata": {},
   "outputs": [],
   "source": [
    "from keras.utils import to_categorical\n",
    "\n",
    "num_classes = 10\n",
    "\n",
    "Y_train = to_categorical(Y_train, num_classes)\n",
    "y_tests = to_categorical(y_tests, num_classes)"
   ]
  },
  {
   "cell_type": "markdown",
   "metadata": {},
   "source": [
    "## データの標準化 or 正規化"
   ]
  },
  {
   "cell_type": "code",
   "execution_count": 10,
   "metadata": {},
   "outputs": [],
   "source": [
    "# 最後にテスト用画像を描画して、視覚的に確認するために、標準化前のオリジナルの画像データをコピーしておく\n",
    "X_tests = np.copy(x_tests)\n",
    "\n",
    "isStandardization = False\n",
    "\n",
    "if isStandardization:\n",
    "    X_train = X_train.astype('float32')\n",
    "    x_tests = x_tests.astype('float32')\n",
    "    X_train = (X_train - np.mean(X_train)) / np.std(X_train)\n",
    "    x_tests = (x_tests - np.mean(x_tests)) / np.std(x_tests)\n",
    "else:\n",
    "    X_train = X_train.astype('float32') / 255.0\n",
    "    x_tests = x_tests.astype('float32') / 255.0"
   ]
  },
  {
   "cell_type": "markdown",
   "metadata": {},
   "source": [
    "## 上記でロードした train のデータを訓練 (Training) 用と検証 (Validation) 用とに分割\n",
    "\n",
    "### <font color='red'>最重要な注意事項！</font>\n",
    "1. <strong>テスト用のデータ `(x_tests, y_tests)` は、最終評価 `evaluation` まで一切使用しないこと !!</strong>\n",
    "2. <strong>データ拡張は、訓練用のデータ `(x_train, y_tain)` に対してだけ適用</strong>し、検証用のデータ `(x_valid, y_valid)` には適用しないこと！\n",
    "3. 分離に使用する<strong>関数名 <font color='blue'>`train_test_split`</font> の名前に惑わされない</strong>こと！この関数は単に指定された割合で２種類に区分するだけである。\n",
    "4. 学習を `fit` で行う場合は、`validation_split` のパラメータを使って訓練用と検証用とに手軽に分割できるが、データ拡張などで `fit_generator` を使って学習させる場合には、このパラメータが使えないので、<strong>この段階で分割しておくことで無駄な混乱を避ける</strong>ことができる。\n",
    "\n",
    "慣れないうちは、\n",
    "# <font color='orange'>まぜるな危険！</font>　<font color='magenta'>訓練・検証・テスト！</font>\n",
    "の<strong>合言葉</strong>を何度も何度も復唱し、脳というより身体に叩き込むこと！"
   ]
  },
  {
   "cell_type": "code",
   "execution_count": 11,
   "metadata": {},
   "outputs": [
    {
     "name": "stdout",
     "output_type": "stream",
     "text": [
      "x_train.shape =  (45000, 32, 32, 3)\n",
      "y_train.shape =  (45000, 10)\n",
      "x_valid.shape =  (5000, 32, 32, 3)\n",
      "y_valid.shape =  (5000, 10)\n",
      "x_tests.shape =  (10000, 32, 32, 3)\n",
      "y_tests.shape =  (10000, 10)\n"
     ]
    }
   ],
   "source": [
    "from sklearn.model_selection import train_test_split\n",
    "\n",
    "# 訓練用データの割合\n",
    "train_size = 0.9\n",
    "\n",
    "# 乱数の種\n",
    "random_state = 1234567\n",
    "\n",
    "x_train, x_valid, y_train, y_valid = train_test_split(X_train, Y_train, train_size=train_size, random_state=random_state)\n",
    "\n",
    "print(\"x_train.shape = \", x_train.shape)\n",
    "print(\"y_train.shape = \", y_train.shape)\n",
    "print(\"x_valid.shape = \", x_valid.shape)\n",
    "print(\"y_valid.shape = \", y_valid.shape)\n",
    "print(\"x_tests.shape = \", x_tests.shape)\n",
    "print(\"y_tests.shape = \", y_tests.shape)"
   ]
  },
  {
   "cell_type": "markdown",
   "metadata": {},
   "source": [
    "## モデルの構築\n",
    "\n",
    "### `Sequential モデル`\n",
    "　https://keras.io/ja/getting-started/sequential-model-guide/\n",
    " \n",
    "### `Conv2D`\n",
    "　https://keras.io/ja/layers/convolutional/#conv2d\n",
    "  - `kernel_initializer`<br>\n",
    "　https://keras.io/ja/initializers/#he_normal\n",
    "  - `kernel_regularizer`<br>\n",
    "　https://keras.io/ja/regularizers/#_2\n",
    "\n",
    "### `Activation`\n",
    "　https://keras.io/ja/activations/\n",
    "\n",
    "### `BatchNormalization`\n",
    "　https://keras.io/ja/layers/normalization/#batchnormalization\n",
    " \n",
    "### `MaxPooling2D`\n",
    "　https://keras.io/ja/layers/pooling/#maxpooling2d\n",
    "\n",
    "### `Dropout`\n",
    "　https://keras.io/ja/layers/core/#dropout\n",
    "\n",
    "### `Flatten`\n",
    "　https://keras.io/ja/layers/core/#flatten\n",
    "\n",
    "### `Dense`\n",
    "　https://keras.io/ja/layers/core/#dense\n",
    "\n",
    "### `GlobalAveragePooling2D`\n",
    "　https://keras.io/ja/layers/pooling/#globalaveragepooling2d"
   ]
  },
  {
   "cell_type": "markdown",
   "metadata": {},
   "source": [
    "## <font color='red'>注意</font>\n",
    "\n",
    "<strong>TensorFlow 1.13.2 ＋ Keras 2.2.4</strong> の場合、<strong>InputLayer</strong> を使ってモデルを構築すると、学習済みのモデルと重みをロードするときに、入力サイズに関するエラーが発生するため、<strong>Conv2D</strong> のパラメータ、<strong>input_shape</strong> で入力の形状を指定すること！"
   ]
  },
  {
   "cell_type": "code",
   "execution_count": 12,
   "metadata": {},
   "outputs": [],
   "source": [
    "from keras.models import Sequential\n",
    "from keras.layers import Conv2D, Activation,LeakyReLU,BatchNormalization\n",
    "from keras.layers import MaxPooling2D, Dropout, Flatten, Dense\n",
    "from keras import regularizers\n",
    "\n",
    "padding     = 'same'\n",
    "activation  = 'relu'\n",
    "regularizer = regularizers.l2(0.00003)\n",
    "\n",
    "model = Sequential()\n",
    "\n",
    "\n",
    "model.add(Conv2D(32, 3, padding=padding, kernel_regularizer=regularizer, input_shape=x_train.shape[1:]))\n",
    "model.add(Activation(activation))\n",
    "model.add(BatchNormalization())\n",
    "model.add(MaxPooling2D())\n",
    "model.add(Dropout(0.2))\n",
    "\n",
    "model.add(Conv2D(64, 3, padding=padding, kernel_regularizer=regularizer))\n",
    "model.add(Activation(activation))\n",
    "model.add(BatchNormalization())\n",
    "model.add(MaxPooling2D())\n",
    "model.add(Dropout(0.2))\n",
    "\n",
    "model.add(Conv2D(128, 3, padding=padding, kernel_regularizer=regularizer))\n",
    "model.add(Activation(activation))\n",
    "model.add(BatchNormalization())\n",
    "model.add(MaxPooling2D())\n",
    "model.add(Dropout(0.2))\n",
    "\n",
    "model.add(Conv2D(256, 3, padding=padding, kernel_regularizer=regularizer, input_shape=x_train.shape[1:]))\n",
    "model.add(Activation(activation))\n",
    "model.add(BatchNormalization())\n",
    "model.add(MaxPooling2D())\n",
    "model.add(Dropout(0.2))\n",
    "\n",
    "model.add(Conv2D(512, 3, padding=padding, kernel_regularizer=regularizer, input_shape=x_train.shape[1:]))\n",
    "model.add(Activation(activation))\n",
    "model.add(BatchNormalization())\n",
    "model.add(MaxPooling2D())\n",
    "model.add(Dropout(0.2))\n",
    "\n",
    "model.add(Conv2D(1024, 3, padding=padding, kernel_regularizer=regularizer, input_shape=x_train.shape[1:]))\n",
    "model.add(Activation(activation))\n",
    "model.add(BatchNormalization())\n",
    "model.add(Dropout(0.2))\n",
    "\n",
    "model.add(Flatten())\n",
    "\n",
    "model.add(Dense(256, kernel_regularizer=regularizer))\n",
    "model.add(Activation(activation))\n",
    "\n",
    "model.add(Dropout(0.5))\n",
    "\n",
    "model.add(Dense(y_train.shape[1], kernel_regularizer=regularizer))\n",
    "model.add(Activation('softmax'))"
   ]
  },
  {
   "cell_type": "markdown",
   "metadata": {},
   "source": [
    "## モデルの概要を表示"
   ]
  },
  {
   "cell_type": "code",
   "execution_count": 13,
   "metadata": {
    "scrolled": false
   },
   "outputs": [
    {
     "name": "stdout",
     "output_type": "stream",
     "text": [
      "Model: \"sequential_1\"\n",
      "_________________________________________________________________\n",
      "Layer (type)                 Output Shape              Param #   \n",
      "=================================================================\n",
      "conv2d_1 (Conv2D)            (None, 32, 32, 32)        896       \n",
      "_________________________________________________________________\n",
      "activation_1 (Activation)    (None, 32, 32, 32)        0         \n",
      "_________________________________________________________________\n",
      "batch_normalization_1 (Batch (None, 32, 32, 32)        128       \n",
      "_________________________________________________________________\n",
      "max_pooling2d_1 (MaxPooling2 (None, 16, 16, 32)        0         \n",
      "_________________________________________________________________\n",
      "dropout_1 (Dropout)          (None, 16, 16, 32)        0         \n",
      "_________________________________________________________________\n",
      "conv2d_2 (Conv2D)            (None, 16, 16, 64)        18496     \n",
      "_________________________________________________________________\n",
      "activation_2 (Activation)    (None, 16, 16, 64)        0         \n",
      "_________________________________________________________________\n",
      "batch_normalization_2 (Batch (None, 16, 16, 64)        256       \n",
      "_________________________________________________________________\n",
      "max_pooling2d_2 (MaxPooling2 (None, 8, 8, 64)          0         \n",
      "_________________________________________________________________\n",
      "dropout_2 (Dropout)          (None, 8, 8, 64)          0         \n",
      "_________________________________________________________________\n",
      "conv2d_3 (Conv2D)            (None, 8, 8, 128)         73856     \n",
      "_________________________________________________________________\n",
      "activation_3 (Activation)    (None, 8, 8, 128)         0         \n",
      "_________________________________________________________________\n",
      "batch_normalization_3 (Batch (None, 8, 8, 128)         512       \n",
      "_________________________________________________________________\n",
      "max_pooling2d_3 (MaxPooling2 (None, 4, 4, 128)         0         \n",
      "_________________________________________________________________\n",
      "dropout_3 (Dropout)          (None, 4, 4, 128)         0         \n",
      "_________________________________________________________________\n",
      "conv2d_4 (Conv2D)            (None, 4, 4, 256)         295168    \n",
      "_________________________________________________________________\n",
      "activation_4 (Activation)    (None, 4, 4, 256)         0         \n",
      "_________________________________________________________________\n",
      "batch_normalization_4 (Batch (None, 4, 4, 256)         1024      \n",
      "_________________________________________________________________\n",
      "max_pooling2d_4 (MaxPooling2 (None, 2, 2, 256)         0         \n",
      "_________________________________________________________________\n",
      "dropout_4 (Dropout)          (None, 2, 2, 256)         0         \n",
      "_________________________________________________________________\n",
      "conv2d_5 (Conv2D)            (None, 2, 2, 512)         1180160   \n",
      "_________________________________________________________________\n",
      "activation_5 (Activation)    (None, 2, 2, 512)         0         \n",
      "_________________________________________________________________\n",
      "batch_normalization_5 (Batch (None, 2, 2, 512)         2048      \n",
      "_________________________________________________________________\n",
      "max_pooling2d_5 (MaxPooling2 (None, 1, 1, 512)         0         \n",
      "_________________________________________________________________\n",
      "dropout_5 (Dropout)          (None, 1, 1, 512)         0         \n",
      "_________________________________________________________________\n",
      "conv2d_6 (Conv2D)            (None, 1, 1, 1024)        4719616   \n",
      "_________________________________________________________________\n",
      "activation_6 (Activation)    (None, 1, 1, 1024)        0         \n",
      "_________________________________________________________________\n",
      "batch_normalization_6 (Batch (None, 1, 1, 1024)        4096      \n",
      "_________________________________________________________________\n",
      "dropout_6 (Dropout)          (None, 1, 1, 1024)        0         \n",
      "_________________________________________________________________\n",
      "flatten_1 (Flatten)          (None, 1024)              0         \n",
      "_________________________________________________________________\n",
      "dense_1 (Dense)              (None, 256)               262400    \n",
      "_________________________________________________________________\n",
      "activation_7 (Activation)    (None, 256)               0         \n",
      "_________________________________________________________________\n",
      "dropout_7 (Dropout)          (None, 256)               0         \n",
      "_________________________________________________________________\n",
      "dense_2 (Dense)              (None, 10)                2570      \n",
      "_________________________________________________________________\n",
      "activation_8 (Activation)    (None, 10)                0         \n",
      "=================================================================\n",
      "Total params: 6,561,226\n",
      "Trainable params: 6,557,194\n",
      "Non-trainable params: 4,032\n",
      "_________________________________________________________________\n"
     ]
    }
   ],
   "source": [
    "model.summary()"
   ]
  },
  {
   "cell_type": "markdown",
   "metadata": {},
   "source": [
    "## モデルのコンパイル\n",
    "\n",
    "### `compile`\n",
    "　https://keras.io/ja/models/model/#compile\n",
    "　\n",
    "- `loss`<br>\n",
    "　https://keras.io/ja/losses/<br>\n",
    "  - mean_squared_error : 二乗誤差\n",
    "  - mean_absolute_error : 絶対値誤差\n",
    "  - mean_absolute_percentage_error, make : 正解とのズレ(絶対値)の割合\n",
    "  - mean_squared_logarithmic_error, msle : 正解とのズレ(二乗誤差)の割合\n",
    "  - squared_hinge : マイナスのところは 0, プラスは二乗誤差\n",
    "  - hinge : マイナスのところは 0, プラスは絶対値\n",
    "  - categorical_hinge: 多クラス分類用の hinge\n",
    "  - logcosh: 予測誤差のハイパボリックコサインの対\n",
    "  - binary_crossentropy : ２値分類 logloss\n",
    "  - <font color='red'>categorical_crossentropy</font> : 多クラス分類 logloss\n",
    "  - sparse_categorical_crossentropy : スパースラベルを取る categorical_crossentropy\n",
    "  - kullback_leibler_divergence, kld : 分布の距離（的なもの）\n",
    "  - poisson : 予測 - 正解 * log(予測) の平均\n",
    "  - cosine_proximity : 予測と正解間のコサイン近似の負の平均<br>\n",
    "　\n",
    "- `optimizer`<br>\n",
    "　https://keras.io/ja/optimizers/<br>\n",
    "  - SGD: 確率的勾配降下法オプティマイザ\n",
    "  - AdaGrad (2011): 多次元問題だと勾配が緩やかな方向には収束に時間がかかるため、各次元ごとに学習率を調整していくこうという手法\n",
    "  - RMSprop (2012): 学習率が0に近くなった次元についても更新されるように改善したオプティマイザ．リカレントＮＮに対して良い選択となる\n",
    "  - AdaDelta (2012): RMSprop における次元数のミスマッチ問題を解消したオプティマイザ\n",
    "  - <font color='red'>Adam</font> (2015): RMSProp と momumtum を組み合わせたオプティマイザ\n",
    "  - <font color='red'>AdaMax</font> (2015): 無限ノルムに基づくAdamの拡張\n",
    "  - <font color='red'>Nadam</font> (2016): RMSProp と Nesterov momentum を組み合わせたオプティマイザ\n",
    "  - TFOptimizer: TensorFlow のオプティマイザのためのラッパークラス<br>\n",
    "　\n",
    "- `metrics`<br>\n",
    "　https://keras.io/ja/metrics/"
   ]
  },
  {
   "cell_type": "code",
   "execution_count": 14,
   "metadata": {},
   "outputs": [],
   "source": [
    "model.compile(loss='categorical_crossentropy',\n",
    "              optimizer='adam',\n",
    "              metrics=['accuracy'])"
   ]
  },
  {
   "cell_type": "markdown",
   "metadata": {},
   "source": [
    "## データ拡張 (Data Augmentation)\n",
    "\n",
    "### `ImageDataGenerator`\n",
    "　https://keras.io/ja/preprocessing/image/#imagedatagenerator_1<br>\n",
    "　https://keras.io/ja/preprocessing/image/#flow<br>\n",
    "\n",
    "\n",
    "### `flow`\n",
    "　https://keras.io/ja/preprocessing/image/#flow"
   ]
  },
  {
   "cell_type": "code",
   "execution_count": 15,
   "metadata": {},
   "outputs": [],
   "source": [
    "from keras.preprocessing.image import ImageDataGenerator\n",
    "\n",
    "train_datagen = ImageDataGenerator(\n",
    "                rotation_range      = 20,   # ランダムに回転する回転範囲（単位は角度）\n",
    "                zoom_range          = 0.2,  # ランダムにズームする範囲 [lower, upper] = [1-zoom_range, 1+zoom_range]\n",
    "                width_shift_range   = 0.2,  # ランダムに水平シフトする範囲 (横幅に対する割合)\n",
    "                height_shift_range  = 0.2,  # ランダムに垂直シフトする範囲 (縦幅に対する割合)\n",
    "                channel_shift_range = 0.2,  # ランダムにチャネルシフトする範囲\n",
    "                horizontal_flip     = True  # ランダムに水平反転\n",
    ")\n",
    "\n",
    "train_datagen.fit(X_train)                  # 白色化 (zca_whitening) などを行う場合は必要となる"
   ]
  },
  {
   "cell_type": "markdown",
   "metadata": {},
   "source": [
    "## 学習率の自動調整\n",
    "\n",
    "### `LearningRateScheduler`\n",
    "　https://keras.io/ja/callbacks/#learningratescheduler\n",
    "\n",
    "　https://blog.shikoan.com/keras-learning-rate-decay/<br>\n",
    "　https://machinelearningmastery.com/using-learning-rate-schedules-deep-learning-models-python-keras/<br>\n",
    "\n",
    "### `学習率のデフォルト値`\n",
    "- Adam　の学習率のデフォルト値は、lr = `0.001`<br>\n",
    "　https://keras.io/ja/optimizers/#adam\n",
    "- Nadam の学習率のデフォルト値は、lr = `0.002`<br>\n",
    "　https://keras.io/ja/optimizers/#nadam"
   ]
  },
  {
   "cell_type": "code",
   "execution_count": 16,
   "metadata": {},
   "outputs": [],
   "source": [
    "from keras.callbacks import LearningRateScheduler\n",
    "\n",
    "def step_decay(epoch):\n",
    "    initial_lrate = 0.001\n",
    "    drop          = 0.7\n",
    "    epochs_drop   = 10\n",
    "    min_lr        = 1.0e-6\n",
    "    \n",
    "    lrate = initial_lrate * np.power(drop, np.floor(epoch / epochs_drop))\n",
    "    if lrate < min_lr:\n",
    "        lrate = min_lr\n",
    "    \n",
    "    return lrate\n",
    "\n",
    "learning_rate_step_decay = LearningRateScheduler(step_decay, verbose=1)"
   ]
  },
  {
   "cell_type": "markdown",
   "metadata": {},
   "source": [
    "### `ReduceLROnPlateau`\n",
    "\n",
    "　https://keras.io/ja/callbacks/#reducelronplateau\n",
    "\n",
    "```\n",
    "ReduceLROnPlateau(\n",
    "　　　　monitor='val_loss',　　# 監視する値\n",
    "　　　　factor=0.1,　　　　　  # 学習率を減らす割合．new_lr = lr * factor\n",
    "　　　　patience=10,　　　　　 # 何エポック改善が見られなかったら学習率の削減を行うか．\n",
    "　　　　verbose=0,　　　　　　 # 整数．0 = 何も表示しない．1 = 学習率削減時メッセージを表示．\n",
    "　　　　mode='auto',　　　　　 # auto，min，maxのいずれか．\n",
    "　　　　　　　　　　　　　　　 # max  の場合，監視する値の増加が停止した時に，学習率を更新する．\n",
    "　　　　　　　　　　　　　　　 # auto の場合，監視する値の名前から自動で判断する．\n",
    "　　　　epsilon=0.0001,　　　　# 改善があったと判断する閾値．有意な変化だけに注目するために用いる．\n",
    "　　　　cooldown=0,　　　　　　# 学習率を減らした後，通常の学習を再開するまで待機するエポック数．\n",
    "　　　　min_lr=0 　　　　　　　# 学習率の下限．\n",
    ")\n",
    "```"
   ]
  },
  {
   "cell_type": "code",
   "execution_count": 17,
   "metadata": {},
   "outputs": [],
   "source": [
    "from keras.callbacks import ReduceLROnPlateau\n",
    "\n",
    "learning_rate_reduce_on_plateau = ReduceLROnPlateau(\n",
    "                                        monitor='val_acc',\n",
    "                                        factor=0.8,\n",
    "                                        patience=4,\n",
    "                                        verbose=1,\n",
    "                                        min_lr=0.000001)"
   ]
  },
  {
   "cell_type": "markdown",
   "metadata": {},
   "source": [
    "## TensorBoard の設定\n",
    "\n",
    "下記のフォルダ内にある過去の学習ログのファイルを削除してから<br>\n",
    "コマンドプロンプト上で、この Notebook のファイルがある場所に移動した後で、<br>\n",
    "以下のコマンドを実行する。<br>\n",
    "\n",
    "`tensorboard --logdir=\"./logs\"`\n",
    "\n",
    "上記のコマンドを実行後に、指示が表示されるので、ブラウザ上で<br>\n",
    "\n",
    "`http://localhost:6006`\n",
    "\n",
    "の URL を入力して TensorBoard を開く。\n",
    "\n",
    "https://keras.io/ja/callbacks/#tensorboard"
   ]
  },
  {
   "cell_type": "code",
   "execution_count": 18,
   "metadata": {},
   "outputs": [],
   "source": [
    "import os\n",
    "from keras.callbacks import TensorBoard\n",
    "\n",
    "log_dir = \"logs\"\n",
    "\n",
    "if not (os.path.exists(log_dir) and os.path.isdir(log_dir)):\n",
    "    os.mkdir(log_dir)\n",
    "\n",
    "tb_cb = TensorBoard(\n",
    "                log_dir=log_dir,\n",
    "                write_graph=True,\n",
    "                write_images=True)"
   ]
  },
  {
   "cell_type": "markdown",
   "metadata": {},
   "source": [
    "## 学習の実行\n",
    "\n",
    "参考：<br>\n",
    "　　https://keras.io/ja/models/model/#fit_generator\n",
    "\n",
    "### `fit_generator`\n",
    "- `epochs`<br>\n",
    "　　モデルを訓練するエポック数．エポック数は，一つの訓練用データ全体を繰り返し学習させる回数．<br>\n",
    "- `steps_per_epoch`<br>\n",
    "　　ある一つのエポックが終了し，次のエポックが始まる前に訓練用ジェネレータが使用する総ステップ数．<br>\n",
    "　　通常は、訓練用データのサイズをバッチサイズで割った数を設定する．<br>\n",
    "　　指定されていない場合は，len(generator) を使用する．<br>\n",
    "- `validation_steps`<br>\n",
    "　　validation_data がジェネレータの場合にのみ関係する．<br>\n",
    "　　各エポックが終了する前に検証用のジェネレータが使用する総ステップ数．<br>\n",
    "　　通常は、検証用データのサイズをバッチサイズで割った数を設定する．\n",
    "- `verbose`<br>\n",
    "　　`0`=標準出力にログを出力しない、`1`=ログをプログレスバーで出力，`2`=エポックごとに1行のログを出力"
   ]
  },
  {
   "cell_type": "markdown",
   "metadata": {},
   "source": [
    "## batch_size\n",
    "　　<font color='red'><strong>バッチサイズが小さいと計算が遅くなるが、大きすぎると精度が低下する。</strong></font>  <font size=6>&#x1f4a9;</font><br>"
   ]
  },
  {
   "cell_type": "markdown",
   "metadata": {},
   "source": [
    "## データ拡張を行う際の倍率\n",
    "　**aug_ratio = 1** の値を増やしたときに、損失と精度がどのように変わるか調べてみよう！"
   ]
  },
  {
   "cell_type": "code",
   "execution_count": null,
   "metadata": {
    "scrolled": false
   },
   "outputs": [
    {
     "name": "stdout",
     "output_type": "stream",
     "text": [
      "x_train         = 45000\n",
      "batch_size      = 64\n",
      "aug_ratio       = 10\n",
      "steps_per_epoch = 7030\n",
      "epochs          = 50\n",
      "Epoch 1/50\n",
      "\n",
      "Epoch 00001: LearningRateScheduler setting learning rate to 0.001.\n",
      " - 180s - loss: 1.4979 - acc: 0.5059 - val_loss: 1.1009 - val_acc: 0.6806\n",
      "Epoch 2/50\n",
      "\n",
      "Epoch 00002: LearningRateScheduler setting learning rate to 0.001.\n",
      " - 177s - loss: 1.2530 - acc: 0.6404 - val_loss: 1.0094 - val_acc: 0.7252\n",
      "Epoch 3/50\n",
      "\n",
      "Epoch 00003: LearningRateScheduler setting learning rate to 0.001.\n",
      " - 177s - loss: 1.1742 - acc: 0.6807 - val_loss: 0.8412 - val_acc: 0.7926\n",
      "Epoch 4/50\n",
      "\n",
      "Epoch 00004: LearningRateScheduler setting learning rate to 0.001.\n",
      " - 176s - loss: 1.1115 - acc: 0.7045 - val_loss: 1.0223 - val_acc: 0.7360\n",
      "Epoch 5/50\n",
      "\n",
      "Epoch 00005: LearningRateScheduler setting learning rate to 0.001.\n",
      " - 177s - loss: 1.0767 - acc: 0.7164 - val_loss: 0.9125 - val_acc: 0.7676\n",
      "Epoch 6/50\n",
      "\n",
      "Epoch 00006: LearningRateScheduler setting learning rate to 0.001.\n",
      " - 176s - loss: 1.0525 - acc: 0.7262 - val_loss: 0.8074 - val_acc: 0.8080\n",
      "Epoch 7/50\n",
      "\n",
      "Epoch 00007: LearningRateScheduler setting learning rate to 0.001.\n",
      " - 179s - loss: 1.0363 - acc: 0.7318 - val_loss: 0.8540 - val_acc: 0.7974\n",
      "Epoch 8/50\n",
      "\n",
      "Epoch 00008: LearningRateScheduler setting learning rate to 0.001.\n",
      " - 177s - loss: 1.0204 - acc: 0.7373 - val_loss: 0.7280 - val_acc: 0.8300\n",
      "Epoch 9/50\n",
      "\n",
      "Epoch 00009: LearningRateScheduler setting learning rate to 0.001.\n",
      " - 181s - loss: 1.0132 - acc: 0.7405 - val_loss: 0.9174 - val_acc: 0.7772\n",
      "Epoch 10/50\n",
      "\n",
      "Epoch 00010: LearningRateScheduler setting learning rate to 0.001.\n",
      " - 176s - loss: 1.0017 - acc: 0.7445 - val_loss: 0.7737 - val_acc: 0.8208\n",
      "Epoch 11/50\n",
      "\n",
      "Epoch 00011: LearningRateScheduler setting learning rate to 0.0007.\n",
      " - 176s - loss: 0.9367 - acc: 0.7602 - val_loss: 0.6983 - val_acc: 0.8330\n",
      "Epoch 12/50\n",
      "\n",
      "Epoch 00012: LearningRateScheduler setting learning rate to 0.0007.\n",
      " - 177s - loss: 0.9102 - acc: 0.7648 - val_loss: 0.6831 - val_acc: 0.8362\n",
      "Epoch 13/50\n",
      "\n",
      "Epoch 00013: LearningRateScheduler setting learning rate to 0.0007.\n",
      " - 177s - loss: 0.9006 - acc: 0.7654 - val_loss: 0.6730 - val_acc: 0.8410\n",
      "Epoch 14/50\n",
      "\n",
      "Epoch 00014: LearningRateScheduler setting learning rate to 0.0007.\n",
      " - 176s - loss: 0.8914 - acc: 0.7680 - val_loss: 0.6709 - val_acc: 0.8416\n",
      "Epoch 15/50\n",
      "\n",
      "Epoch 00015: LearningRateScheduler setting learning rate to 0.0007.\n",
      " - 177s - loss: 0.8845 - acc: 0.7693 - val_loss: 0.6938 - val_acc: 0.8296\n",
      "Epoch 16/50\n",
      "\n",
      "Epoch 00016: LearningRateScheduler setting learning rate to 0.0007.\n",
      " - 177s - loss: 0.8811 - acc: 0.7711 - val_loss: 0.7543 - val_acc: 0.8140\n",
      "Epoch 17/50\n",
      "\n",
      "Epoch 00017: LearningRateScheduler setting learning rate to 0.0007.\n",
      " - 177s - loss: 0.8770 - acc: 0.7717 - val_loss: 0.6314 - val_acc: 0.8550\n",
      "Epoch 18/50\n",
      "\n",
      "Epoch 00018: LearningRateScheduler setting learning rate to 0.0007.\n",
      " - 176s - loss: 0.8754 - acc: 0.7721 - val_loss: 0.7165 - val_acc: 0.8290\n",
      "Epoch 19/50\n",
      "\n",
      "Epoch 00019: LearningRateScheduler setting learning rate to 0.0007.\n",
      " - 177s - loss: 0.8708 - acc: 0.7741 - val_loss: 0.6385 - val_acc: 0.8506\n",
      "Epoch 20/50\n",
      "\n",
      "Epoch 00020: LearningRateScheduler setting learning rate to 0.0007.\n",
      " - 177s - loss: 0.8674 - acc: 0.7751 - val_loss: 0.6504 - val_acc: 0.8510\n",
      "Epoch 21/50\n",
      "\n",
      "Epoch 00021: LearningRateScheduler setting learning rate to 0.00049.\n",
      " - 177s - loss: 0.8269 - acc: 0.7862 - val_loss: 0.6079 - val_acc: 0.8560\n",
      "Epoch 22/50\n",
      "\n",
      "Epoch 00022: LearningRateScheduler setting learning rate to 0.00049.\n",
      " - 177s - loss: 0.8075 - acc: 0.7882 - val_loss: 0.6445 - val_acc: 0.8388\n",
      "Epoch 23/50\n",
      "\n",
      "Epoch 00023: LearningRateScheduler setting learning rate to 0.00049.\n",
      " - 176s - loss: 0.7963 - acc: 0.7902 - val_loss: 0.5576 - val_acc: 0.8686\n",
      "Epoch 24/50\n",
      "\n",
      "Epoch 00024: LearningRateScheduler setting learning rate to 0.00049.\n",
      " - 177s - loss: 0.7897 - acc: 0.7920 - val_loss: 0.6407 - val_acc: 0.8416\n",
      "Epoch 25/50\n",
      "\n",
      "Epoch 00025: LearningRateScheduler setting learning rate to 0.00049.\n",
      " - 176s - loss: 0.7862 - acc: 0.7921 - val_loss: 0.5723 - val_acc: 0.8632\n",
      "Epoch 26/50\n",
      "\n",
      "Epoch 00026: LearningRateScheduler setting learning rate to 0.00049.\n",
      " - 176s - loss: 0.7824 - acc: 0.7933 - val_loss: 0.5838 - val_acc: 0.8560\n",
      "Epoch 27/50\n",
      "\n",
      "Epoch 00027: LearningRateScheduler setting learning rate to 0.00049.\n",
      " - 177s - loss: 0.7823 - acc: 0.7929 - val_loss: 0.5792 - val_acc: 0.8582\n",
      "Epoch 28/50\n",
      "\n",
      "Epoch 00028: LearningRateScheduler setting learning rate to 0.00049.\n",
      " - 177s - loss: 0.7772 - acc: 0.7941 - val_loss: 0.6418 - val_acc: 0.8424\n",
      "Epoch 29/50\n",
      "\n",
      "Epoch 00029: LearningRateScheduler setting learning rate to 0.00049.\n",
      " - 177s - loss: 0.7770 - acc: 0.7937 - val_loss: 0.5580 - val_acc: 0.8666\n",
      "Epoch 30/50\n",
      "\n",
      "Epoch 00030: LearningRateScheduler setting learning rate to 0.00049.\n",
      " - 176s - loss: 0.7750 - acc: 0.7951 - val_loss: 0.6146 - val_acc: 0.8516\n",
      "Epoch 31/50\n",
      "\n",
      "Epoch 00031: LearningRateScheduler setting learning rate to 0.00034299999999999993.\n",
      " - 176s - loss: 0.7453 - acc: 0.8031 - val_loss: 0.6092 - val_acc: 0.8518\n",
      "Epoch 32/50\n",
      "\n",
      "Epoch 00032: LearningRateScheduler setting learning rate to 0.00034299999999999993.\n",
      " - 176s - loss: 0.7293 - acc: 0.8058 - val_loss: 0.5640 - val_acc: 0.8642\n",
      "Epoch 33/50\n",
      "\n",
      "Epoch 00033: LearningRateScheduler setting learning rate to 0.00034299999999999993.\n",
      " - 177s - loss: 0.7228 - acc: 0.8072 - val_loss: 0.5399 - val_acc: 0.8674\n",
      "Epoch 34/50\n",
      "\n",
      "Epoch 00034: LearningRateScheduler setting learning rate to 0.00034299999999999993.\n",
      " - 176s - loss: 0.7156 - acc: 0.8087 - val_loss: 0.5477 - val_acc: 0.8684\n",
      "Epoch 35/50\n",
      "\n",
      "Epoch 00035: LearningRateScheduler setting learning rate to 0.00034299999999999993.\n",
      " - 177s - loss: 0.7132 - acc: 0.8091 - val_loss: 0.5499 - val_acc: 0.8632\n",
      "Epoch 36/50\n",
      "\n",
      "Epoch 00036: LearningRateScheduler setting learning rate to 0.00034299999999999993.\n",
      " - 176s - loss: 0.7109 - acc: 0.8086 - val_loss: 0.5233 - val_acc: 0.8694\n",
      "Epoch 37/50\n",
      "\n",
      "Epoch 00037: LearningRateScheduler setting learning rate to 0.00034299999999999993.\n",
      " - 177s - loss: 0.7075 - acc: 0.8092 - val_loss: 0.5361 - val_acc: 0.8690\n",
      "Epoch 38/50\n",
      "\n",
      "Epoch 00038: LearningRateScheduler setting learning rate to 0.00034299999999999993.\n",
      " - 177s - loss: 0.7048 - acc: 0.8102 - val_loss: 0.6078 - val_acc: 0.8482\n",
      "Epoch 39/50\n",
      "\n",
      "Epoch 00039: LearningRateScheduler setting learning rate to 0.00034299999999999993.\n",
      " - 176s - loss: 0.7028 - acc: 0.8100 - val_loss: 0.5348 - val_acc: 0.8710\n",
      "Epoch 40/50\n",
      "\n",
      "Epoch 00040: LearningRateScheduler setting learning rate to 0.00034299999999999993.\n",
      " - 176s - loss: 0.7009 - acc: 0.8114 - val_loss: 0.6186 - val_acc: 0.8448\n",
      "Epoch 41/50\n",
      "\n",
      "Epoch 00041: LearningRateScheduler setting learning rate to 0.00024009999999999995.\n",
      " - 176s - loss: 0.6802 - acc: 0.8173 - val_loss: 0.5249 - val_acc: 0.8714\n",
      "Epoch 42/50\n",
      "\n",
      "Epoch 00042: LearningRateScheduler setting learning rate to 0.00024009999999999995.\n",
      " - 176s - loss: 0.6668 - acc: 0.8202 - val_loss: 0.5285 - val_acc: 0.8716\n",
      "Epoch 43/50\n",
      "\n",
      "Epoch 00043: LearningRateScheduler setting learning rate to 0.00024009999999999995.\n",
      " - 176s - loss: 0.6619 - acc: 0.8203 - val_loss: 0.4883 - val_acc: 0.8806\n",
      "Epoch 44/50\n",
      "\n",
      "Epoch 00044: LearningRateScheduler setting learning rate to 0.00024009999999999995.\n",
      " - 176s - loss: 0.6565 - acc: 0.8205 - val_loss: 0.5103 - val_acc: 0.8746\n",
      "Epoch 45/50\n",
      "\n",
      "Epoch 00045: LearningRateScheduler setting learning rate to 0.00024009999999999995.\n",
      " - 176s - loss: 0.6559 - acc: 0.8208 - val_loss: 0.5045 - val_acc: 0.8740\n",
      "Epoch 46/50\n",
      "\n",
      "Epoch 00046: LearningRateScheduler setting learning rate to 0.00024009999999999995.\n",
      " - 176s - loss: 0.6488 - acc: 0.8226 - val_loss: 0.5010 - val_acc: 0.8746\n",
      "Epoch 47/50\n",
      "\n",
      "Epoch 00047: LearningRateScheduler setting learning rate to 0.00024009999999999995.\n",
      " - 176s - loss: 0.6473 - acc: 0.8234 - val_loss: 0.5118 - val_acc: 0.8714\n",
      "Epoch 48/50\n",
      "\n",
      "Epoch 00048: LearningRateScheduler setting learning rate to 0.00024009999999999995.\n",
      " - 176s - loss: 0.6433 - acc: 0.8235 - val_loss: 0.4891 - val_acc: 0.8772\n",
      "Epoch 49/50\n",
      "\n",
      "Epoch 00049: LearningRateScheduler setting learning rate to 0.00024009999999999995.\n"
     ]
    }
   ],
   "source": [
    "import time\n",
    "import sys\n",
    "\n",
    "batch_size       = 64\n",
    "aug_ratio        = 10\n",
    "steps_per_epoch  = (x_train.shape[0] // batch_size) * aug_ratio\n",
    "epochs          = 50\n",
    "\n",
    "print(\"x_train         =\", x_train.shape[0])\n",
    "print(\"batch_size      =\", batch_size)\n",
    "print(\"aug_ratio       =\", aug_ratio)\n",
    "print(\"steps_per_epoch =\", steps_per_epoch)\n",
    "print(\"epochs          =\", epochs)\n",
    "\n",
    "start = time.time()\n",
    "\n",
    "train_generator = train_datagen.flow(x_train, y_train, batch_size=batch_size)\n",
    "\n",
    "history = model.fit_generator(\n",
    "                train_generator,\n",
    "                epochs=epochs,\n",
    "                steps_per_epoch=steps_per_epoch,\n",
    "                validation_data=(x_valid, y_valid),\n",
    "                verbose=2,\n",
    "                callbacks=[tb_cb, learning_rate_step_decay])\n",
    "\n",
    "elapsed_time = time.time() - start\n",
    "print(\"Elapsed Time [CNN Loop]: {}\".format(elapsed_time) + \" [sec]\")"
   ]
  },
  {
   "cell_type": "markdown",
   "metadata": {},
   "source": [
    "## 学習の履歴をグラフ表示"
   ]
  },
  {
   "cell_type": "code",
   "execution_count": null,
   "metadata": {},
   "outputs": [],
   "source": [
    "# acc、val_acc のプロット\n",
    "plt.figure()\n",
    "plt.plot(history.history[\"acc\"], label=\"acc\", ls=\"-\", marker=\"o\")\n",
    "plt.plot(history.history[\"val_acc\"], label=\"val_acc\", ls=\"-\", marker=\"x\")\n",
    "plt.ylabel(\"accuracy\")\n",
    "plt.xlabel(\"epoch\")\n",
    "plt.title(\"Training and validation accuracy\")\n",
    "plt.legend(loc=\"lower right\")\n",
    "\n",
    "# loss, val_loss のプロット\n",
    "plt.figure()\n",
    "plt.plot(history.history[\"loss\"], label=\"loss\", ls=\"-\", marker=\"o\")\n",
    "plt.plot(history.history[\"val_loss\"], label=\"val_loss\", ls=\"-\", marker=\"x\")\n",
    "plt.ylabel(\"loss\")\n",
    "plt.xlabel(\"epoch\")\n",
    "plt.title(\"Training and validation loss\")\n",
    "plt.legend(loc=\"upper right\")\n",
    "\n",
    "plt.show()"
   ]
  },
  {
   "cell_type": "markdown",
   "metadata": {},
   "source": [
    "## <font color='red'>テスト用データを使った最終評価</font>\n",
    "\n",
    "https://keras.io/ja/models/model/#evaluate"
   ]
  },
  {
   "cell_type": "code",
   "execution_count": null,
   "metadata": {},
   "outputs": [],
   "source": [
    "loss, score = model.evaluate(x_tests, y_tests, batch_size=32, verbose=0)\n",
    "\n",
    "print('Test loss    :', loss)\n",
    "print('Test accuracy:', score)"
   ]
  },
  {
   "cell_type": "markdown",
   "metadata": {},
   "source": [
    "## テスト用データの先頭の 10 枚を可視化"
   ]
  },
  {
   "cell_type": "code",
   "execution_count": null,
   "metadata": {},
   "outputs": [],
   "source": [
    "fig = plt.figure(figsize=(12, 4))\n",
    "plt.subplots_adjust(wspace=0.2, hspace=0.3, top=0.85, bottom=0.01)\n",
    "\n",
    "for i in range(10):\n",
    "    plt.subplot(2, 5, i+1)\n",
    "    plt.imshow(x_tests[i])\n",
    "    plt.axis('off')\n",
    "    answer = np.argmax(y_tests[i])\n",
    "    plt.title(labels[answer])\n",
    "\n",
    "plt.suptitle(\"The first ten of the test data\", fontsize=20)\n",
    "plt.show()"
   ]
  },
  {
   "cell_type": "markdown",
   "metadata": {},
   "source": [
    "## テストデータの先頭の 10 枚の予測結果と正解ラベルを表示"
   ]
  },
  {
   "cell_type": "code",
   "execution_count": null,
   "metadata": {},
   "outputs": [],
   "source": [
    "print(\"予測：\")\n",
    "pred = np.argmax(model.predict(x_tests[:10]), axis=1)\n",
    "s = \"\"\n",
    "for i in range(10):\n",
    "    s += \"{:12s}\".format(labels[pred[i]])\n",
    "print(s)\n",
    "\n",
    "print(\"\\n正解：\")\n",
    "answer = np.argmax(y_tests[:10], axis=1)\n",
    "s = \"\"\n",
    "for i in range(10):\n",
    "    s += \"{:12s}\".format(labels[answer[i]])\n",
    "print(s)"
   ]
  },
  {
   "cell_type": "markdown",
   "metadata": {},
   "source": [
    "## 経過時間を表示"
   ]
  },
  {
   "cell_type": "code",
   "execution_count": null,
   "metadata": {},
   "outputs": [],
   "source": [
    "end_time = datetime.datetime.now(pytz.timezone('Asia/Tokyo'))\n",
    "print(\"\\nStart   Time  : \" + str(start_time))\n",
    "print(  \"End     Time  : \" + str(end_time))\n",
    "print(  \"Elapsed Time  : \" + str(end_time - start_time))"
   ]
  },
  {
   "cell_type": "markdown",
   "metadata": {},
   "source": [
    "## 計算終了を知らせるサウンドを再生する\n",
    "\n",
    "### 無料の効果音：\n",
    "　http://amachamusic.chagasi.com/genre_soundtrack.html<br>\n",
    "　https://soundeffect-lab.info/"
   ]
  },
  {
   "cell_type": "code",
   "execution_count": null,
   "metadata": {},
   "outputs": [],
   "source": [
    "from playsound import playsound\n",
    "\n",
    "playsound(\"fanfare.mp3\")"
   ]
  },
  {
   "cell_type": "markdown",
   "metadata": {},
   "source": [
    "## <font color='red'>典型的なエラーとその対処法</font>\n",
    "\n",
    "1. スペルミスなどの初歩的なミスについては、エラーが表示された行を注意深くチェックする。<br>\n",
    "行番号はメニューの<strong> `View` ⇒ `Toggle Line Numbers` </strong>を選択すると表示されるようになる。\n",
    "2. 長いエラーメッセージの最後のほうに、<br>\n",
    "<strong>`This is probably because cuDNN failed to initialize, ...`</strong><br>\n",
    "といったメッセージが現れた場合、前に実行した Jupyter Notebook が GPU のリソースを解放していないケースが多い。<br>\n",
    "前に実行したノートブック上で、メニューから <strong> `Kernel` ⇒ `Shutdown` </strong>を選択してカーネルを落とすか、<br>\n",
    "ノートブックを開いたときに自動的に起動したコマンドプロンプトを、<br>\n",
    "右上の赤いバツ印ボタンを何回か押して強制的に閉じてから、<br>\n",
    "再度、startJupyter.bat をダブルクリックし、動かしたいノートブックを選択してから<strong> `Cell` ⇒ `Run All`</strong> で実行する。\n",
    "3. 長いエラーメッセージの最後のほうに、<br>\n",
    "<strong>`ResourceExhaustedError`</strong><br>\n",
    "といった文字が現れた場合、起動時に自動的に開かれたコマンドプロンプトをチェックし、<br>\n",
    "<strong>`ran out of memory trying to allocate ...`</strong><br>\n",
    "といった、ＧＰＵのメモリー不足によるエラー <strong>`OOM  (Out Of Memory)`</strong>が表示されているときは、<br>\n",
    "    - `batch_size` の値を半分に減らして再度試してみる。\n",
    "    - `ImageDataGenerator` を使っていない場合は、この関数を使って `batch_size` ずつ逐次的にデータを処理できるように変更する。\n",
    "    - モデルの構成をより小規模にする。\n",
    "    - より多くのビデオメモリを搭載したＧＰＵにアップグレードする。<br>\n",
    "<font color='red'>ただし、必要な電源容量、電源コネクタの種類と数、物理的なサイズ、などの条件を事前に調べること！</font>"
   ]
  }
 ],
 "metadata": {
  "kernelspec": {
   "display_name": "Python 3",
   "language": "python",
   "name": "python3"
  },
  "language_info": {
   "codemirror_mode": {
    "name": "ipython",
    "version": 3
   },
   "file_extension": ".py",
   "mimetype": "text/x-python",
   "name": "python",
   "nbconvert_exporter": "python",
   "pygments_lexer": "ipython3",
   "version": "3.7.3"
  }
 },
 "nbformat": 4,
 "nbformat_minor": 2
}
