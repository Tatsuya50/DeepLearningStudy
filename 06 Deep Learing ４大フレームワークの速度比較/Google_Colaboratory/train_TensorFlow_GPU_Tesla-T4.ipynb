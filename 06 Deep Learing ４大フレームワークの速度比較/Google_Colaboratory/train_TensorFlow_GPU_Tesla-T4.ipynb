{
 "cells": [
  {
   "cell_type": "markdown",
   "metadata": {
    "colab_type": "text",
    "id": "YettIHl36IXF"
   },
   "source": [
    "## Train TensorFlow : GPU\n",
    "\n",
    "参考：<br>\n",
    "- 深層学習コンパイラTVMと主要深層学習フレームワークをColaboratoryで使い倒そう<br>\n",
    "https://qiita.com/stakemura/items/1761be70a06fa8ee853f\n",
    "\n",
    "- 簡単なCNNによるディープラーニングライブラリ速度比較<br>\n",
    "https://qiita.com/daigo0927/items/8092f3ff5276ffc4f088"
   ]
  },
  {
   "cell_type": "markdown",
   "metadata": {
    "colab_type": "text",
    "id": "IblmOlUF6Pak"
   },
   "source": [
    "## GPU モードの設定\n",
    "\n",
    "メニューより<br>\n",
    "　　<strong>ランタイム  ⇒  ランタイムのタイプを変更</strong> <br>\n",
    " を選択して、現れたダイアログで<br>\n",
    "- ランタイムのタイプ  = <font color='red'><strong>Python3</strong></font>\n",
    "- ハードウェアアクセラレータ  = <font color='red'><strong>GPU</strong></font>\n",
    "- このノートブックを保存する際にコードセルの出力を除外する = <font color='red'><strong>OFF</strong></font>\n",
    "\n",
    "に設定してから【保存】ボタンを押す。"
   ]
  },
  {
   "cell_type": "markdown",
   "metadata": {
    "colab_type": "text",
    "id": "a8qqGJ4Z6WPA"
   },
   "source": [
    "## Google Drive をマウント\n",
    "\n",
    "### <font color='red'>注意</font>\n",
    "ランタイムの最初において、下記のコードを実行すると、<font color='red'><strong>認証コード</strong></font> の URL が表示される。<br>\n",
    "URL をクリックして、リンク先で自分のアカウントを選択して認証した後、<br>\n",
    "表示された認証コードをコピーして、下記の入力欄にペーストすればマウントが完了する。\n",
    "\n",
    "### 参考：\n",
    "　　Google ドライブの使い方<br>\n",
    "　　https://www.appsupport.jp/category/drive/"
   ]
  },
  {
   "cell_type": "code",
   "execution_count": 1,
   "metadata": {
    "colab": {
     "base_uri": "https://localhost:8080/",
     "height": 122
    },
    "colab_type": "code",
    "executionInfo": {
     "elapsed": 18115,
     "status": "ok",
     "timestamp": 1566725436283,
     "user": {
      "displayName": "和田健之介",
      "photoUrl": "",
      "userId": "03241864071079520021"
     },
     "user_tz": -540
    },
    "id": "IOl_6Jc16XQe",
    "outputId": "26b5b5f2-8fee-47e5-b0ba-17d7ee3b7d69"
   },
   "outputs": [
    {
     "name": "stdout",
     "output_type": "stream",
     "text": [
      "Go to this URL in a browser: https://accounts.google.com/o/oauth2/auth?client_id=947318989803-6bn6qk8qdgf4n4g3pfee6491hc0brc4i.apps.googleusercontent.com&redirect_uri=urn%3Aietf%3Awg%3Aoauth%3A2.0%3Aoob&scope=email%20https%3A%2F%2Fwww.googleapis.com%2Fauth%2Fdocs.test%20https%3A%2F%2Fwww.googleapis.com%2Fauth%2Fdrive%20https%3A%2F%2Fwww.googleapis.com%2Fauth%2Fdrive.photos.readonly%20https%3A%2F%2Fwww.googleapis.com%2Fauth%2Fpeopleapi.readonly&response_type=code\n",
      "\n",
      "Enter your authorization code:\n",
      "··········\n",
      "Mounted at /content/drive\n"
     ]
    }
   ],
   "source": [
    "from google.colab import drive\n",
    "drive.mount('/content/drive')"
   ]
  },
  {
   "cell_type": "markdown",
   "metadata": {
    "colab_type": "text",
    "id": "Pc5ZmdsP6bqS"
   },
   "source": [
    "## パスを追加して独自のパッケージをインポートできるようにする"
   ]
  },
  {
   "cell_type": "code",
   "execution_count": 0,
   "metadata": {
    "colab": {},
    "colab_type": "code",
    "id": "ZR5GnuAE6fh4"
   },
   "outputs": [],
   "source": [
    "import sys\n",
    "sys.path.append('/content/drive/My Drive/compare_deeplibs')"
   ]
  },
  {
   "cell_type": "code",
   "execution_count": 3,
   "metadata": {
    "colab": {
     "base_uri": "https://localhost:8080/",
     "height": 221
    },
    "colab_type": "code",
    "executionInfo": {
     "elapsed": 19736,
     "status": "ok",
     "timestamp": 1566725437922,
     "user": {
      "displayName": "和田健之介",
      "photoUrl": "",
      "userId": "03241864071079520021"
     },
     "user_tz": -540
    },
    "id": "YldPy_pP6g0K",
    "outputId": "320a1531-f604-4b71-e6cc-bf1a7af7a0f6"
   },
   "outputs": [
    {
     "name": "stdout",
     "output_type": "stream",
     "text": [
      "total 1296\n",
      "drwx------ 2 root root    4096 Aug 25 05:33 CIFAR10\n",
      "-rw------- 1 root root   11115 Aug 25 09:28 lap_record.csv\n",
      "-rw------- 1 root root 1172512 Aug 25 08:28 model_torch.pth\n",
      "drwx------ 2 root root    4096 Aug 24 23:11 __pycache__\n",
      "-rw------- 1 root root   19208 Aug 25 09:05 train_Chainer_GPU_Tesla-T4.ipynb\n",
      "-rw------- 1 root root   20858 Aug 25 08:43 train_Keras_GPU_Tesla-T4.ipynb\n",
      "-rw------- 1 root root   30977 Aug 25 06:51 train_Keras_TPU.ipynb\n",
      "-rw------- 1 root root   19410 Aug 25 09:29 train_PyTorch_GPU_Tesla-T4.ipynb\n",
      "-rw------- 1 root root   19678 Aug 25 06:38 train_TensorFlow_GPU_Tesla-K80.ipynb\n",
      "-rw------- 1 root root   19634 Aug 25 08:44 train_TensorFlow_GPU_Tesla-T4.ipynb\n",
      "-rw------- 1 root root    3432 Aug 24 22:59 utils.py\n"
     ]
    }
   ],
   "source": [
    "!ls -l /content/drive/'My Drive'/compare_deeplibs"
   ]
  },
  {
   "cell_type": "code",
   "execution_count": 4,
   "metadata": {
    "colab": {
     "base_uri": "https://localhost:8080/",
     "height": 34
    },
    "colab_type": "code",
    "executionInfo": {
     "elapsed": 21000,
     "status": "ok",
     "timestamp": 1566725439194,
     "user": {
      "displayName": "和田健之介",
      "photoUrl": "",
      "userId": "03241864071079520021"
     },
     "user_tz": -540
    },
    "id": "wvihkglx6ltk",
    "outputId": "07185210-8a48-48bf-bc9d-a795a421c6dc"
   },
   "outputs": [
    {
     "name": "stderr",
     "output_type": "stream",
     "text": [
      "Using TensorFlow backend.\n"
     ]
    }
   ],
   "source": [
    "from utils import load_cifar10, load_cifar100, show_progress"
   ]
  },
  {
   "cell_type": "markdown",
   "metadata": {
    "colab_type": "text",
    "id": "YbjRlvzw6nOO"
   },
   "source": [
    "## TensorFlow のバージョンの確認"
   ]
  },
  {
   "cell_type": "code",
   "execution_count": 5,
   "metadata": {
    "colab": {
     "base_uri": "https://localhost:8080/",
     "height": 34
    },
    "colab_type": "code",
    "executionInfo": {
     "elapsed": 20995,
     "status": "ok",
     "timestamp": 1566725439196,
     "user": {
      "displayName": "和田健之介",
      "photoUrl": "",
      "userId": "03241864071079520021"
     },
     "user_tz": -540
    },
    "id": "pCTVDVcU6sl0",
    "outputId": "b56ef044-b9ee-4f88-9320-e67d84ab2975"
   },
   "outputs": [
    {
     "name": "stdout",
     "output_type": "stream",
     "text": [
      "TensorFlow:  1.14.0\n"
     ]
    }
   ],
   "source": [
    "import tensorflow as tf\n",
    "print(\"TensorFlow: \", tf.__version__)"
   ]
  },
  {
   "cell_type": "markdown",
   "metadata": {
    "colab_type": "text",
    "id": "5jU6L-lTTgPM"
   },
   "source": [
    "## GPU のデバイスの情報を表示"
   ]
  },
  {
   "cell_type": "code",
   "execution_count": 6,
   "metadata": {
    "colab": {
     "base_uri": "https://localhost:8080/",
     "height": 34
    },
    "colab_type": "code",
    "executionInfo": {
     "elapsed": 22191,
     "status": "ok",
     "timestamp": 1566725440405,
     "user": {
      "displayName": "和田健之介",
      "photoUrl": "",
      "userId": "03241864071079520021"
     },
     "user_tz": -540
    },
    "id": "yayjFvVcTjQJ",
    "outputId": "a714dcb1-50d9-44fd-b209-cb480a03cde6"
   },
   "outputs": [
    {
     "name": "stdout",
     "output_type": "stream",
     "text": [
      "Tesla T4\n"
     ]
    }
   ],
   "source": [
    "from torch import cuda\n",
    "assert cuda.is_available()\n",
    "assert cuda.device_count() > 0\n",
    "device_name = cuda.get_device_name(cuda.current_device())\n",
    "print(device_name)"
   ]
  },
  {
   "cell_type": "markdown",
   "metadata": {
    "colab_type": "text",
    "id": "jFQ30_BV-KwW"
   },
   "source": [
    "## Warnings の抑制\n",
    "\n",
    "今後の変更点などが警告として表示されるので、以下のセルの各文をコメントアウトして、一度は眺めておくと参考になる。"
   ]
  },
  {
   "cell_type": "code",
   "execution_count": 0,
   "metadata": {
    "colab": {},
    "colab_type": "code",
    "id": "GaSaq3fv-Ngm"
   },
   "outputs": [],
   "source": [
    "import warnings\n",
    "warnings.filterwarnings('ignore')\n",
    "\n",
    "import tensorflow as tf\n",
    "tf.logging.set_verbosity(tf.logging.ERROR)"
   ]
  },
  {
   "cell_type": "markdown",
   "metadata": {
    "colab_type": "text",
    "id": "p6yYIVTG6ym4"
   },
   "source": [
    "## モデルを構築するクラス"
   ]
  },
  {
   "cell_type": "code",
   "execution_count": 0,
   "metadata": {
    "colab": {},
    "colab_type": "code",
    "id": "J4sMqoft6Aem"
   },
   "outputs": [],
   "source": [
    "from tensorflow.layers import Conv2D, BatchNormalization\n",
    "from tensorflow.layers import MaxPooling2D, Flatten, Dense\n",
    "from tensorflow.nn import relu\n",
    "\n",
    "class CNN(object):\n",
    "    def __init__(self, num_output, name='cnn'):\n",
    "        self.num_output = num_output\n",
    "        self.name = name\n",
    "\n",
    "    def __call__(self, inputs):\n",
    "        with tf.variable_scope(self.name) as vs:\n",
    "            x = Conv2D(64, (5, 5), (1, 1), 'same')(inputs)\n",
    "            x = BatchNormalization()(x)\n",
    "            x = relu(x)\n",
    "            x = MaxPooling2D((2, 2), (2, 2), 'same')(x)\n",
    "            \n",
    "            x = Conv2D(128, (5, 5), (1, 1), 'same')(x)\n",
    "            x = BatchNormalization()(x)\n",
    "            x = relu(x)\n",
    "            x = MaxPooling2D((2, 2), (2, 2), 'same')(x)\n",
    "            \n",
    "            x = Flatten()(x)\n",
    "            logits = Dense(self.num_output)(x)\n",
    "\n",
    "            return logits\n",
    "\n",
    "    @property\n",
    "    def vars(self):\n",
    "        return [var for var in tf.global_variables() if self.name in var.name]"
   ]
  },
  {
   "cell_type": "markdown",
   "metadata": {
    "colab_type": "text",
    "id": "0FrQf2BY8inH"
   },
   "source": [
    "## 学習を管理するクラス"
   ]
  },
  {
   "cell_type": "code",
   "execution_count": 0,
   "metadata": {
    "colab": {},
    "colab_type": "code",
    "id": "syLswrgf6Aeo"
   },
   "outputs": [],
   "source": [
    "import time\n",
    "import os\n",
    "import numpy as np\n",
    "from tensorflow.train import Saver, AdamOptimizer\n",
    "\n",
    "class Trainer(object):\n",
    "    def __init__(self, num_epochs, batch_size):\n",
    "        self.num_epochs = num_epochs\n",
    "        self.batch_size = batch_size\n",
    "        self.sess = tf.Session()\n",
    "        self.load_cifar10()\n",
    "        self.build_graph()\n",
    "\n",
    "    def load_cifar10(self):\n",
    "        (self.x_train, self.y_train), (self.x_test, self.y_test) = load_cifar10()\n",
    "\n",
    "    def load_cifar100(self):\n",
    "        (self.x_train, self.y_train), (self.x_test, self.y_test) = load_cifar100()\n",
    "\n",
    "    def build_graph(self):\n",
    "        self.images = tf.placeholder(tf.float32, shape=(self.batch_size, 32, 32, 3), name='images')\n",
    "        self.labels = tf.placeholder(tf.float32, shape=(self.batch_size, 10)       , name='labels')\n",
    "\n",
    "        self.net = CNN(num_output=10)\n",
    "        self.logits = self.net(self.images)\n",
    "\n",
    "        self.loss = tf.losses.softmax_cross_entropy(self.labels, self.logits)\n",
    "\n",
    "        self.preds = tf.nn.softmax(self.logits)\n",
    "        self.accuracy = tf.reduce_mean(tf.reduce_sum(self.labels * self.preds, axis=1))\n",
    "        \n",
    "        self.opt = AdamOptimizer().minimize(self.loss, var_list=self.net.vars)\n",
    "\n",
    "        self.saver = Saver()\n",
    "        self.sess.run(tf.global_variables_initializer())\n",
    "\n",
    "    def train(self):\n",
    "        num_batches = int(len(self.x_train) / self.batch_size)\n",
    "        print('epochs : {}, number of batches : {}'.format(self.num_epochs, num_batches))\n",
    "\n",
    "        lap_times = []\n",
    "        # training iteration\n",
    "        for e in range(self.num_epochs):\n",
    "            permute_idx = np.random.permutation(np.arange(50000))\n",
    "            lap_time = []\n",
    "            \n",
    "            for b in range(num_batches):\n",
    "                x_batch = self.x_train[permute_idx[b*self.batch_size:(b+1)*self.batch_size]]\n",
    "                y_batch = self.y_train[permute_idx[b*self.batch_size:(b+1)*self.batch_size]]\n",
    "\n",
    "                s_time = time.time()\n",
    "                _, loss, acc = self.sess.run([self.opt, self.loss, self.accuracy],\n",
    "                                             feed_dict={self.images:x_batch, self.labels:y_batch})\n",
    "                e_time = time.time()\n",
    "                lap_time.append(e_time - s_time)\n",
    "\n",
    "                if b % 10 == 0:\n",
    "                    show_progress(e+1, b+1, num_batches, loss, acc)\n",
    "\n",
    "            # record single epoch training lap-time\n",
    "            lap_times.append(np.sum(lap_time))\n",
    "            \n",
    "            # validation\n",
    "            accs_val = []\n",
    "            for b in range(int(len(self.x_test) / self.batch_size)):\n",
    "                x_val = self.x_test[b*self.batch_size:(b+1)*self.batch_size]\n",
    "                y_val = self.y_test[b*self.batch_size:(b+1)*self.batch_size]\n",
    "                \n",
    "                acc_val = self.sess.run(self.accuracy,\n",
    "                                        feed_dict={self.images:x_val, self.labels:y_val})\n",
    "                accs_val.append(acc_val)\n",
    "            print('\\n{} epoch validation accuracy {}'.format(e+1, np.mean(accs_val)))\n",
    "\n",
    "            # save trained model\n",
    "            #if not os.path.exists('/content/drive/My Drive/compare_deeplibs/model_tf'):\n",
    "            #    os.mkdir('/content/drive/My Drive/compare_deeplibs/model_tf')\n",
    "\n",
    "            #self.saver.save(self.sess, '/content/drive/My Drive/compare_deeplibs/model_tf/model{}.ckpt'.format(e))\n",
    "\n",
    "        # record training time\n",
    "        with open('/content/drive/My Drive/compare_deeplibs/lap_record.csv', 'a') as f:\n",
    "            f.write('TensorFlow-GPU')\n",
    "            f.write(',' + device_name)\n",
    "            for lap in lap_times:\n",
    "                f.write(',' + str(lap))\n",
    "            f.write('\\n')"
   ]
  },
  {
   "cell_type": "markdown",
   "metadata": {
    "colab_type": "text",
    "id": "jVkw88NY8e-l"
   },
   "source": [
    "## 学習を実行するための関数"
   ]
  },
  {
   "cell_type": "code",
   "execution_count": 0,
   "metadata": {
    "colab": {},
    "colab_type": "code",
    "id": "cVZYLgsm6Aeq"
   },
   "outputs": [],
   "source": [
    "def train_tf(args):\n",
    "    os.environ['CUDA_VISIBLE_DEVICES'] = str(args['gpu_id'])\n",
    "\n",
    "    trainer = Trainer(num_epochs = args['epochs'],\n",
    "                      batch_size = args['batch_size'])\n",
    "    trainer.train()"
   ]
  },
  {
   "cell_type": "markdown",
   "metadata": {
    "colab_type": "text",
    "id": "cVLXMdvO8YKl"
   },
   "source": [
    "## 計算開始時刻の記録\n",
    "\n",
    "Google Colaboratory で実行する際に、日本時間の時刻を表示するためにはタイムゾーンの取得が必要となる。"
   ]
  },
  {
   "cell_type": "code",
   "execution_count": 11,
   "metadata": {
    "colab": {
     "base_uri": "https://localhost:8080/",
     "height": 34
    },
    "colab_type": "code",
    "executionInfo": {
     "elapsed": 22165,
     "status": "ok",
     "timestamp": 1566725440411,
     "user": {
      "displayName": "和田健之介",
      "photoUrl": "",
      "userId": "03241864071079520021"
     },
     "user_tz": -540
    },
    "id": "cSZbd9dP8bWT",
    "outputId": "1045bf7e-8cce-4525-fb05-ab31ca316f57"
   },
   "outputs": [
    {
     "name": "stdout",
     "output_type": "stream",
     "text": [
      "2019-08-25 18:30:41.042922+09:00\n"
     ]
    }
   ],
   "source": [
    "import datetime\n",
    "import pytz\n",
    "\n",
    "start_time = datetime.datetime.now(pytz.timezone('Asia/Tokyo'))\n",
    "print(start_time)"
   ]
  },
  {
   "cell_type": "markdown",
   "metadata": {
    "colab_type": "text",
    "id": "5fcW7whS8VCl"
   },
   "source": [
    "## 学習の実行"
   ]
  },
  {
   "cell_type": "code",
   "execution_count": 12,
   "metadata": {
    "colab": {
     "base_uri": "https://localhost:8080/",
     "height": 833
    },
    "colab_type": "code",
    "executionInfo": {
     "elapsed": 164469,
     "status": "ok",
     "timestamp": 1566725582724,
     "user": {
      "displayName": "和田健之介",
      "photoUrl": "",
      "userId": "03241864071079520021"
     },
     "user_tz": -540
    },
    "id": "MFLn6EFh6Aet",
    "outputId": "b0fbfdae-3677-4e13-ab98-7adbcf15e555"
   },
   "outputs": [
    {
     "name": "stdout",
     "output_type": "stream",
     "text": [
      "{'epochs': 20, 'batch_size': 128, 'gpu_id': 0}\n",
      "epochs       : 20\n",
      "batch_size   : 128\n",
      "gpu_id       : 0\n",
      "load cifar10 data ...\n",
      "Downloading data from https://www.cs.toronto.edu/~kriz/cifar-10-python.tar.gz\n",
      "170500096/170498071 [==============================] - 7s 0us/step\n",
      "epochs : 20, number of batches : 390\n",
      "  1: [  381 /   390] loss: 1.148852 acc: 0.447839\n",
      "1 epoch validation accuracy 0.44495514035224915\n",
      "  2: [  381 /   390] loss: 0.941039 acc: 0.544278\n",
      "2 epoch validation accuracy 0.5342670679092407\n",
      "  3: [  381 /   390] loss: 0.717604 acc: 0.615286\n",
      "3 epoch validation accuracy 0.553236186504364\n",
      "  4: [  381 /   390] loss: 0.646558 acc: 0.648324\n",
      "4 epoch validation accuracy 0.5980484485626221\n",
      "  5: [  381 /   390] loss: 0.818102 acc: 0.598083\n",
      "5 epoch validation accuracy 0.5985779166221619\n",
      "  6: [  381 /   390] loss: 0.439115 acc: 0.751228\n",
      "6 epoch validation accuracy 0.6307581663131714\n",
      "  7: [  381 /   390] loss: 0.574835 acc: 0.702958\n",
      "7 epoch validation accuracy 0.6495941877365112\n",
      "  8: [  381 /   390] loss: 0.573189 acc: 0.699909\n",
      "8 epoch validation accuracy 0.6574640274047852\n",
      "  9: [  381 /   390] loss: 0.620750 acc: 0.699477\n",
      "9 epoch validation accuracy 0.6670037508010864\n",
      " 10: [  381 /   390] loss: 0.412891 acc: 0.778695\n",
      "10 epoch validation accuracy 0.6680485606193542\n",
      " 11: [  381 /   390] loss: 0.361031 acc: 0.801781\n",
      "11 epoch validation accuracy 0.6754342317581177\n",
      " 12: [  381 /   390] loss: 0.309486 acc: 0.821882\n",
      "12 epoch validation accuracy 0.6813099980354309\n",
      " 13: [  381 /   390] loss: 0.397853 acc: 0.799115\n",
      "13 epoch validation accuracy 0.6748797297477722\n",
      " 14: [  381 /   390] loss: 0.379409 acc: 0.817811\n",
      "14 epoch validation accuracy 0.6853650212287903\n",
      " 15: [  381 /   390] loss: 0.286477 acc: 0.857390\n",
      "15 epoch validation accuracy 0.6848067045211792\n",
      " 16: [  381 /   390] loss: 0.237608 acc: 0.868207\n",
      "16 epoch validation accuracy 0.6822289228439331\n",
      " 17: [  381 /   390] loss: 0.267003 acc: 0.878422\n",
      "17 epoch validation accuracy 0.6813347339630127\n",
      " 18: [  381 /   390] loss: 0.224404 acc: 0.884341\n",
      "18 epoch validation accuracy 0.6927414536476135\n",
      " 19: [  381 /   390] loss: 0.269784 acc: 0.876621\n",
      "19 epoch validation accuracy 0.696817934513092\n",
      " 20: [  381 /   390] loss: 0.169174 acc: 0.895033\n",
      "20 epoch validation accuracy 0.687801718711853\n"
     ]
    }
   ],
   "source": [
    "args={\n",
    "    'epochs'     : 20,\n",
    "    'batch_size' : 128,\n",
    "    'gpu_id'     : 0\n",
    "}\n",
    "\n",
    "print(args)\n",
    "\n",
    "for key, value in args.items():\n",
    "    print('{:12s} : {}'.format(key, value))\n",
    "\n",
    "train_tf(args)"
   ]
  },
  {
   "cell_type": "markdown",
   "metadata": {
    "colab_type": "text",
    "id": "miftiFV78I1t"
   },
   "source": [
    "## 学習に要した時間の表示"
   ]
  },
  {
   "cell_type": "code",
   "execution_count": 13,
   "metadata": {
    "colab": {
     "base_uri": "https://localhost:8080/",
     "height": 85
    },
    "colab_type": "code",
    "executionInfo": {
     "elapsed": 164465,
     "status": "ok",
     "timestamp": 1566725582727,
     "user": {
      "displayName": "和田健之介",
      "photoUrl": "",
      "userId": "03241864071079520021"
     },
     "user_tz": -540
    },
    "id": "JCe1Fydu8KfS",
    "outputId": "694eb1bf-46d7-4c07-eb24-ee6b3ca613a1"
   },
   "outputs": [
    {
     "name": "stdout",
     "output_type": "stream",
     "text": [
      "\n",
      "Start   Time  : 2019-08-25 18:30:41.042922+09:00\n",
      "End     Time  : 2019-08-25 18:33:03.390253+09:00\n",
      "Elapsed Time  : 0:02:22.347331\n"
     ]
    }
   ],
   "source": [
    "end_time = datetime.datetime.now(pytz.timezone('Asia/Tokyo'))\n",
    "print(\"\\nStart   Time  : \" + str(start_time))\n",
    "print(  \"End     Time  : \" + str(end_time))\n",
    "print(  \"Elapsed Time  : \" + str(end_time - start_time))"
   ]
  },
  {
   "cell_type": "markdown",
   "metadata": {
    "colab_type": "text",
    "id": "oLUtw8JT8ODO"
   },
   "source": [
    "## Google Colaboratory のセッションを開始してからの経過時間を表示"
   ]
  },
  {
   "cell_type": "code",
   "execution_count": 14,
   "metadata": {
    "colab": {
     "base_uri": "https://localhost:8080/",
     "height": 34
    },
    "colab_type": "code",
    "executionInfo": {
     "elapsed": 165651,
     "status": "ok",
     "timestamp": 1566725583919,
     "user": {
      "displayName": "和田健之介",
      "photoUrl": "",
      "userId": "03241864071079520021"
     },
     "user_tz": -540
    },
    "id": "tbmWklhJ8MAX",
    "outputId": "11cc36c3-6360-452d-a182-c9c255bdb902"
   },
   "outputs": [
    {
     "name": "stdout",
     "output_type": "stream",
     "text": [
      "経過時間 : 0.0619056 hours (222.86 sec)\n"
     ]
    }
   ],
   "source": [
    "!cat /proc/uptime | awk '{print \"経過時間 : \" ($1 / 3600) \" hours (\" $1 \" sec)\"}'"
   ]
  }
 ],
 "metadata": {
  "accelerator": "GPU",
  "colab": {
   "collapsed_sections": [],
   "name": "train_TensorFlow_GPU_Tesla-T4.ipynb",
   "provenance": [],
   "version": "0.3.2"
  },
  "kernelspec": {
   "display_name": "Python 3",
   "language": "python",
   "name": "python3"
  },
  "language_info": {
   "codemirror_mode": {
    "name": "ipython",
    "version": 3
   },
   "file_extension": ".py",
   "mimetype": "text/x-python",
   "name": "python",
   "nbconvert_exporter": "python",
   "pygments_lexer": "ipython3",
   "version": "3.7.3"
  }
 },
 "nbformat": 4,
 "nbformat_minor": 1
}
