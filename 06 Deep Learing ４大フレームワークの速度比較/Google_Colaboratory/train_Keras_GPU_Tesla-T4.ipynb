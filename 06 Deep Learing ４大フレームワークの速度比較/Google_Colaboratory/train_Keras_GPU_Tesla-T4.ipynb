{
 "cells": [
  {
   "cell_type": "markdown",
   "metadata": {
    "colab_type": "text",
    "id": "Mn8f8i3q3wlq"
   },
   "source": [
    "## Train Keras : GPU\n",
    "\n",
    "参考：<br>\n",
    "- 深層学習コンパイラTVMと主要深層学習フレームワークをColaboratoryで使い倒そう<br>\n",
    "https://qiita.com/stakemura/items/1761be70a06fa8ee853f\n",
    "\n",
    "- 簡単なCNNによるディープラーニングライブラリ速度比較<br>\n",
    "https://qiita.com/daigo0927/items/8092f3ff5276ffc4f088\n"
   ]
  },
  {
   "cell_type": "markdown",
   "metadata": {
    "colab_type": "text",
    "id": "2RvfkyhW6R7R"
   },
   "source": [
    "## GPU モードの設定\n",
    "\n",
    "メニューより<br>\n",
    "　　<strong>ランタイム  ⇒  ランタイムのタイプを変更</strong> <br>\n",
    " を選択して、現れたダイアログで<br>\n",
    "- ランタイムのタイプ  = <font color='red'><strong>Python3</strong></font>\n",
    "- ハードウェアアクセラレータ  = <font color='red'><strong>GPU</strong></font>\n",
    "- このノートブックを保存する際にコードセルの出力を除外する = <font color='red'><strong>OFF</strong></font>\n",
    "\n",
    "に設定してから【保存】ボタンを押す。"
   ]
  },
  {
   "cell_type": "markdown",
   "metadata": {
    "colab_type": "text",
    "id": "d_7S-emG3cMj"
   },
   "source": [
    "## Google Drive をマウント\n",
    "\n",
    "### <font color='red'>注意</font>\n",
    "ランタイムの最初において、下記のコードを実行すると、<font color='red'><strong>認証コード</strong></font> の URL が表示される。<br>\n",
    "URL をクリックして、リンク先で自分のアカウントを選択して認証した後、<br>\n",
    "表示された認証コードをコピーして、下記の入力欄にペーストすればマウントが完了する。\n",
    "\n",
    "### 参考：\n",
    "　　Google ドライブの使い方<br>\n",
    "　　https://www.appsupport.jp/category/drive/"
   ]
  },
  {
   "cell_type": "code",
   "execution_count": 1,
   "metadata": {
    "colab": {
     "base_uri": "https://localhost:8080/",
     "height": 122
    },
    "colab_type": "code",
    "executionInfo": {
     "elapsed": 20783,
     "status": "ok",
     "timestamp": 1566726968538,
     "user": {
      "displayName": "和田健之介",
      "photoUrl": "",
      "userId": "03241864071079520021"
     },
     "user_tz": -540
    },
    "id": "_f4VCYtW3MYA",
    "outputId": "5847c637-981d-4bc5-a329-4521e627e1f6"
   },
   "outputs": [
    {
     "name": "stdout",
     "output_type": "stream",
     "text": [
      "Go to this URL in a browser: https://accounts.google.com/o/oauth2/auth?client_id=947318989803-6bn6qk8qdgf4n4g3pfee6491hc0brc4i.apps.googleusercontent.com&redirect_uri=urn%3Aietf%3Awg%3Aoauth%3A2.0%3Aoob&scope=email%20https%3A%2F%2Fwww.googleapis.com%2Fauth%2Fdocs.test%20https%3A%2F%2Fwww.googleapis.com%2Fauth%2Fdrive%20https%3A%2F%2Fwww.googleapis.com%2Fauth%2Fdrive.photos.readonly%20https%3A%2F%2Fwww.googleapis.com%2Fauth%2Fpeopleapi.readonly&response_type=code\n",
      "\n",
      "Enter your authorization code:\n",
      "··········\n",
      "Mounted at /content/drive\n"
     ]
    }
   ],
   "source": [
    "from google.colab import drive\n",
    "drive.mount('/content/drive')"
   ]
  },
  {
   "cell_type": "markdown",
   "metadata": {
    "colab_type": "text",
    "id": "Kf_3P7onBJsH"
   },
   "source": [
    "## パスを追加して独自のパッケージをインポートできるようにする"
   ]
  },
  {
   "cell_type": "code",
   "execution_count": 0,
   "metadata": {
    "colab": {},
    "colab_type": "code",
    "id": "-x3XquvX371u"
   },
   "outputs": [],
   "source": [
    "import sys\n",
    "sys.path.append('/content/drive/My Drive/compare_deeplibs')"
   ]
  },
  {
   "cell_type": "code",
   "execution_count": 3,
   "metadata": {
    "colab": {
     "base_uri": "https://localhost:8080/",
     "height": 255
    },
    "colab_type": "code",
    "executionInfo": {
     "elapsed": 22154,
     "status": "ok",
     "timestamp": 1566726969919,
     "user": {
      "displayName": "和田健之介",
      "photoUrl": "",
      "userId": "03241864071079520021"
     },
     "user_tz": -540
    },
    "id": "UATc9TJI4SPB",
    "outputId": "cd4634fd-e908-45d3-aa6f-ba58b19ba0e0"
   },
   "outputs": [
    {
     "name": "stdout",
     "output_type": "stream",
     "text": [
      "total 1328\n",
      "drwx------ 2 root root    4096 Aug 25 05:33 CIFAR10\n",
      "-rw------- 1 root root   12286 Aug 25 09:55 lap_record.csv\n",
      "-rw------- 1 root root 1172512 Aug 25 08:28 model_torch.pth\n",
      "drwx------ 2 root root    4096 Aug 24 23:11 __pycache__\n",
      "-rw------- 1 root root   19192 Aug 25 09:55 train_Chainer_GPU_Tesla-K80.ipynb\n",
      "-rw------- 1 root root   19208 Aug 25 09:55 train_Chainer_GPU_Tesla-T4.ipynb\n",
      "-rw------- 1 root root   20684 Aug 25 09:40 train_Keras_GPU_Tesla-K80.ipynb\n",
      "-rw------- 1 root root   11569 Aug 25 09:56 train_Keras_GPU_Tesla-T4.ipynb\n",
      "-rw------- 1 root root   30977 Aug 25 06:51 train_Keras_TPU.ipynb\n",
      "-rw------- 1 root root   19410 Aug 25 09:29 train_PyTorch_GPU_Tesla-T4.ipynb\n",
      "-rw------- 1 root root   19678 Aug 25 06:38 train_TensorFlow_GPU_Tesla-K80.ipynb\n",
      "-rw------- 1 root root   19457 Aug 25 09:34 train_TensorFlow_GPU_Tesla-T4.ipynb\n",
      "-rw------- 1 root root    3432 Aug 24 22:59 utils.py\n"
     ]
    }
   ],
   "source": [
    "!ls -l /content/drive/'My Drive'/compare_deeplibs"
   ]
  },
  {
   "cell_type": "code",
   "execution_count": 4,
   "metadata": {
    "colab": {
     "base_uri": "https://localhost:8080/",
     "height": 34
    },
    "colab_type": "code",
    "executionInfo": {
     "elapsed": 23439,
     "status": "ok",
     "timestamp": 1566726971206,
     "user": {
      "displayName": "和田健之介",
      "photoUrl": "",
      "userId": "03241864071079520021"
     },
     "user_tz": -540
    },
    "id": "RE9obg7O4Nci",
    "outputId": "cf177973-8630-4abf-e939-4bb7baf306ba"
   },
   "outputs": [
    {
     "name": "stderr",
     "output_type": "stream",
     "text": [
      "Using TensorFlow backend.\n"
     ]
    }
   ],
   "source": [
    "from utils import load_cifar10, load_cifar100, show_progress"
   ]
  },
  {
   "cell_type": "markdown",
   "metadata": {
    "colab_type": "text",
    "id": "pix0ZzmO6xb1"
   },
   "source": [
    "## TensorFlow と Keras のバージョンの確認"
   ]
  },
  {
   "cell_type": "code",
   "execution_count": 5,
   "metadata": {
    "colab": {
     "base_uri": "https://localhost:8080/",
     "height": 51
    },
    "colab_type": "code",
    "executionInfo": {
     "elapsed": 23440,
     "status": "ok",
     "timestamp": 1566726971209,
     "user": {
      "displayName": "和田健之介",
      "photoUrl": "",
      "userId": "03241864071079520021"
     },
     "user_tz": -540
    },
    "id": "MIFQ7qqI61wC",
    "outputId": "e820becd-8a81-4975-e6b5-2ea34cd45c4e"
   },
   "outputs": [
    {
     "name": "stdout",
     "output_type": "stream",
     "text": [
      "TensorFlow:  1.14.0\n",
      "Keras     :  2.2.4\n"
     ]
    }
   ],
   "source": [
    "import tensorflow as tf\n",
    "import keras\n",
    "\n",
    "print(\"TensorFlow: \", tf.__version__)\n",
    "print(\"Keras     : \", keras.__version__)"
   ]
  },
  {
   "cell_type": "markdown",
   "metadata": {
    "colab_type": "text",
    "id": "owTNHgAhS3Zm"
   },
   "source": [
    "## GPU のデバイスの情報を表示"
   ]
  },
  {
   "cell_type": "code",
   "execution_count": 6,
   "metadata": {
    "colab": {
     "base_uri": "https://localhost:8080/",
     "height": 34
    },
    "colab_type": "code",
    "executionInfo": {
     "elapsed": 24745,
     "status": "ok",
     "timestamp": 1566726972517,
     "user": {
      "displayName": "和田健之介",
      "photoUrl": "",
      "userId": "03241864071079520021"
     },
     "user_tz": -540
    },
    "id": "eHJwOWIRS_fT",
    "outputId": "3d3a3c2e-f3be-4333-a467-e1c70d2a03a8"
   },
   "outputs": [
    {
     "name": "stdout",
     "output_type": "stream",
     "text": [
      "Tesla T4\n"
     ]
    }
   ],
   "source": [
    "from torch import cuda\n",
    "assert cuda.is_available()\n",
    "assert cuda.device_count() > 0\n",
    "device_name = cuda.get_device_name(cuda.current_device())\n",
    "print(device_name)"
   ]
  },
  {
   "cell_type": "markdown",
   "metadata": {
    "colab_type": "text",
    "id": "d2VcEB-G69S2"
   },
   "source": [
    "## Warnings の抑制\n",
    "\n",
    "今後の変更点などが警告として表示されるので、以下のセルの各文をコメントアウトして、一度は眺めておくと参考になる。"
   ]
  },
  {
   "cell_type": "code",
   "execution_count": 0,
   "metadata": {
    "colab": {},
    "colab_type": "code",
    "id": "9ukyGWvb6_73"
   },
   "outputs": [],
   "source": [
    "import warnings\n",
    "warnings.filterwarnings('ignore')\n",
    "\n",
    "import tensorflow as tf\n",
    "tf.logging.set_verbosity(tf.logging.ERROR)"
   ]
  },
  {
   "cell_type": "markdown",
   "metadata": {
    "colab_type": "text",
    "id": "dz-CCEoB70Pk"
   },
   "source": [
    "## モデルを構築する関数"
   ]
  },
  {
   "cell_type": "code",
   "execution_count": 0,
   "metadata": {
    "colab": {},
    "colab_type": "code",
    "id": "O3yUcE2e2wV7"
   },
   "outputs": [],
   "source": [
    "from tensorflow.keras.layers import Input, Conv2D, Activation, BatchNormalization\n",
    "from tensorflow.keras.layers import MaxPooling2D, Flatten, Dense\n",
    "from tensorflow.keras.models import Model\n",
    "\n",
    "def cnn(image_size=32, num_output=10):\n",
    "    w = int(image_size)\n",
    "\n",
    "    inputs = Input(shape=(w, w, 3))\n",
    "    x = Conv2D(64, (5, 5), strides=(1, 1), padding='same')(inputs)\n",
    "    x = BatchNormalization()(x)\n",
    "    x = Activation('relu')(x)\n",
    "    x = MaxPooling2D((2, 2))(x)\n",
    "\n",
    "    x = Conv2D(128, (5, 5), strides=(1, 1), padding='same')(x)\n",
    "    x = BatchNormalization()(x)\n",
    "    x = Activation('relu')(x)\n",
    "    x = MaxPooling2D((2, 2))(x)\n",
    "    \n",
    "    x = Flatten()(x)\n",
    "    x = Dense(num_output)(x)\n",
    "    outputs = Activation('softmax')(x)\n",
    "\n",
    "    model = Model(inputs=inputs, outputs=outputs)\n",
    "    model.summary()\n",
    "    \n",
    "    return model"
   ]
  },
  {
   "cell_type": "markdown",
   "metadata": {
    "colab_type": "text",
    "id": "G9hRSO9575QX"
   },
   "source": [
    "## 学習を管理するクラス"
   ]
  },
  {
   "cell_type": "code",
   "execution_count": 0,
   "metadata": {
    "colab": {},
    "colab_type": "code",
    "id": "eW1ohWjA2wV9"
   },
   "outputs": [],
   "source": [
    "import time\n",
    "import os\n",
    "import numpy as np\n",
    "from tensorflow.keras.optimizers import Adam\n",
    "\n",
    "class Trainer(object):\n",
    "    def __init__(self, num_epochs, batch_size):\n",
    "        self.num_epochs = num_epochs\n",
    "        self.batch_size = batch_size\n",
    "        self.net = cnn()\n",
    "        self.opt = Adam()\n",
    "        self.load_cifar10()\n",
    "        self.net.compile(loss='categorical_crossentropy', optimizer=self.opt)\n",
    "\n",
    "    def load_cifar10(self):\n",
    "        (self.x_train, self.y_train), (self.x_test, self.y_test) = load_cifar10()\n",
    "\n",
    "    def load_cifar100(self):\n",
    "        (self.x_train, self.y_train), (self.x_test, self.y_test) = load_cifar100()\n",
    "\n",
    "    def train(self):\n",
    "        num_batches = int(len(self.x_train) / self.batch_size)\n",
    "        print('epochs : {}, number of baches : {}'.format(self.num_epochs, num_batches))\n",
    "\n",
    "        lap_times = []\n",
    "        # training iteration\n",
    "        for e in range(self.num_epochs):\n",
    "            permute_idx = np.random.permutation(np.arange(50000))\n",
    "            lap_time = []\n",
    "            \n",
    "            for b in range(num_batches):\n",
    "                x_batch = self.x_train[permute_idx[b*self.batch_size:(b+1)*self.batch_size]]\n",
    "                y_batch = self.y_train[permute_idx[b*self.batch_size:(b+1)*self.batch_size]]\n",
    "\n",
    "                s_time = time.time()\n",
    "                loss = self.net.train_on_batch(x_batch, y_batch)\n",
    "                e_time = time.time()\n",
    "                lap_time.append(e_time - s_time)\n",
    "\n",
    "                if b % 10 == 0:\n",
    "                    preds = self.net.predict(x_batch)\n",
    "                    acc = np.mean(np.sum(preds*y_batch, axis = 1))\n",
    "                    show_progress(e+1, b+1, num_batches, loss, acc)\n",
    "\n",
    "            # record single epoch training lap-time\n",
    "            lap_times.append(np.sum(lap_time))\n",
    "\n",
    "            # validation\n",
    "            accs_val = []\n",
    "            for b in range(int(len(self.x_test) / self.batch_size)):\n",
    "                x_val = self.x_test[b*self.batch_size:(b+1)*self.batch_size]\n",
    "                y_val = self.y_test[b*self.batch_size:(b+1)*self.batch_size]\n",
    "                \n",
    "                preds_val = self.net.predict(x_val)\n",
    "                acc_val = np.mean(np.sum(preds_val * y_val, axis=1))\n",
    "                accs_val.append(acc_val)\n",
    "            print('\\n{} epoch validation accuracy {}'.format(e+1, np.mean(accs_val)))\n",
    "\n",
    "            # save trained model\n",
    "            #if not os.path.exists('/content/drive/My Drive/compare_deeplibs/model_keras'):\n",
    "            #    os.mkdir('/content/drive/My Drive/compare_deeplibs/model_keras')\n",
    "\n",
    "            #self.net.save_weights('/content/drive/My Drive/compare_deeplibs/model_keras/model_{}.h5'.format(e))\n",
    "\n",
    "        with open('/content/drive/My Drive/compare_deeplibs/lap_record.csv', 'a') as f:\n",
    "            f.write('Keras-GPU')\n",
    "            f.write(',' + device_name)\n",
    "            for lap in lap_times:\n",
    "                f.write(',' + str(lap))\n",
    "            f.write('\\n')"
   ]
  },
  {
   "cell_type": "markdown",
   "metadata": {
    "colab_type": "text",
    "id": "tIdqyfnL7_XK"
   },
   "source": [
    "## 学習を実行するための関数"
   ]
  },
  {
   "cell_type": "code",
   "execution_count": 0,
   "metadata": {
    "colab": {},
    "colab_type": "code",
    "id": "_WGDFpSa2wV_"
   },
   "outputs": [],
   "source": [
    "def train_keras(args):\n",
    "    os.environ['CUDA_VISIBLE_DEVICES'] = str(args['gpu_id'])\n",
    "\n",
    "    trainer = Trainer(num_epochs = args['epochs'],\n",
    "                      batch_size = args['batch_size'])\n",
    "    trainer.train()"
   ]
  },
  {
   "cell_type": "markdown",
   "metadata": {
    "colab_type": "text",
    "id": "H7kRXLdu8dFS"
   },
   "source": [
    "## 計算開始時刻の記録\n",
    "\n",
    "Google Colaboratory で実行する際に、日本時間の時刻を表示するためにはタイムゾーンの取得が必要となる。"
   ]
  },
  {
   "cell_type": "code",
   "execution_count": 11,
   "metadata": {
    "colab": {
     "base_uri": "https://localhost:8080/",
     "height": 34
    },
    "colab_type": "code",
    "executionInfo": {
     "elapsed": 24733,
     "status": "ok",
     "timestamp": 1566726972521,
     "user": {
      "displayName": "和田健之介",
      "photoUrl": "",
      "userId": "03241864071079520021"
     },
     "user_tz": -540
    },
    "id": "htodS0Y65y8h",
    "outputId": "19e5ce86-163f-49cf-a98a-dd4764ceb0c6"
   },
   "outputs": [
    {
     "name": "stdout",
     "output_type": "stream",
     "text": [
      "2019-08-25 18:56:13.142215+09:00\n"
     ]
    }
   ],
   "source": [
    "import datetime\n",
    "import pytz\n",
    "\n",
    "start_time = datetime.datetime.now(pytz.timezone('Asia/Tokyo'))\n",
    "print(start_time)"
   ]
  },
  {
   "cell_type": "markdown",
   "metadata": {
    "colab_type": "text",
    "id": "PqR9SJFS8f7G"
   },
   "source": [
    "## 学習の実行"
   ]
  },
  {
   "cell_type": "code",
   "execution_count": 12,
   "metadata": {
    "colab": {
     "base_uri": "https://localhost:8080/",
     "height": 1000
    },
    "colab_type": "code",
    "executionInfo": {
     "elapsed": 185176,
     "status": "ok",
     "timestamp": 1566727132966,
     "user": {
      "displayName": "和田健之介",
      "photoUrl": "",
      "userId": "03241864071079520021"
     },
     "user_tz": -540
    },
    "id": "v02Hwlw_2wWA",
    "outputId": "eec930dc-4d5e-446d-efbe-6557961d1404"
   },
   "outputs": [
    {
     "name": "stdout",
     "output_type": "stream",
     "text": [
      "{'epochs': 20, 'batch_size': 128, 'gpu_id': 0}\n",
      "epochs       : 20\n",
      "batch_size   : 128\n",
      "gpu_id       : 0\n",
      "Model: \"model\"\n",
      "_________________________________________________________________\n",
      "Layer (type)                 Output Shape              Param #   \n",
      "=================================================================\n",
      "input_1 (InputLayer)         [(None, 32, 32, 3)]       0         \n",
      "_________________________________________________________________\n",
      "conv2d (Conv2D)              (None, 32, 32, 64)        4864      \n",
      "_________________________________________________________________\n",
      "batch_normalization (BatchNo (None, 32, 32, 64)        256       \n",
      "_________________________________________________________________\n",
      "activation (Activation)      (None, 32, 32, 64)        0         \n",
      "_________________________________________________________________\n",
      "max_pooling2d (MaxPooling2D) (None, 16, 16, 64)        0         \n",
      "_________________________________________________________________\n",
      "conv2d_1 (Conv2D)            (None, 16, 16, 128)       204928    \n",
      "_________________________________________________________________\n",
      "batch_normalization_1 (Batch (None, 16, 16, 128)       512       \n",
      "_________________________________________________________________\n",
      "activation_1 (Activation)    (None, 16, 16, 128)       0         \n",
      "_________________________________________________________________\n",
      "max_pooling2d_1 (MaxPooling2 (None, 8, 8, 128)         0         \n",
      "_________________________________________________________________\n",
      "flatten (Flatten)            (None, 8192)              0         \n",
      "_________________________________________________________________\n",
      "dense (Dense)                (None, 10)                81930     \n",
      "_________________________________________________________________\n",
      "activation_2 (Activation)    (None, 10)                0         \n",
      "=================================================================\n",
      "Total params: 292,490\n",
      "Trainable params: 292,106\n",
      "Non-trainable params: 384\n",
      "_________________________________________________________________\n",
      "load cifar10 data ...\n",
      "Downloading data from https://www.cs.toronto.edu/~kriz/cifar-10-python.tar.gz\n",
      "170500096/170498071 [==============================] - 2s 0us/step\n",
      "epochs : 20, number of baches : 390\n",
      "  1: [  381 /   390] loss: 1.057863 acc: 0.333249\n",
      "1 epoch validation accuracy 0.28430625796318054\n",
      "  2: [  381 /   390] loss: 0.997574 acc: 0.518469\n",
      "2 epoch validation accuracy 0.46193793416023254\n",
      "  3: [  381 /   390] loss: 0.752095 acc: 0.553474\n",
      "3 epoch validation accuracy 0.4702349305152893\n",
      "  4: [  381 /   390] loss: 0.858395 acc: 0.610733\n",
      "4 epoch validation accuracy 0.5559900403022766\n",
      "  5: [  381 /   390] loss: 0.474554 acc: 0.602622\n",
      "5 epoch validation accuracy 0.5830814838409424\n",
      "  6: [  381 /   390] loss: 0.597593 acc: 0.623606\n",
      "6 epoch validation accuracy 0.5388404130935669\n",
      "  7: [  381 /   390] loss: 0.446432 acc: 0.630803\n",
      "7 epoch validation accuracy 0.6228665709495544\n",
      "  8: [  381 /   390] loss: 0.701035 acc: 0.633648\n",
      "8 epoch validation accuracy 0.5954994559288025\n",
      "  9: [  381 /   390] loss: 0.463284 acc: 0.661400\n",
      "9 epoch validation accuracy 0.6323941946029663\n",
      " 10: [  381 /   390] loss: 0.360899 acc: 0.752289\n",
      "10 epoch validation accuracy 0.6464270353317261\n",
      " 11: [  381 /   390] loss: 0.303828 acc: 0.683601\n",
      "11 epoch validation accuracy 0.6474575996398926\n",
      " 12: [  381 /   390] loss: 0.329587 acc: 0.774895\n",
      "12 epoch validation accuracy 0.6513867974281311\n",
      " 13: [  381 /   390] loss: 0.267594 acc: 0.771601\n",
      "13 epoch validation accuracy 0.662837028503418\n",
      " 14: [  381 /   390] loss: 0.340256 acc: 0.649165\n",
      "14 epoch validation accuracy 0.6511853337287903\n",
      " 15: [  381 /   390] loss: 0.152494 acc: 0.841293\n",
      "15 epoch validation accuracy 0.686983048915863\n",
      " 16: [  381 /   390] loss: 0.204977 acc: 0.858615\n",
      "16 epoch validation accuracy 0.6854317784309387\n",
      " 17: [  381 /   390] loss: 0.181649 acc: 0.796684\n",
      "17 epoch validation accuracy 0.6894012689590454\n",
      " 18: [  381 /   390] loss: 0.217126 acc: 0.773401\n",
      "18 epoch validation accuracy 0.6805891990661621\n",
      " 19: [  381 /   390] loss: 0.188686 acc: 0.845937\n",
      "19 epoch validation accuracy 0.672656774520874\n",
      " 20: [  381 /   390] loss: 0.184165 acc: 0.799393\n",
      "20 epoch validation accuracy 0.6784338355064392\n"
     ]
    }
   ],
   "source": [
    "args={\n",
    "    'epochs'     : 20,\n",
    "    'batch_size' : 128,\n",
    "    'gpu_id'     : 0\n",
    "}\n",
    "\n",
    "print(args)\n",
    "\n",
    "for key, value in args.items():\n",
    "    print('{:12s} : {}'.format(key, value))\n",
    "\n",
    "train_keras(args)"
   ]
  },
  {
   "cell_type": "markdown",
   "metadata": {
    "colab_type": "text",
    "id": "CVxyefrT8kS4"
   },
   "source": [
    "## 学習に要した時間の表示"
   ]
  },
  {
   "cell_type": "code",
   "execution_count": 13,
   "metadata": {
    "colab": {
     "base_uri": "https://localhost:8080/",
     "height": 85
    },
    "colab_type": "code",
    "executionInfo": {
     "elapsed": 185173,
     "status": "ok",
     "timestamp": 1566727132968,
     "user": {
      "displayName": "和田健之介",
      "photoUrl": "",
      "userId": "03241864071079520021"
     },
     "user_tz": -540
    },
    "id": "ZTKBk_s3568s",
    "outputId": "852ac2f0-f902-47d8-9699-a27887f12a68"
   },
   "outputs": [
    {
     "name": "stdout",
     "output_type": "stream",
     "text": [
      "\n",
      "Start   Time  : 2019-08-25 18:56:13.142215+09:00\n",
      "End     Time  : 2019-08-25 18:58:53.556727+09:00\n",
      "Elapsed Time  : 0:02:40.414512\n"
     ]
    }
   ],
   "source": [
    "end_time = datetime.datetime.now(pytz.timezone('Asia/Tokyo'))\n",
    "print(\"\\nStart   Time  : \" + str(start_time))\n",
    "print(  \"End     Time  : \" + str(end_time))\n",
    "print(  \"Elapsed Time  : \" + str(end_time - start_time))"
   ]
  },
  {
   "cell_type": "markdown",
   "metadata": {
    "colab_type": "text",
    "id": "4ilWSYNW8psq"
   },
   "source": [
    "## Google Colaboratory のセッションを開始してからの経過時間を表示"
   ]
  },
  {
   "cell_type": "code",
   "execution_count": 14,
   "metadata": {
    "colab": {
     "base_uri": "https://localhost:8080/",
     "height": 34
    },
    "colab_type": "code",
    "executionInfo": {
     "elapsed": 186597,
     "status": "ok",
     "timestamp": 1566727134394,
     "user": {
      "displayName": "和田健之介",
      "photoUrl": "",
      "userId": "03241864071079520021"
     },
     "user_tz": -540
    },
    "id": "BWYJCSwI5-Mg",
    "outputId": "edb2c66b-0193-4443-bc54-72074e02869b"
   },
   "outputs": [
    {
     "name": "stdout",
     "output_type": "stream",
     "text": [
      "経過時間 : 0.0684194 hours (246.31 sec)\n"
     ]
    }
   ],
   "source": [
    "!cat /proc/uptime | awk '{print \"経過時間 : \" ($1 / 3600) \" hours (\" $1 \" sec)\"}'"
   ]
  }
 ],
 "metadata": {
  "accelerator": "GPU",
  "colab": {
   "collapsed_sections": [],
   "name": "train_Keras_GPU_Tesla-T4.ipynb",
   "provenance": [],
   "version": "0.3.2"
  },
  "kernelspec": {
   "display_name": "Python 3",
   "language": "python",
   "name": "python3"
  },
  "language_info": {
   "codemirror_mode": {
    "name": "ipython",
    "version": 3
   },
   "file_extension": ".py",
   "mimetype": "text/x-python",
   "name": "python",
   "nbconvert_exporter": "python",
   "pygments_lexer": "ipython3",
   "version": "3.7.3"
  }
 },
 "nbformat": 4,
 "nbformat_minor": 1
}
