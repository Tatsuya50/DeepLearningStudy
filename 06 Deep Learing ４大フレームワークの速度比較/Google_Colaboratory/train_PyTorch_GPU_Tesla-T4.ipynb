{
 "cells": [
  {
   "cell_type": "markdown",
   "metadata": {
    "colab_type": "text",
    "id": "GB6x5KsBz9EC"
   },
   "source": [
    "## Train Torch : GPU\n",
    "\n",
    "参考：<br>\n",
    "- 深層学習コンパイラTVMと主要深層学習フレームワークをColaboratoryで使い倒そう<br>\n",
    "https://qiita.com/stakemura/items/1761be70a06fa8ee853f\n",
    "\n",
    "- 簡単なCNNによるディープラーニングライブラリ速度比較<br>\n",
    "https://qiita.com/daigo0927/items/8092f3ff5276ffc4f088"
   ]
  },
  {
   "cell_type": "markdown",
   "metadata": {
    "colab_type": "text",
    "id": "DVxjPTWl0Ez9"
   },
   "source": [
    "## GPU モードの設定\n",
    "\n",
    "メニューより<br>\n",
    "　　<strong>ランタイム  ⇒  ランタイムのタイプを変更</strong> <br>\n",
    " を選択して、現れたダイアログで<br>\n",
    "- ランタイムのタイプ  = <font color='red'><strong>Python3</strong></font>\n",
    "- ハードウェアアクセラレータ  = <font color='red'><strong>GPU</strong></font>\n",
    "- このノートブックを保存する際にコードセルの出力を除外する = <font color='red'><strong>OFF</strong></font>\n",
    "\n",
    "に設定してから【保存】ボタンを押す。"
   ]
  },
  {
   "cell_type": "markdown",
   "metadata": {
    "colab_type": "text",
    "id": "BUApsHS70OWn"
   },
   "source": [
    "## Google Drive をマウント\n",
    "\n",
    "### <font color='red'>注意</font>\n",
    "ランタイムの最初において、下記のコードを実行すると、<font color='red'><strong>認証コード</strong></font> の URL が表示される。<br>\n",
    "URL をクリックして、リンク先で自分のアカウントを選択して認証した後、<br>\n",
    "表示された認証コードをコピーして、下記の入力欄にペーストすればマウントが完了する。\n",
    "\n",
    "### 参考：\n",
    "　　Google ドライブの使い方<br>\n",
    "　　https://www.appsupport.jp/category/drive/"
   ]
  },
  {
   "cell_type": "code",
   "execution_count": 0,
   "metadata": {
    "colab": {
     "base_uri": "https://localhost:8080/",
     "height": 122
    },
    "colab_type": "code",
    "executionInfo": {
     "elapsed": 30410,
     "status": "ok",
     "timestamp": 1566725033437,
     "user": {
      "displayName": "和田健之介",
      "photoUrl": "",
      "userId": "03241864071079520021"
     },
     "user_tz": -540
    },
    "id": "jyph42hi0HUt",
    "outputId": "ae2ab7a3-4b57-4905-9691-946ed78ddf5e"
   },
   "outputs": [
    {
     "name": "stdout",
     "output_type": "stream",
     "text": [
      "Go to this URL in a browser: https://accounts.google.com/o/oauth2/auth?client_id=947318989803-6bn6qk8qdgf4n4g3pfee6491hc0brc4i.apps.googleusercontent.com&redirect_uri=urn%3Aietf%3Awg%3Aoauth%3A2.0%3Aoob&scope=email%20https%3A%2F%2Fwww.googleapis.com%2Fauth%2Fdocs.test%20https%3A%2F%2Fwww.googleapis.com%2Fauth%2Fdrive%20https%3A%2F%2Fwww.googleapis.com%2Fauth%2Fdrive.photos.readonly%20https%3A%2F%2Fwww.googleapis.com%2Fauth%2Fpeopleapi.readonly&response_type=code\n",
      "\n",
      "Enter your authorization code:\n",
      "··········\n",
      "Mounted at /content/drive\n"
     ]
    }
   ],
   "source": [
    "from google.colab import drive\n",
    "drive.mount('/content/drive')"
   ]
  },
  {
   "cell_type": "markdown",
   "metadata": {
    "colab_type": "text",
    "id": "Tp-Icruo0SP7"
   },
   "source": [
    "## パスを追加して独自のパッケージをインポートできるようにする"
   ]
  },
  {
   "cell_type": "code",
   "execution_count": 0,
   "metadata": {
    "colab": {},
    "colab_type": "code",
    "id": "8MMOpxEM0U-r"
   },
   "outputs": [],
   "source": [
    "import sys\n",
    "sys.path.append('/content/drive/My Drive/compare_deeplibs')"
   ]
  },
  {
   "cell_type": "code",
   "execution_count": 0,
   "metadata": {
    "colab": {
     "base_uri": "https://localhost:8080/",
     "height": 221
    },
    "colab_type": "code",
    "executionInfo": {
     "elapsed": 32248,
     "status": "ok",
     "timestamp": 1566725035291,
     "user": {
      "displayName": "和田健之介",
      "photoUrl": "",
      "userId": "03241864071079520021"
     },
     "user_tz": -540
    },
    "id": "Blr7tWSg0Z6d",
    "outputId": "f704b3ed-aedf-4ffa-c68a-03fdedc11064"
   },
   "outputs": [
    {
     "name": "stdout",
     "output_type": "stream",
     "text": [
      "total 1289\n",
      "drwx------ 2 root root    4096 Aug 25 05:33 CIFAR10\n",
      "-rw------- 1 root root   10716 Aug 25 09:22 lap_record.csv\n",
      "-rw------- 1 root root 1172512 Aug 25 08:28 model_torch.pth\n",
      "drwx------ 2 root root    4096 Aug 24 23:11 __pycache__\n",
      "-rw------- 1 root root   19208 Aug 25 09:05 train_Chainer_GPU_Tesla-T4.ipynb\n",
      "-rw------- 1 root root   20858 Aug 25 08:43 train_Keras_GPU_Tesla-T4.ipynb\n",
      "-rw------- 1 root root   30977 Aug 25 06:51 train_Keras_TPU.ipynb\n",
      "-rw------- 1 root root   12104 Aug 25 09:23 train_PyTorch_GPU_Tesla-T4.ipynb\n",
      "-rw------- 1 root root   19678 Aug 25 06:38 train_TensorFlow_GPU_Tesla-K80.ipynb\n",
      "-rw------- 1 root root   19634 Aug 25 08:44 train_TensorFlow_GPU_Tesla-T4.ipynb\n",
      "-rw------- 1 root root    3432 Aug 24 22:59 utils.py\n"
     ]
    }
   ],
   "source": [
    "!ls -l /content/drive/'My Drive'/compare_deeplibs"
   ]
  },
  {
   "cell_type": "code",
   "execution_count": 0,
   "metadata": {
    "colab": {
     "base_uri": "https://localhost:8080/",
     "height": 34
    },
    "colab_type": "code",
    "executionInfo": {
     "elapsed": 33901,
     "status": "ok",
     "timestamp": 1566725036953,
     "user": {
      "displayName": "和田健之介",
      "photoUrl": "",
      "userId": "03241864071079520021"
     },
     "user_tz": -540
    },
    "id": "O2DfYYOnw39A",
    "outputId": "217833e5-d6b9-4878-9e03-e64f995978de"
   },
   "outputs": [
    {
     "name": "stderr",
     "output_type": "stream",
     "text": [
      "Using TensorFlow backend.\n"
     ]
    }
   ],
   "source": [
    "from utils import show_progress"
   ]
  },
  {
   "cell_type": "markdown",
   "metadata": {
    "colab_type": "text",
    "id": "VhytxQ-U0kuJ"
   },
   "source": [
    "## PyTorch のバージョンの確認"
   ]
  },
  {
   "cell_type": "code",
   "execution_count": 0,
   "metadata": {
    "colab": {
     "base_uri": "https://localhost:8080/",
     "height": 34
    },
    "colab_type": "code",
    "executionInfo": {
     "elapsed": 35065,
     "status": "ok",
     "timestamp": 1566725038124,
     "user": {
      "displayName": "和田健之介",
      "photoUrl": "",
      "userId": "03241864071079520021"
     },
     "user_tz": -540
    },
    "id": "PLU0VP8A0pUh",
    "outputId": "edf882e4-8321-4b52-fd78-394e1576769c"
   },
   "outputs": [
    {
     "name": "stdout",
     "output_type": "stream",
     "text": [
      "1.1.0\n"
     ]
    }
   ],
   "source": [
    "import torch\n",
    "print(torch.__version__)"
   ]
  },
  {
   "cell_type": "markdown",
   "metadata": {
    "colab_type": "text",
    "id": "04qTxmJrTq4S"
   },
   "source": [
    "## GPU のデバイスの情報を表示"
   ]
  },
  {
   "cell_type": "code",
   "execution_count": 0,
   "metadata": {
    "colab": {
     "base_uri": "https://localhost:8080/",
     "height": 34
    },
    "colab_type": "code",
    "executionInfo": {
     "elapsed": 35059,
     "status": "ok",
     "timestamp": 1566725038125,
     "user": {
      "displayName": "和田健之介",
      "photoUrl": "",
      "userId": "03241864071079520021"
     },
     "user_tz": -540
    },
    "id": "du_QwuQ0Tti8",
    "outputId": "5e6f844b-4d32-4fee-d234-6ba1f46834c9"
   },
   "outputs": [
    {
     "name": "stdout",
     "output_type": "stream",
     "text": [
      "Tesla T4\n"
     ]
    }
   ],
   "source": [
    "from torch import cuda\n",
    "assert cuda.is_available()\n",
    "assert cuda.device_count() > 0\n",
    "device_name = cuda.get_device_name(cuda.current_device())\n",
    "print(device_name)"
   ]
  },
  {
   "cell_type": "markdown",
   "metadata": {
    "colab_type": "text",
    "id": "WrHBDN4s2EMT"
   },
   "source": [
    "## モデルを構築するためのクラス"
   ]
  },
  {
   "cell_type": "code",
   "execution_count": 0,
   "metadata": {
    "colab": {},
    "colab_type": "code",
    "id": "1ZMJ8Ik2zwm5"
   },
   "outputs": [],
   "source": [
    "import torch.nn as nn\n",
    "\n",
    "class CNN(nn.Module):\n",
    "    def __init__(self):\n",
    "        super().__init__()\n",
    "        self.features = nn.Sequential(\n",
    "            nn.Conv2d(3, 64, 5, 1, 2),\n",
    "            nn.BatchNorm2d(64),\n",
    "            nn.ReLU(True),\n",
    "            nn.MaxPool2d(2, 2),\n",
    "\n",
    "            nn.Conv2d(64, 128, 5, 1, 2),\n",
    "            nn.BatchNorm2d(128),\n",
    "            nn.ReLU(True),\n",
    "            nn.MaxPool2d(2, 2)\n",
    "        )\n",
    "\n",
    "        self.classifier = nn.Sequential(\n",
    "            nn.Linear(128 * 8 * 8, 10)\n",
    "        )\n",
    "\n",
    "    def forward(self, x):\n",
    "        x = self.features(x)\n",
    "        x = x.view(-1, 128 * 8 * 8)\n",
    "        x = self.classifier(x)\n",
    "        \n",
    "        return x"
   ]
  },
  {
   "cell_type": "markdown",
   "metadata": {
    "colab_type": "text",
    "id": "EkzkK-vm2MOc"
   },
   "source": [
    "## CIFA-10 のデータセットの読み込み"
   ]
  },
  {
   "cell_type": "code",
   "execution_count": 0,
   "metadata": {
    "colab": {},
    "colab_type": "code",
    "id": "2NHLIeAmzwm6"
   },
   "outputs": [],
   "source": [
    "from torchvision.datasets import CIFAR10\n",
    "from torchvision import transforms\n",
    "from torch.utils.data import DataLoader\n",
    "\n",
    "def load_CIFAR10(batch_size):\n",
    "    transform = transforms.Compose(\n",
    "        [transforms.ToTensor(),\n",
    "         transforms.Normalize((0.5, 0.5, 0.5), (0.5, 0.5, 0.5))])\n",
    "\n",
    "    trainset = CIFAR10(root='/content/drive/My Drive/compare_deeplibs/CIFAR10', train=True,\n",
    "                                        download=True, transform=transform)\n",
    "    trainloader = DataLoader(trainset,\n",
    "                                    batch_size=batch_size,\n",
    "                                    shuffle=True, num_workers=1, pin_memory=True)\n",
    "    testset = CIFAR10(root='/content/drive/My Drive/compare_deeplibs/CIFAR10', train=False,\n",
    "                                        download=True, transform=transform)\n",
    "    testloader = DataLoader(testset,\n",
    "                                    batch_size=batch_size,\n",
    "                                    shuffle=False, num_workers=1, pin_memory=True)\n",
    "    \n",
    "    return (trainloader, testloader)"
   ]
  },
  {
   "cell_type": "markdown",
   "metadata": {
    "colab_type": "text",
    "id": "VUN4ZyS52Tm8"
   },
   "source": [
    "## 予測精度の計算"
   ]
  },
  {
   "cell_type": "code",
   "execution_count": 0,
   "metadata": {
    "colab": {},
    "colab_type": "code",
    "id": "_C7MWMhizwm8"
   },
   "outputs": [],
   "source": [
    "def accuracy(out, labels):\n",
    "    _, pred= torch.max(out, 1)\n",
    "    return (pred == labels).sum().item() / labels.size(0)"
   ]
  },
  {
   "cell_type": "markdown",
   "metadata": {
    "colab_type": "text",
    "id": "LLo6l0Gt2WKE"
   },
   "source": [
    "## 学習を実行するための関数"
   ]
  },
  {
   "cell_type": "code",
   "execution_count": 0,
   "metadata": {
    "colab": {},
    "colab_type": "code",
    "id": "1x-EHWhEzwm-"
   },
   "outputs": [],
   "source": [
    "import time\n",
    "import torch.optim as optim\n",
    "\n",
    "def train(args):\n",
    "    # load dataset\n",
    "    # ==========================\n",
    "    trainloader, testloader = load_CIFAR10(args['batch_size'])\n",
    "    N = len(trainloader)\n",
    "    print('# of trainset: ', N)\n",
    "    print('epoch: %d  batch size: %d' % (args['epochs'], args['batch_size']))\n",
    "\n",
    "    device = 'cuda' if torch.cuda.is_available() else 'cpu'\n",
    "    print(device)\n",
    " \n",
    "    cnn = CNN()\n",
    "    cnn.to(device)\n",
    "    criterion = nn.CrossEntropyLoss()\n",
    "    criterion.to(device)\n",
    "\n",
    "    optimizer = optim.Adam(cnn.parameters())\n",
    "\n",
    "    \n",
    "    # train\n",
    "    # ==========================\n",
    "    #loss_history = []\n",
    "    #acc_history  = []\n",
    "    time_history = []\n",
    "    \n",
    "    for e in range(args['epochs']):\n",
    "        loss_cum = 0.0\n",
    "        acc_cum  = 0.0\n",
    "        time_cum = 0.0\n",
    "        \n",
    "        for b, (imgs, labels) in enumerate(trainloader):\n",
    "            start = time.time()\n",
    "            imgs, labels = imgs.to(device), labels.to(device)\n",
    "            cnn.zero_grad()\n",
    "            outputs = cnn(imgs)\n",
    "            loss = criterion(outputs, labels)\n",
    "            loss.backward()\n",
    "            optimizer.step()\n",
    "            time_cum += time.time() - start\n",
    "\n",
    "            loss_cum += loss.item()\n",
    "            acc = accuracy(outputs, labels)\n",
    "            acc_cum += acc\n",
    "\n",
    "            if b % 10 == 0:\n",
    "                show_progress(e+1, b+1, N, loss.item(), acc)\n",
    "\n",
    "        print('\\t mean acc: %f' % (acc_cum / N))\n",
    "        #loss_history.append(loss_cum / N)\n",
    "        #acc_history.append(acc_cum / N)\n",
    "        time_history.append(time_cum)\n",
    "\n",
    "        # test accuracy\n",
    "        #cnn.eval()\n",
    "        correct, total = 0, 0\n",
    "        for imgs, labels in testloader:\n",
    "            imgs, labels = imgs.to(device), labels.to(device)\n",
    "            outputs = cnn(imgs)\n",
    "            _, pred = torch.max(outputs, 1)  # 列方向で最大値を取ったときの最大値とそのインデックス\n",
    "            total += labels.size(0)\n",
    "            correct += (pred == labels).sum().item()\n",
    "        \n",
    "        print('mean accuracy on %d test images: %f' % (total, correct / total))\n",
    "\n",
    "    # save histories\n",
    "    # with open('/content/drive/My Drive/compare_deeplibs/loss_pytorch.csv', 'w') as f:\n",
    "    #     f.write('pytorch')\n",
    "    #     for l in loss_history:\n",
    "    #         f.write(',' + str(l))\n",
    "    #     f.write('\\n')\n",
    "    # print('saved loss history')\n",
    "    # with open('/content/drive/My Drive/compare_deeplibs/acc_pytorch.csv', 'w') as f:\n",
    "    #     f.write('pytorch')\n",
    "    #     for l in acc_history:\n",
    "    #         f.write(',' + str(l))\n",
    "    #     f.write('\\n')\n",
    "    # print('saved acc history')\n",
    "    \n",
    "    with open('/content/drive/My Drive/compare_deeplibs/lap_record.csv', 'a') as f:\n",
    "        f.write('Pytorch-GPU')\n",
    "        f.write(',' + device_name)\n",
    "        for t in time_history:\n",
    "            f.write(',' + str(t))\n",
    "        f.write('\\n')\n",
    "    \n",
    "    # save models\n",
    "    #torch.save(cnn.state_dict(), '/content/drive/My Drive/compare_deeplibs/model_torch.pth')"
   ]
  },
  {
   "cell_type": "markdown",
   "metadata": {
    "colab_type": "text",
    "id": "e_Oy8bu02mm-"
   },
   "source": [
    "## 計算開始時刻の記録\n",
    "\n",
    "Google Colaboratory で実行する際に、日本時間の時刻を表示するためにはタイムゾーンの取得が必要となる。"
   ]
  },
  {
   "cell_type": "code",
   "execution_count": 0,
   "metadata": {
    "colab": {
     "base_uri": "https://localhost:8080/",
     "height": 34
    },
    "colab_type": "code",
    "executionInfo": {
     "elapsed": 35332,
     "status": "ok",
     "timestamp": 1566725038429,
     "user": {
      "displayName": "和田健之介",
      "photoUrl": "",
      "userId": "03241864071079520021"
     },
     "user_tz": -540
    },
    "id": "BuCc2UPh2qUW",
    "outputId": "b6142b6a-fd47-4012-a326-8ed29cbc5720"
   },
   "outputs": [
    {
     "name": "stdout",
     "output_type": "stream",
     "text": [
      "2019-08-25 18:23:58.718828+09:00\n"
     ]
    }
   ],
   "source": [
    "import datetime\n",
    "import pytz\n",
    "\n",
    "start_time = datetime.datetime.now(pytz.timezone('Asia/Tokyo'))\n",
    "print(start_time)"
   ]
  },
  {
   "cell_type": "markdown",
   "metadata": {
    "colab_type": "text",
    "id": "8NuqCXW42tjB"
   },
   "source": [
    "## 学習の実行"
   ]
  },
  {
   "cell_type": "code",
   "execution_count": 0,
   "metadata": {
    "colab": {
     "base_uri": "https://localhost:8080/",
     "height": 850
    },
    "colab_type": "code",
    "executionInfo": {
     "elapsed": 316665,
     "status": "ok",
     "timestamp": 1566725319768,
     "user": {
      "displayName": "和田健之介",
      "photoUrl": "",
      "userId": "03241864071079520021"
     },
     "user_tz": -540
    },
    "id": "MvH3iAYMzwm_",
    "outputId": "6bfffd93-e204-4e37-f70f-44d9528c300b"
   },
   "outputs": [
    {
     "name": "stdout",
     "output_type": "stream",
     "text": [
      "{'epochs': 20, 'batch_size': 128, 'gpu_id': 0}\n",
      "epochs       : 20\n",
      "batch_size   : 128\n",
      "gpu_id       : 0\n",
      "Files already downloaded and verified\n",
      "Files already downloaded and verified\n",
      "# of trainset:  391\n",
      "epoch: 20  batch size: 128\n",
      "cuda\n",
      "  1: [  391 /   391] loss: 1.130980 acc: 0.587500\t mean acc: 0.543722\n",
      "mean accuracy on 10000 test images: 0.645600\n",
      "  2: [  391 /   391] loss: 0.752534 acc: 0.737500\t mean acc: 0.681754\n",
      "mean accuracy on 10000 test images: 0.695200\n",
      "  3: [  391 /   391] loss: 0.670533 acc: 0.775000\t mean acc: 0.733780\n",
      "mean accuracy on 10000 test images: 0.730700\n",
      "  4: [  391 /   391] loss: 0.551118 acc: 0.837500\t mean acc: 0.768067\n",
      "mean accuracy on 10000 test images: 0.735300\n",
      "  5: [  391 /   391] loss: 0.637408 acc: 0.725000\t mean acc: 0.792455\n",
      "mean accuracy on 10000 test images: 0.752400\n",
      "  6: [  391 /   391] loss: 0.536278 acc: 0.837500\t mean acc: 0.815381\n",
      "mean accuracy on 10000 test images: 0.752100\n",
      "  7: [  391 /   391] loss: 0.667059 acc: 0.750000\t mean acc: 0.837056\n",
      "mean accuracy on 10000 test images: 0.760300\n",
      "  8: [  391 /   391] loss: 0.402780 acc: 0.862500\t mean acc: 0.855467\n",
      "mean accuracy on 10000 test images: 0.774700\n",
      "  9: [  391 /   391] loss: 0.382103 acc: 0.875000\t mean acc: 0.872542\n",
      "mean accuracy on 10000 test images: 0.778600\n",
      " 10: [  391 /   391] loss: 0.410051 acc: 0.900000\t mean acc: 0.891688\n",
      "mean accuracy on 10000 test images: 0.767700\n",
      " 11: [  391 /   391] loss: 0.390760 acc: 0.850000\t mean acc: 0.902150\n",
      "mean accuracy on 10000 test images: 0.769300\n",
      " 12: [  391 /   391] loss: 0.265034 acc: 0.900000\t mean acc: 0.915345\n",
      "mean accuracy on 10000 test images: 0.771400\n",
      " 13: [  391 /   391] loss: 0.136482 acc: 0.950000\t mean acc: 0.930479\n",
      "mean accuracy on 10000 test images: 0.766500\n",
      " 14: [  391 /   391] loss: 0.220941 acc: 0.925000\t mean acc: 0.941204\n",
      "mean accuracy on 10000 test images: 0.776500\n",
      " 15: [  391 /   391] loss: 0.306057 acc: 0.900000\t mean acc: 0.948513\n",
      "mean accuracy on 10000 test images: 0.772900\n",
      " 16: [  391 /   391] loss: 0.178714 acc: 0.950000\t mean acc: 0.956294\n",
      "mean accuracy on 10000 test images: 0.770100\n",
      " 17: [  391 /   391] loss: 0.155279 acc: 0.950000\t mean acc: 0.964146\n",
      "mean accuracy on 10000 test images: 0.778500\n",
      " 18: [  391 /   391] loss: 0.052781 acc: 0.987500\t mean acc: 0.970197\n",
      "mean accuracy on 10000 test images: 0.762400\n",
      " 19: [  391 /   391] loss: 0.080438 acc: 0.975000\t mean acc: 0.972922\n",
      "mean accuracy on 10000 test images: 0.772900\n",
      " 20: [  391 /   391] loss: 0.142146 acc: 0.937500\t mean acc: 0.974964\n",
      "mean accuracy on 10000 test images: 0.768300\n"
     ]
    }
   ],
   "source": [
    "args={\n",
    "    'epochs'     : 20,\n",
    "    'batch_size' : 128,\n",
    "    'gpu_id'     : 0\n",
    "}\n",
    "\n",
    "print(args)\n",
    "\n",
    "for key, value in args.items():\n",
    "    print('{:12s} : {}'.format(key, value))\n",
    "\n",
    "train(args)"
   ]
  },
  {
   "cell_type": "markdown",
   "metadata": {
    "colab_type": "text",
    "id": "3KdTmRHl2ykG"
   },
   "source": [
    "## 学習に要した時間の表示"
   ]
  },
  {
   "cell_type": "code",
   "execution_count": 0,
   "metadata": {
    "colab": {
     "base_uri": "https://localhost:8080/",
     "height": 85
    },
    "colab_type": "code",
    "executionInfo": {
     "elapsed": 316659,
     "status": "ok",
     "timestamp": 1566725319771,
     "user": {
      "displayName": "和田健之介",
      "photoUrl": "",
      "userId": "03241864071079520021"
     },
     "user_tz": -540
    },
    "id": "EIZoByalzwnB",
    "outputId": "6e853686-cb79-4f6b-e4bc-eb1b5cde86dc"
   },
   "outputs": [
    {
     "name": "stdout",
     "output_type": "stream",
     "text": [
      "\n",
      "Start   Time  : 2019-08-25 18:23:58.718828+09:00\n",
      "End     Time  : 2019-08-25 18:28:40.221854+09:00\n",
      "Elapsed Time  : 0:04:41.503026\n"
     ]
    }
   ],
   "source": [
    "end_time = datetime.datetime.now(pytz.timezone('Asia/Tokyo'))\n",
    "print(\"\\nStart   Time  : \" + str(start_time))\n",
    "print(  \"End     Time  : \" + str(end_time))\n",
    "print(  \"Elapsed Time  : \" + str(end_time - start_time))"
   ]
  },
  {
   "cell_type": "markdown",
   "metadata": {
    "colab_type": "text",
    "id": "anwW7y3s23bI"
   },
   "source": [
    "## Google Colaboratory のセッションを開始してからの経過時間を表示"
   ]
  },
  {
   "cell_type": "code",
   "execution_count": 0,
   "metadata": {
    "colab": {
     "base_uri": "https://localhost:8080/",
     "height": 34
    },
    "colab_type": "code",
    "executionInfo": {
     "elapsed": 318532,
     "status": "ok",
     "timestamp": 1566725321650,
     "user": {
      "displayName": "和田健之介",
      "photoUrl": "",
      "userId": "03241864071079520021"
     },
     "user_tz": -540
    },
    "id": "f4Gwv3hY24y-",
    "outputId": "2b77e79c-42a3-48ac-ec48-d3b101a9252b"
   },
   "outputs": [
    {
     "name": "stdout",
     "output_type": "stream",
     "text": [
      "経過時間 : 0.121469 hours (437.29 sec)\n"
     ]
    }
   ],
   "source": [
    "!cat /proc/uptime | awk '{print \"経過時間 : \" ($1 / 3600) \" hours (\" $1 \" sec)\"}'"
   ]
  }
 ],
 "metadata": {
  "accelerator": "GPU",
  "colab": {
   "collapsed_sections": [],
   "name": "train_PyTorch_GPU_Tesla-T4.ipynb",
   "provenance": [],
   "version": "0.3.2"
  },
  "kernelspec": {
   "display_name": "Python 3",
   "language": "python",
   "name": "python3"
  },
  "language_info": {
   "codemirror_mode": {
    "name": "ipython",
    "version": 3
   },
   "file_extension": ".py",
   "mimetype": "text/x-python",
   "name": "python",
   "nbconvert_exporter": "python",
   "pygments_lexer": "ipython3",
   "version": "3.7.3"
  }
 },
 "nbformat": 4,
 "nbformat_minor": 1
}
