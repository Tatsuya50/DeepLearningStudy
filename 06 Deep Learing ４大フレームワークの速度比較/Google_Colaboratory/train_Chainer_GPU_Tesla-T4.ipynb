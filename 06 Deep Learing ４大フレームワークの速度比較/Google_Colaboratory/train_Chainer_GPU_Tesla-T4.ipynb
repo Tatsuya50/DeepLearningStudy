{
 "cells": [
  {
   "cell_type": "markdown",
   "metadata": {
    "colab_type": "text",
    "id": "GB6x5KsBz9EC"
   },
   "source": [
    "## Train Chainer : GPU\n",
    "\n",
    "参考：<br>\n",
    "- 深層学習コンパイラTVMと主要深層学習フレームワークをColaboratoryで使い倒そう<br>\n",
    "https://qiita.com/stakemura/items/1761be70a06fa8ee853f\n",
    "\n",
    "- 簡単なCNNによるディープラーニングライブラリ速度比較<br>\n",
    "https://qiita.com/daigo0927/items/8092f3ff5276ffc4f088"
   ]
  },
  {
   "cell_type": "markdown",
   "metadata": {
    "colab_type": "text",
    "id": "DVxjPTWl0Ez9"
   },
   "source": [
    "## GPU モードの設定\n",
    "\n",
    "メニューより<br>\n",
    "　　<strong>ランタイム  ⇒  ランタイムのタイプを変更</strong> <br>\n",
    " を選択して、現れたダイアログで<br>\n",
    "- ランタイムのタイプ  = <font color='red'><strong>Python3</strong></font>\n",
    "- ハードウェアアクセラレータ  = <font color='red'><strong>GPU</strong></font>\n",
    "- このノートブックを保存する際にコードセルの出力を除外する = <font color='red'><strong>OFF</strong></font>\n",
    "\n",
    "に設定してから【保存】ボタンを押す。"
   ]
  },
  {
   "cell_type": "markdown",
   "metadata": {
    "colab_type": "text",
    "id": "BUApsHS70OWn"
   },
   "source": [
    "## Google Drive をマウント\n",
    "\n",
    "### <font color='red'>注意</font>\n",
    "ランタイムの最初において、下記のコードを実行すると、<font color='red'><strong>認証コード</strong></font> の URL が表示される。<br>\n",
    "URL をクリックして、リンク先で自分のアカウントを選択して認証した後、<br>\n",
    "表示された認証コードをコピーして、下記の入力欄にペーストすればマウントが完了する。\n",
    "\n",
    "### 参考：\n",
    "　　Google ドライブの使い方<br>\n",
    "　　https://www.appsupport.jp/category/drive/"
   ]
  },
  {
   "cell_type": "code",
   "execution_count": 1,
   "metadata": {
    "colab": {
     "base_uri": "https://localhost:8080/",
     "height": 122
    },
    "colab_type": "code",
    "executionInfo": {
     "elapsed": 20464,
     "status": "ok",
     "timestamp": 1566722297453,
     "user": {
      "displayName": "和田健之介",
      "photoUrl": "",
      "userId": "03241864071079520021"
     },
     "user_tz": -540
    },
    "id": "jyph42hi0HUt",
    "outputId": "7ec5583f-f7ca-4783-b770-80e492ef488f"
   },
   "outputs": [
    {
     "name": "stdout",
     "output_type": "stream",
     "text": [
      "Go to this URL in a browser: https://accounts.google.com/o/oauth2/auth?client_id=947318989803-6bn6qk8qdgf4n4g3pfee6491hc0brc4i.apps.googleusercontent.com&redirect_uri=urn%3Aietf%3Awg%3Aoauth%3A2.0%3Aoob&scope=email%20https%3A%2F%2Fwww.googleapis.com%2Fauth%2Fdocs.test%20https%3A%2F%2Fwww.googleapis.com%2Fauth%2Fdrive%20https%3A%2F%2Fwww.googleapis.com%2Fauth%2Fdrive.photos.readonly%20https%3A%2F%2Fwww.googleapis.com%2Fauth%2Fpeopleapi.readonly&response_type=code\n",
      "\n",
      "Enter your authorization code:\n",
      "··········\n",
      "Mounted at /content/drive\n"
     ]
    }
   ],
   "source": [
    "from google.colab import drive\n",
    "drive.mount('/content/drive')"
   ]
  },
  {
   "cell_type": "markdown",
   "metadata": {
    "colab_type": "text",
    "id": "Tp-Icruo0SP7"
   },
   "source": [
    "## パスを追加して独自のパッケージをインポートできるようにする"
   ]
  },
  {
   "cell_type": "code",
   "execution_count": 0,
   "metadata": {
    "colab": {},
    "colab_type": "code",
    "id": "8MMOpxEM0U-r"
   },
   "outputs": [],
   "source": [
    "import sys\n",
    "sys.path.append('/content/drive/My Drive/compare_deeplibs')"
   ]
  },
  {
   "cell_type": "code",
   "execution_count": 3,
   "metadata": {
    "colab": {
     "base_uri": "https://localhost:8080/",
     "height": 272
    },
    "colab_type": "code",
    "executionInfo": {
     "elapsed": 25536,
     "status": "ok",
     "timestamp": 1566722302547,
     "user": {
      "displayName": "和田健之介",
      "photoUrl": "",
      "userId": "03241864071079520021"
     },
     "user_tz": -540
    },
    "id": "Blr7tWSg0Z6d",
    "outputId": "a2637f37-59f4-4da8-d118-97cc52023d89"
   },
   "outputs": [
    {
     "name": "stdout",
     "output_type": "stream",
     "text": [
      "total 1306\n",
      "drwx------ 2 root root    4096 Aug 25 05:33 CIFAR10\n",
      "-rw------- 1 root root    9130 Aug 25 08:35 lap_record.csv\n",
      "drwx------ 2 root root    4096 Aug 25 07:33 model_chainer\n",
      "drwx------ 2 root root    4096 Aug 25 05:02 model_keras\n",
      "drwx------ 2 root root    4096 Aug 25 04:20 model_tf\n",
      "-rw------- 1 root root 1172512 Aug 25 08:28 model_torch.pth\n",
      "drwx------ 2 root root    4096 Aug 24 23:11 __pycache__\n",
      "-rw------- 1 root root   19190 Aug 25 08:22 train_Chainer_GPU_Tesla-T4.ipynb\n",
      "-rw------- 1 root root   20845 Aug 25 08:22 train_Keras_GPU_Tesla-T4.ipynb\n",
      "-rw------- 1 root root   30977 Aug 25 06:51 train_Keras_TPU.ipynb\n",
      "-rw------- 1 root root   18555 Aug 25 08:35 train_PyTorch_GPU_Tesla-T4.ipynb\n",
      "-rw------- 1 root root   19678 Aug 25 06:38 train_TensorFlow_GPU_Tesla-K80.ipynb\n",
      "-rw------- 1 root root   19621 Aug 25 08:22 train_TensorFlow_GPU_Tesla-T4.ipynb\n",
      "-rw------- 1 root root    3432 Aug 24 22:59 utils.py\n"
     ]
    }
   ],
   "source": [
    "!ls -l /content/drive/'My Drive'/compare_deeplibs"
   ]
  },
  {
   "cell_type": "code",
   "execution_count": 4,
   "metadata": {
    "colab": {
     "base_uri": "https://localhost:8080/",
     "height": 34
    },
    "colab_type": "code",
    "executionInfo": {
     "elapsed": 27625,
     "status": "ok",
     "timestamp": 1566722304643,
     "user": {
      "displayName": "和田健之介",
      "photoUrl": "",
      "userId": "03241864071079520021"
     },
     "user_tz": -540
    },
    "id": "zMh18Sglnrr8",
    "outputId": "4c5ba854-b92c-4430-acc2-c55954994d18"
   },
   "outputs": [
    {
     "name": "stderr",
     "output_type": "stream",
     "text": [
      "Using TensorFlow backend.\n"
     ]
    }
   ],
   "source": [
    "from utils import load_cifar10, load_cifar100, show_progress"
   ]
  },
  {
   "cell_type": "markdown",
   "metadata": {
    "colab_type": "text",
    "id": "VhytxQ-U0kuJ"
   },
   "source": [
    "## Chainer のバージョンの確認"
   ]
  },
  {
   "cell_type": "code",
   "execution_count": 5,
   "metadata": {
    "colab": {
     "base_uri": "https://localhost:8080/",
     "height": 34
    },
    "colab_type": "code",
    "executionInfo": {
     "elapsed": 29764,
     "status": "ok",
     "timestamp": 1566722306787,
     "user": {
      "displayName": "和田健之介",
      "photoUrl": "",
      "userId": "03241864071079520021"
     },
     "user_tz": -540
    },
    "id": "PLU0VP8A0pUh",
    "outputId": "969b9332-f518-4ed6-e36a-baafe4161484"
   },
   "outputs": [
    {
     "name": "stdout",
     "output_type": "stream",
     "text": [
      "5.4.0\n"
     ]
    }
   ],
   "source": [
    "import chainer\n",
    "print(chainer.__version__)"
   ]
  },
  {
   "cell_type": "markdown",
   "metadata": {
    "colab_type": "text",
    "id": "04qTxmJrTq4S"
   },
   "source": [
    "## GPU のデバイスの情報を表示"
   ]
  },
  {
   "cell_type": "code",
   "execution_count": 6,
   "metadata": {
    "colab": {
     "base_uri": "https://localhost:8080/",
     "height": 34
    },
    "colab_type": "code",
    "executionInfo": {
     "elapsed": 30748,
     "status": "ok",
     "timestamp": 1566722307776,
     "user": {
      "displayName": "和田健之介",
      "photoUrl": "",
      "userId": "03241864071079520021"
     },
     "user_tz": -540
    },
    "id": "du_QwuQ0Tti8",
    "outputId": "7ca04a34-c4e9-4e96-fdb1-46a9ad4727bf"
   },
   "outputs": [
    {
     "name": "stdout",
     "output_type": "stream",
     "text": [
      "Tesla T4\n"
     ]
    }
   ],
   "source": [
    "from torch import cuda\n",
    "assert cuda.is_available()\n",
    "assert cuda.device_count() > 0\n",
    "device_name = cuda.get_device_name(cuda.current_device())\n",
    "print(device_name)"
   ]
  },
  {
   "cell_type": "markdown",
   "metadata": {
    "colab_type": "text",
    "id": "WrHBDN4s2EMT"
   },
   "source": [
    "## モデルを構築するためのクラス"
   ]
  },
  {
   "cell_type": "code",
   "execution_count": 0,
   "metadata": {
    "colab": {},
    "colab_type": "code",
    "id": "1ZMJ8Ik2zwm5"
   },
   "outputs": [],
   "source": [
    "from chainer import Chain\n",
    "import chainer.links as L\n",
    "import chainer.functions as F\n",
    "\n",
    "class CNN(Chain):\n",
    "    def __init__(self, num_output=10):\n",
    "        super(CNN, self).__init__()\n",
    "        \n",
    "        with self.init_scope():\n",
    "            self.conv1 = L.Convolution2D(in_channels=3, out_channels=64, ksize=5, stride=1, pad=2)\n",
    "            self.bn1   = L.BatchNormalization(64)\n",
    "            self.conv2 = L.Convolution2D(64, 128, 5, 1, 2)\n",
    "            self.bn2   = L.BatchNormalization(128)\n",
    "            self.fc    = L.Linear(None, num_output)\n",
    "\n",
    "    def __call__(self, x):\n",
    "        x = F.relu(self.bn1(self.conv1(x)))\n",
    "        x = F.max_pooling_2d(x, 2, 2)\n",
    "        x = F.relu(self.bn2(self.conv2(x)))\n",
    "        x = F.max_pooling_2d(x, 2, 2)\n",
    "        \n",
    "        return self.fc(x)"
   ]
  },
  {
   "cell_type": "markdown",
   "metadata": {
    "colab_type": "text",
    "id": "91YlmYvFlwRO"
   },
   "source": [
    "## 学習を管理するクラス"
   ]
  },
  {
   "cell_type": "code",
   "execution_count": 0,
   "metadata": {
    "colab": {},
    "colab_type": "code",
    "id": "4zKb0P_qlzGI"
   },
   "outputs": [],
   "source": [
    "import time\n",
    "import os\n",
    "import numpy as np\n",
    "from chainer.optimizers import Adam\n",
    "from chainer.cuda import to_gpu, to_cpu\n",
    "from chainer import serializers\n",
    "\n",
    "class Trainer(object):\n",
    "    def __init__(self, num_epochs, batch_size, gpu_id):\n",
    "        self.num_epochs = num_epochs\n",
    "        self.batch_size = batch_size\n",
    "        self.gpu_id     = gpu_id\n",
    "        self.net = CNN()\n",
    "        self.opt = Adam()\n",
    "        self.opt.setup(self.net)\n",
    "        self.load_cifar10()\n",
    "\n",
    "    def load_cifar10(self):\n",
    "        (x_train, y_train), (x_test, y_test) = load_cifar10(to_categoric=False)\n",
    "        self.x_train = np.transpose(x_train.astype('f'), (0, 3, 1, 2))\n",
    "        self.y_train = y_train.flatten().astype('i')\n",
    "        self.x_test  = np.transpose(x_test.astype('f'), (0, 3, 1, 2))\n",
    "        self.y_test  = y_test.flatten().astype('i')\n",
    "\n",
    "    def load_cifar100(self):\n",
    "        (x_train, y_train), (x_test, y_test) = load_cifar100(to_categoric = False)\n",
    "        self.x_train = np.transpose(x_train.astype('f'), (0, 3, 1, 2))\n",
    "        self.y_train = y_train.flatten().astype('i')\n",
    "        self.x_test  = np.transpose(x_test.astype('f'), (0, 3, 1, 2))\n",
    "        self.y_test  = y_test.flatten().astype('i')\n",
    "\n",
    "    def train(self):\n",
    "        if self.gpu_id is not None:\n",
    "            self.net.to_gpu(self.gpu_id)\n",
    "            self.x_test = to_gpu(self.x_test, self.gpu_id)\n",
    "            self.y_test = to_gpu(self.y_test, self.gpu_id)\n",
    "\n",
    "        num_batches = int(len(self.x_train) / self.batch_size)\n",
    "        print('epochs : {}, number of batches : {}'.format(self.num_epochs, num_batches))\n",
    "\n",
    "        lap_times = []\n",
    "        # training iteration\n",
    "        for e in range(self.num_epochs):\n",
    "            permute_idx = np.random.permutation(np.arange(50000))\n",
    "            lap_time = []\n",
    "\n",
    "            for b in range(num_batches):\n",
    "                x_batch = self.x_train[permute_idx[b*self.batch_size:(b+1)*self.batch_size]]\n",
    "                y_batch = self.y_train[permute_idx[b*self.batch_size:(b+1)*self.batch_size]]\n",
    "\n",
    "                s_time = time.time()\n",
    "                if self.gpu_id is not None:\n",
    "                    x_batch = to_gpu(x_batch, self.gpu_id)\n",
    "                    y_batch = to_gpu(y_batch, self.gpu_id)\n",
    "                logits = self.net(x_batch)\n",
    "                loss = F.softmax_cross_entropy(logits, y_batch)\n",
    "                self.net.cleargrads()\n",
    "                loss.backward()\n",
    "                self.opt.update()\n",
    "                e_time = time.time()\n",
    "                lap_time.append(e_time - s_time)\n",
    "\n",
    "                if b % 10 == 0:\n",
    "                    loss = to_cpu(loss.data)\n",
    "                    acc = F.accuracy(logits, y_batch)\n",
    "                    acc = to_cpu(acc.data)\n",
    "                    show_progress(e+1, b+1, num_batches, loss, acc)\n",
    "\n",
    "            # record single epoch training lap-time\n",
    "            lap_times.append(np.sum(lap_time))\n",
    "\n",
    "            # validation\n",
    "            accs_val = []\n",
    "            for b in range(int(len(self.x_test) / self.batch_size)):\n",
    "                x_val = self.x_test[b*self.batch_size:(b+1)*self.batch_size]\n",
    "                y_val = self.y_test[b*self.batch_size:(b+1)*self.batch_size]\n",
    "                \n",
    "                preds_val = self.net(x_val)\n",
    "                acc_val = F.accuracy(preds_val, y_val)\n",
    "                accs_val.append(to_cpu(acc_val.data))\n",
    "            print('\\n{} epoch validation accuracy {}'.format(e+1, np.mean(accs_val)))\n",
    "\n",
    "            # save trained model\n",
    "            #if not os.path.exists('/content/drive/My Drive/compare_deeplibs/model_chainer'):\n",
    "            #    os.mkdir('/content/drive/My Drive/compare_deeplibs/model_chainer')\n",
    "            #serializers.save_npz('/content/drive/My Drive/compare_deeplibs/model_chainer/chainer{}.model'.format(e), self.net)\n",
    "\n",
    "        with open('/content/drive/My Drive/compare_deeplibs/lap_record.csv', 'a') as f:\n",
    "            f.write('Chainer-GPU')\n",
    "            f.write(',' + device_name)\n",
    "            for lap in lap_times:\n",
    "                f.write(',' + str(lap))\n",
    "            f.write('\\n')"
   ]
  },
  {
   "cell_type": "markdown",
   "metadata": {
    "colab_type": "text",
    "id": "LLo6l0Gt2WKE"
   },
   "source": [
    "## 学習を実行するための関数"
   ]
  },
  {
   "cell_type": "code",
   "execution_count": 0,
   "metadata": {
    "colab": {},
    "colab_type": "code",
    "id": "1x-EHWhEzwm-"
   },
   "outputs": [],
   "source": [
    "def train_chainer(args):\n",
    "    trainer = Trainer(num_epochs = args['epochs'],\n",
    "                      batch_size = args['batch_size'],\n",
    "                      gpu_id     = args['gpu_id'])\n",
    "    trainer.train()"
   ]
  },
  {
   "cell_type": "markdown",
   "metadata": {
    "colab_type": "text",
    "id": "e_Oy8bu02mm-"
   },
   "source": [
    "## 計算開始時刻の記録\n",
    "\n",
    "Google Colaboratory で実行する際に、日本時間の時刻を表示するためにはタイムゾーンの取得が必要となる。"
   ]
  },
  {
   "cell_type": "code",
   "execution_count": 10,
   "metadata": {
    "colab": {
     "base_uri": "https://localhost:8080/",
     "height": 34
    },
    "colab_type": "code",
    "executionInfo": {
     "elapsed": 30728,
     "status": "ok",
     "timestamp": 1566722307778,
     "user": {
      "displayName": "和田健之介",
      "photoUrl": "",
      "userId": "03241864071079520021"
     },
     "user_tz": -540
    },
    "id": "BuCc2UPh2qUW",
    "outputId": "78a5cc88-0fa2-4d0a-ad5a-f8f2c08040b5"
   },
   "outputs": [
    {
     "name": "stdout",
     "output_type": "stream",
     "text": [
      "2019-08-25 17:38:27.633142+09:00\n"
     ]
    }
   ],
   "source": [
    "import datetime\n",
    "import pytz\n",
    "\n",
    "start_time = datetime.datetime.now(pytz.timezone('Asia/Tokyo'))\n",
    "print(start_time)"
   ]
  },
  {
   "cell_type": "markdown",
   "metadata": {
    "colab_type": "text",
    "id": "8NuqCXW42tjB"
   },
   "source": [
    "## 学習の実行"
   ]
  },
  {
   "cell_type": "code",
   "execution_count": 11,
   "metadata": {
    "colab": {
     "base_uri": "https://localhost:8080/",
     "height": 833
    },
    "colab_type": "code",
    "executionInfo": {
     "elapsed": 188027,
     "status": "ok",
     "timestamp": 1566722465084,
     "user": {
      "displayName": "和田健之介",
      "photoUrl": "",
      "userId": "03241864071079520021"
     },
     "user_tz": -540
    },
    "id": "MvH3iAYMzwm_",
    "outputId": "fddbcd4c-9ff4-4c14-d706-7f2737dce725"
   },
   "outputs": [
    {
     "name": "stdout",
     "output_type": "stream",
     "text": [
      "{'epochs': 20, 'batch_size': 128, 'gpu_id': 0}\n",
      "epochs       : 20\n",
      "batch_size   : 128\n",
      "gpu_id       : 0\n",
      "load cifar10 data ...\n",
      "Downloading data from https://www.cs.toronto.edu/~kriz/cifar-10-python.tar.gz\n",
      "170500096/170498071 [==============================] - 14s 0us/step\n",
      "epochs : 20, number of batches : 390\n",
      "  1: [  381 /   390] loss: 1.150800 acc: 0.625000\n",
      "1 epoch validation accuracy 0.582932710647583\n",
      "  2: [  381 /   390] loss: 0.946729 acc: 0.703125\n",
      "2 epoch validation accuracy 0.6391226053237915\n",
      "  3: [  381 /   390] loss: 0.912600 acc: 0.687500\n",
      "3 epoch validation accuracy 0.6977163553237915\n",
      "  4: [  381 /   390] loss: 0.954384 acc: 0.734375\n",
      "4 epoch validation accuracy 0.7116386294364929\n",
      "  5: [  381 /   390] loss: 0.529003 acc: 0.804688\n",
      "5 epoch validation accuracy 0.7126402258872986\n",
      "  6: [  381 /   390] loss: 0.607578 acc: 0.789062\n",
      "6 epoch validation accuracy 0.7395833134651184\n",
      "  7: [  381 /   390] loss: 0.506572 acc: 0.796875\n",
      "7 epoch validation accuracy 0.7333734035491943\n",
      "  8: [  381 /   390] loss: 0.631446 acc: 0.765625\n",
      "8 epoch validation accuracy 0.7380809187889099\n",
      "  9: [  381 /   390] loss: 0.337223 acc: 0.867188\n",
      "9 epoch validation accuracy 0.7464944124221802\n",
      " 10: [  381 /   390] loss: 0.494931 acc: 0.851562\n",
      "10 epoch validation accuracy 0.7429887652397156\n",
      " 11: [  381 /   390] loss: 0.372662 acc: 0.859375\n",
      "11 epoch validation accuracy 0.7224559187889099\n",
      " 12: [  381 /   390] loss: 0.361494 acc: 0.906250\n",
      "12 epoch validation accuracy 0.7513020634651184\n",
      " 13: [  381 /   390] loss: 0.248966 acc: 0.921875\n",
      "13 epoch validation accuracy 0.7491987347602844\n",
      " 14: [  381 /   390] loss: 0.244323 acc: 0.921875\n",
      "14 epoch validation accuracy 0.758713960647583\n",
      " 15: [  381 /   390] loss: 0.345779 acc: 0.851562\n",
      "15 epoch validation accuracy 0.7447916865348816\n",
      " 16: [  381 /   390] loss: 0.306037 acc: 0.890625\n",
      "16 epoch validation accuracy 0.7481971383094788\n",
      " 17: [  381 /   390] loss: 0.184620 acc: 0.937500\n",
      "17 epoch validation accuracy 0.741286039352417\n",
      " 18: [  381 /   390] loss: 0.122725 acc: 0.937500\n",
      "18 epoch validation accuracy 0.7567107081413269\n",
      " 19: [  381 /   390] loss: 0.119052 acc: 0.960938\n",
      "19 epoch validation accuracy 0.7535055875778198\n",
      " 20: [  381 /   390] loss: 0.183621 acc: 0.953125\n",
      "20 epoch validation accuracy 0.7409855723381042\n"
     ]
    }
   ],
   "source": [
    "args={\n",
    "    'epochs'     : 20,\n",
    "    'batch_size' : 128,\n",
    "    'gpu_id'     : 0\n",
    "}\n",
    "\n",
    "print(args)\n",
    "\n",
    "for key, value in args.items():\n",
    "    print('{:12s} : {}'.format(key, value))\n",
    "\n",
    "train_chainer(args)"
   ]
  },
  {
   "cell_type": "markdown",
   "metadata": {
    "colab_type": "text",
    "id": "3KdTmRHl2ykG"
   },
   "source": [
    "## 学習に要した時間の表示"
   ]
  },
  {
   "cell_type": "code",
   "execution_count": 12,
   "metadata": {
    "colab": {
     "base_uri": "https://localhost:8080/",
     "height": 85
    },
    "colab_type": "code",
    "executionInfo": {
     "elapsed": 188021,
     "status": "ok",
     "timestamp": 1566722465085,
     "user": {
      "displayName": "和田健之介",
      "photoUrl": "",
      "userId": "03241864071079520021"
     },
     "user_tz": -540
    },
    "id": "EIZoByalzwnB",
    "outputId": "92598075-2ee8-499c-c9d5-f072fca08ed7"
   },
   "outputs": [
    {
     "name": "stdout",
     "output_type": "stream",
     "text": [
      "\n",
      "Start   Time  : 2019-08-25 17:38:27.633142+09:00\n",
      "End     Time  : 2019-08-25 17:41:04.741417+09:00\n",
      "Elapsed Time  : 0:02:37.108275\n"
     ]
    }
   ],
   "source": [
    "end_time = datetime.datetime.now(pytz.timezone('Asia/Tokyo'))\n",
    "print(\"\\nStart   Time  : \" + str(start_time))\n",
    "print(  \"End     Time  : \" + str(end_time))\n",
    "print(  \"Elapsed Time  : \" + str(end_time - start_time))"
   ]
  },
  {
   "cell_type": "markdown",
   "metadata": {
    "colab_type": "text",
    "id": "anwW7y3s23bI"
   },
   "source": [
    "## Google Colaboratory のセッションを開始してからの経過時間を表示"
   ]
  },
  {
   "cell_type": "code",
   "execution_count": 13,
   "metadata": {
    "colab": {
     "base_uri": "https://localhost:8080/",
     "height": 34
    },
    "colab_type": "code",
    "executionInfo": {
     "elapsed": 191817,
     "status": "ok",
     "timestamp": 1566722468888,
     "user": {
      "displayName": "和田健之介",
      "photoUrl": "",
      "userId": "03241864071079520021"
     },
     "user_tz": -540
    },
    "id": "f4Gwv3hY24y-",
    "outputId": "7e230c68-8ada-44f5-afb7-9ceda8d9981e"
   },
   "outputs": [
    {
     "name": "stdout",
     "output_type": "stream",
     "text": [
      "経過時間 : 0.0711889 hours (256.28 sec)\n"
     ]
    }
   ],
   "source": [
    "!cat /proc/uptime | awk '{print \"経過時間 : \" ($1 / 3600) \" hours (\" $1 \" sec)\"}'"
   ]
  }
 ],
 "metadata": {
  "accelerator": "GPU",
  "colab": {
   "collapsed_sections": [],
   "name": "train_Chainer_GPU_Tesla-T4.ipynb",
   "provenance": [],
   "version": "0.3.2"
  },
  "kernelspec": {
   "display_name": "Python 3",
   "language": "python",
   "name": "python3"
  },
  "language_info": {
   "codemirror_mode": {
    "name": "ipython",
    "version": 3
   },
   "file_extension": ".py",
   "mimetype": "text/x-python",
   "name": "python",
   "nbconvert_exporter": "python",
   "pygments_lexer": "ipython3",
   "version": "3.7.3"
  }
 },
 "nbformat": 4,
 "nbformat_minor": 1
}
