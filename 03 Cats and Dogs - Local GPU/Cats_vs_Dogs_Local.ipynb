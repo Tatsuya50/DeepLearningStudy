{
 "cells": [
  {
   "cell_type": "markdown",
   "metadata": {},
   "source": [
    "# Cats and Dogs"
   ]
  },
  {
   "cell_type": "code",
   "execution_count": 1,
   "metadata": {},
   "outputs": [],
   "source": [
    "import os                        # OS依存の処理を共通化するモジュール\n",
    "import glob                      # ファイルやフォルダを操作する際の便利なモジュール\n",
    "import numpy as np               # 数値計算用モジュール\n",
    "import matplotlib.pyplot as plt  # 図形描画用モジュール"
   ]
  },
  {
   "cell_type": "code",
   "execution_count": 2,
   "metadata": {},
   "outputs": [],
   "source": [
    "# Jupyter の notebook 内で図形を表示するために必要な指示\n",
    "# 注意： Python のコードとして動かすときには次の行を削除しておくこと！\n",
    "%matplotlib inline"
   ]
  },
  {
   "cell_type": "code",
   "execution_count": 3,
   "metadata": {},
   "outputs": [
    {
     "name": "stderr",
     "output_type": "stream",
     "text": [
      "Using TensorFlow backend.\n"
     ]
    }
   ],
   "source": [
    "# Deep Learning の基本ライブラリである Tensorflow を使いやすくするための Keras を導入する\n",
    "from keras.preprocessing.image import load_img, img_to_array\n",
    "from keras.utils import np_utils"
   ]
  },
  {
   "cell_type": "code",
   "execution_count": 4,
   "metadata": {},
   "outputs": [],
   "source": [
    "# 画像を読み込んでデータとラベルを順に追加するためのリスト（入れ物）\n",
    "images = []\n",
    "labels = []\n",
    "\n",
    "def glob_images(dir, label, img_size, max_count):\n",
    "    files = glob.glob(dir + \"/*.jpg\")\n",
    "    for count, f in enumerate(files):\n",
    "        img = load_img(f, target_size=(img_size, img_size))\n",
    "        img = img.convert(\"RGB\")\n",
    "        \n",
    "        # 画像を行列に変換する ary.shape ⇒ (img_size, phoimg_sizeto_size, 3)\n",
    "        ary = img_to_array(img)\n",
    "                \n",
    "        images.append(ary)     # データをリストに追加\n",
    "        labels.append(label)   # ラベルをリストに追加\n",
    "        \n",
    "        if count >= max_count - 1:\n",
    "            break"
   ]
  },
  {
   "cell_type": "code",
   "execution_count": 5,
   "metadata": {},
   "outputs": [
    {
     "name": "stdout",
     "output_type": "stream",
     "text": [
      "path :  ./cats_and_dogs_small/train/cats\n",
      "label:  0\n",
      "200\n",
      "path :  ./cats_and_dogs_small/train/dogs\n",
      "label:  1\n",
      "200\n"
     ]
    }
   ],
   "source": [
    "path = \"./cats_and_dogs_small/train/\"\n",
    "\n",
    "label = 0\n",
    "label_names = []\n",
    "\n",
    "# 変換後の画像のサイズ (縦と横は同じに設定) [この値を変更して再実行してみる]\n",
    "img_size = 75\n",
    "\n",
    "# 各フォルダ内で読み込む画像枚数\n",
    "max_count = 200    # 500 や 1000 に変更して、test データの予測精度を比較する\n",
    "\n",
    "for name in os.listdir(path):\n",
    "    if os.path.isdir(path + name):\n",
    "        label_names.append(name)\n",
    "        print(\"path : \", path + name)\n",
    "        print(\"label: \", label)\n",
    "        glob_images(path + name, label, img_size, max_count)\n",
    "        print(labels.count(label))\n",
    "        label += 1\n",
    "\n",
    "# numpy の array形式に変換\n",
    "images = np.asarray(images)\n",
    "labels = np.asarray(labels)\n",
    "\n",
    "# 画像データを整数型から浮動小数点型に変換し、正規化 (0～255 ⇒ 0.0～1.0)\n",
    "images = images.astype(np.float32) / 255.0"
   ]
  },
  {
   "cell_type": "markdown",
   "metadata": {},
   "source": [
    "### ヒント:\n",
    "各フォルダ内で読み込む画像枚数： <font color='red'>**max_count**</font> を 200 から 500 や 1000 に変更して、最後のセルで計算される test データの予測精度を比較する"
   ]
  },
  {
   "cell_type": "code",
   "execution_count": 6,
   "metadata": {},
   "outputs": [
    {
     "name": "stdout",
     "output_type": "stream",
     "text": [
      "ラベルの種類数 :  2\n"
     ]
    }
   ],
   "source": [
    "# ラベルの種類数\n",
    "classes = len(label_names)\n",
    "print(\"ラベルの種類数 : \", classes)\n",
    "\n",
    "# ラベルをone-hotベクトル形式に変換\n",
    "labels = np_utils.to_categorical(labels, classes)"
   ]
  },
  {
   "cell_type": "code",
   "execution_count": 7,
   "metadata": {},
   "outputs": [
    {
     "name": "stdout",
     "output_type": "stream",
     "text": [
      "(400, 75, 75, 3)\n",
      "(400, 2)\n"
     ]
    }
   ],
   "source": [
    "print(images.shape)\n",
    "print(labels.shape)"
   ]
  },
  {
   "cell_type": "code",
   "execution_count": 8,
   "metadata": {},
   "outputs": [
    {
     "name": "stdout",
     "output_type": "stream",
     "text": [
      "X_train:  280\n",
      "y_train:  280\n",
      "X_test :  120\n",
      "y_test :  120\n"
     ]
    }
   ],
   "source": [
    "# データを訓練用と検証用とに分けるモジュール\n",
    "from sklearn.model_selection import train_test_split\n",
    "\n",
    "X_train, X_test, y_train, y_test = train_test_split(images, labels, test_size=0.3, random_state=0)\n",
    "\n",
    "print(\"X_train: \", len(X_train))\n",
    "print(\"y_train: \", len(y_train))\n",
    "print(\"X_test : \", len(X_test))\n",
    "print(\"y_test : \", len(y_test))"
   ]
  },
  {
   "cell_type": "code",
   "execution_count": 9,
   "metadata": {},
   "outputs": [
    {
     "name": "stdout",
     "output_type": "stream",
     "text": [
      "WARNING:tensorflow:From C:\\Anaconda3\\lib\\site-packages\\tensorflow\\python\\framework\\op_def_library.py:263: colocate_with (from tensorflow.python.framework.ops) is deprecated and will be removed in a future version.\n",
      "Instructions for updating:\n",
      "Colocations handled automatically by placer.\n"
     ]
    }
   ],
   "source": [
    "from keras.models import Sequential\n",
    "from keras.layers import Conv2D, MaxPooling2D, Activation, Dropout, Flatten, Dense\n",
    "\n",
    "# Sequentialタイプのモデルを生成\n",
    "model = Sequential()\n",
    "\n",
    "model.add(Conv2D(32, (3, 3), activation='relu', input_shape=(img_size, img_size, 3)))\n",
    "model.add(MaxPooling2D(pool_size=(2, 2)))\n",
    "\n",
    "model.add(Conv2D(64, (3, 3), activation='relu'))\n",
    "model.add(MaxPooling2D(pool_size=(2, 2)))\n",
    "\n",
    "model.add(Conv2D(128, (3, 3), activation='relu'))\n",
    "model.add(MaxPooling2D(pool_size=(2, 2)))\n",
    "\n",
    "model.add(Flatten())\n",
    "model.add(Dense(128, activation='relu'))\n",
    "model.add(Dense(classes, activation='softmax'))\n",
    "\n",
    "# モデルをコンパイル\n",
    "model.compile(\n",
    "        loss='categorical_crossentropy',\n",
    "        optimizer='adam',\n",
    "        metrics=['accuracy'])"
   ]
  },
  {
   "cell_type": "code",
   "execution_count": 10,
   "metadata": {},
   "outputs": [
    {
     "name": "stdout",
     "output_type": "stream",
     "text": [
      "Model: \"sequential_1\"\n",
      "_________________________________________________________________\n",
      "Layer (type)                 Output Shape              Param #   \n",
      "=================================================================\n",
      "conv2d_1 (Conv2D)            (None, 73, 73, 32)        896       \n",
      "_________________________________________________________________\n",
      "max_pooling2d_1 (MaxPooling2 (None, 36, 36, 32)        0         \n",
      "_________________________________________________________________\n",
      "conv2d_2 (Conv2D)            (None, 34, 34, 64)        18496     \n",
      "_________________________________________________________________\n",
      "max_pooling2d_2 (MaxPooling2 (None, 17, 17, 64)        0         \n",
      "_________________________________________________________________\n",
      "conv2d_3 (Conv2D)            (None, 15, 15, 128)       73856     \n",
      "_________________________________________________________________\n",
      "max_pooling2d_3 (MaxPooling2 (None, 7, 7, 128)         0         \n",
      "_________________________________________________________________\n",
      "flatten_1 (Flatten)          (None, 6272)              0         \n",
      "_________________________________________________________________\n",
      "dense_1 (Dense)              (None, 128)               802944    \n",
      "_________________________________________________________________\n",
      "dense_2 (Dense)              (None, 2)                 258       \n",
      "=================================================================\n",
      "Total params: 896,450\n",
      "Trainable params: 896,450\n",
      "Non-trainable params: 0\n",
      "_________________________________________________________________\n"
     ]
    }
   ],
   "source": [
    "# モデルのサマリを表示\n",
    "model.summary()"
   ]
  },
  {
   "cell_type": "code",
   "execution_count": 11,
   "metadata": {
    "scrolled": true
   },
   "outputs": [
    {
     "name": "stdout",
     "output_type": "stream",
     "text": [
      "WARNING:tensorflow:From C:\\Anaconda3\\lib\\site-packages\\tensorflow\\python\\ops\\math_ops.py:3066: to_int32 (from tensorflow.python.ops.math_ops) is deprecated and will be removed in a future version.\n",
      "Instructions for updating:\n",
      "Use tf.cast instead.\n",
      "Train on 280 samples, validate on 120 samples\n",
      "Epoch 1/50\n",
      "280/280 [==============================] - 3s 9ms/step - loss: 0.7041 - acc: 0.5250 - val_loss: 0.7059 - val_acc: 0.4750\n",
      "Epoch 2/50\n",
      "280/280 [==============================] - 0s 434us/step - loss: 0.6874 - acc: 0.5714 - val_loss: 0.6972 - val_acc: 0.4750\n",
      "Epoch 3/50\n",
      "280/280 [==============================] - 0s 417us/step - loss: 0.6656 - acc: 0.6214 - val_loss: 0.6963 - val_acc: 0.5083\n",
      "Epoch 4/50\n",
      "280/280 [==============================] - 0s 437us/step - loss: 0.6079 - acc: 0.6857 - val_loss: 0.6915 - val_acc: 0.5833\n",
      "Epoch 5/50\n",
      "280/280 [==============================] - 0s 377us/step - loss: 0.5508 - acc: 0.7321 - val_loss: 0.6855 - val_acc: 0.5917\n",
      "Epoch 6/50\n",
      "280/280 [==============================] - 0s 387us/step - loss: 0.4884 - acc: 0.7571 - val_loss: 0.7189 - val_acc: 0.5667\n",
      "Epoch 7/50\n",
      "280/280 [==============================] - 0s 387us/step - loss: 0.4308 - acc: 0.7893 - val_loss: 0.7552 - val_acc: 0.6083\n",
      "Epoch 8/50\n",
      "280/280 [==============================] - 0s 401us/step - loss: 0.3213 - acc: 0.8857 - val_loss: 0.7833 - val_acc: 0.6333\n",
      "Epoch 9/50\n",
      "280/280 [==============================] - 0s 392us/step - loss: 0.2454 - acc: 0.9107 - val_loss: 0.8933 - val_acc: 0.6167\n",
      "Epoch 10/50\n",
      "280/280 [==============================] - 0s 387us/step - loss: 0.2455 - acc: 0.9036 - val_loss: 0.9978 - val_acc: 0.6167\n",
      "Epoch 11/50\n",
      "280/280 [==============================] - 0s 396us/step - loss: 0.1757 - acc: 0.9393 - val_loss: 0.9552 - val_acc: 0.5833\n",
      "Epoch 12/50\n",
      "280/280 [==============================] - 0s 387us/step - loss: 0.1415 - acc: 0.9607 - val_loss: 1.1342 - val_acc: 0.6083\n",
      "Epoch 13/50\n",
      "280/280 [==============================] - 0s 381us/step - loss: 0.0852 - acc: 0.9750 - val_loss: 1.1779 - val_acc: 0.6583\n",
      "Epoch 14/50\n",
      "280/280 [==============================] - 0s 390us/step - loss: 0.0355 - acc: 0.9929 - val_loss: 1.2967 - val_acc: 0.6333\n",
      "Epoch 15/50\n",
      "280/280 [==============================] - 0s 390us/step - loss: 0.0313 - acc: 0.9964 - val_loss: 1.5049 - val_acc: 0.6250\n",
      "Epoch 16/50\n",
      "280/280 [==============================] - 0s 390us/step - loss: 0.0154 - acc: 1.0000 - val_loss: 1.6099 - val_acc: 0.6083\n",
      "Epoch 17/50\n",
      "280/280 [==============================] - 0s 387us/step - loss: 0.0098 - acc: 1.0000 - val_loss: 1.5774 - val_acc: 0.6250\n",
      "Epoch 18/50\n",
      "280/280 [==============================] - 0s 387us/step - loss: 0.0065 - acc: 1.0000 - val_loss: 1.6854 - val_acc: 0.6250\n",
      "Epoch 19/50\n",
      "280/280 [==============================] - 0s 394us/step - loss: 0.0033 - acc: 1.0000 - val_loss: 1.8865 - val_acc: 0.5917\n",
      "Epoch 20/50\n",
      "280/280 [==============================] - 0s 387us/step - loss: 0.0021 - acc: 1.0000 - val_loss: 1.7886 - val_acc: 0.6417\n",
      "Epoch 21/50\n",
      "280/280 [==============================] - 0s 394us/step - loss: 0.0016 - acc: 1.0000 - val_loss: 1.8734 - val_acc: 0.6333\n",
      "Epoch 22/50\n",
      "280/280 [==============================] - 0s 398us/step - loss: 0.0012 - acc: 1.0000 - val_loss: 1.9237 - val_acc: 0.6250\n",
      "Epoch 23/50\n",
      "280/280 [==============================] - 0s 390us/step - loss: 0.0010 - acc: 1.0000 - val_loss: 1.9346 - val_acc: 0.6333\n",
      "Epoch 24/50\n",
      "280/280 [==============================] - 0s 394us/step - loss: 8.9827e-04 - acc: 1.0000 - val_loss: 1.9674 - val_acc: 0.6333\n",
      "Epoch 25/50\n",
      "280/280 [==============================] - 0s 400us/step - loss: 7.8895e-04 - acc: 1.0000 - val_loss: 2.0076 - val_acc: 0.6333\n",
      "Epoch 26/50\n",
      "280/280 [==============================] - 0s 417us/step - loss: 7.1475e-04 - acc: 1.0000 - val_loss: 2.0211 - val_acc: 0.6333\n",
      "Epoch 27/50\n",
      "280/280 [==============================] - 0s 373us/step - loss: 6.4449e-04 - acc: 1.0000 - val_loss: 2.0407 - val_acc: 0.6333\n",
      "Epoch 28/50\n",
      "280/280 [==============================] - 0s 367us/step - loss: 5.9132e-04 - acc: 1.0000 - val_loss: 2.0587 - val_acc: 0.6333\n",
      "Epoch 29/50\n",
      "280/280 [==============================] - 0s 372us/step - loss: 5.4044e-04 - acc: 1.0000 - val_loss: 2.0642 - val_acc: 0.6333\n",
      "Epoch 30/50\n",
      "280/280 [==============================] - 0s 365us/step - loss: 4.9685e-04 - acc: 1.0000 - val_loss: 2.0820 - val_acc: 0.6333\n",
      "Epoch 31/50\n",
      "280/280 [==============================] - 0s 376us/step - loss: 4.5518e-04 - acc: 1.0000 - val_loss: 2.1099 - val_acc: 0.6250\n",
      "Epoch 32/50\n",
      "280/280 [==============================] - 0s 380us/step - loss: 4.2751e-04 - acc: 1.0000 - val_loss: 2.1105 - val_acc: 0.6333\n",
      "Epoch 33/50\n",
      "280/280 [==============================] - 0s 375us/step - loss: 3.9490e-04 - acc: 1.0000 - val_loss: 2.1295 - val_acc: 0.6250\n",
      "Epoch 34/50\n",
      "280/280 [==============================] - 0s 377us/step - loss: 3.6628e-04 - acc: 1.0000 - val_loss: 2.1486 - val_acc: 0.6250\n",
      "Epoch 35/50\n",
      "280/280 [==============================] - 0s 387us/step - loss: 3.4375e-04 - acc: 1.0000 - val_loss: 2.1542 - val_acc: 0.6250\n",
      "Epoch 36/50\n",
      "280/280 [==============================] - 0s 401us/step - loss: 3.2132e-04 - acc: 1.0000 - val_loss: 2.1779 - val_acc: 0.6250\n",
      "Epoch 37/50\n",
      "280/280 [==============================] - 0s 404us/step - loss: 2.9838e-04 - acc: 1.0000 - val_loss: 2.1777 - val_acc: 0.6250\n",
      "Epoch 38/50\n",
      "280/280 [==============================] - 0s 397us/step - loss: 2.8166e-04 - acc: 1.0000 - val_loss: 2.1964 - val_acc: 0.6250\n",
      "Epoch 39/50\n",
      "280/280 [==============================] - 0s 369us/step - loss: 2.6784e-04 - acc: 1.0000 - val_loss: 2.2029 - val_acc: 0.6250\n",
      "Epoch 40/50\n",
      "280/280 [==============================] - 0s 380us/step - loss: 2.5030e-04 - acc: 1.0000 - val_loss: 2.2235 - val_acc: 0.6167\n",
      "Epoch 41/50\n",
      "280/280 [==============================] - 0s 369us/step - loss: 2.3882e-04 - acc: 1.0000 - val_loss: 2.2203 - val_acc: 0.6250\n",
      "Epoch 42/50\n",
      "280/280 [==============================] - 0s 376us/step - loss: 2.2589e-04 - acc: 1.0000 - val_loss: 2.2498 - val_acc: 0.6167\n",
      "Epoch 43/50\n",
      "280/280 [==============================] - 0s 382us/step - loss: 2.1132e-04 - acc: 1.0000 - val_loss: 2.2450 - val_acc: 0.6167\n",
      "Epoch 44/50\n",
      "280/280 [==============================] - 0s 376us/step - loss: 1.9957e-04 - acc: 1.0000 - val_loss: 2.2590 - val_acc: 0.6167\n",
      "Epoch 45/50\n",
      "280/280 [==============================] - 0s 427us/step - loss: 1.8970e-04 - acc: 1.0000 - val_loss: 2.2809 - val_acc: 0.6167\n",
      "Epoch 46/50\n",
      "280/280 [==============================] - 0s 378us/step - loss: 1.8112e-04 - acc: 1.0000 - val_loss: 2.2780 - val_acc: 0.6167\n",
      "Epoch 47/50\n",
      "280/280 [==============================] - 0s 376us/step - loss: 1.7206e-04 - acc: 1.0000 - val_loss: 2.2869 - val_acc: 0.6083\n",
      "Epoch 48/50\n",
      "280/280 [==============================] - 0s 387us/step - loss: 1.6330e-04 - acc: 1.0000 - val_loss: 2.2939 - val_acc: 0.6083\n",
      "Epoch 49/50\n",
      "280/280 [==============================] - 0s 397us/step - loss: 1.5584e-04 - acc: 1.0000 - val_loss: 2.3108 - val_acc: 0.6167\n",
      "Epoch 50/50\n",
      "280/280 [==============================] - 0s 430us/step - loss: 1.4934e-04 - acc: 1.0000 - val_loss: 2.3154 - val_acc: 0.6000\n",
      "Elapsed Time : 8.291990280151367[sec]\n"
     ]
    }
   ],
   "source": [
    "batch_size = 32    # バッチサイズ\n",
    "epochs     = 50    # 学習回数\n",
    "\n",
    "# 開始時刻を記録\n",
    "import time\n",
    "start = time.time()\n",
    "\n",
    "# モデルの訓練（学習）\n",
    "# https://keras.io/ja/models/sequential/\n",
    "history = model.fit(X_train, y_train,\n",
    "                    batch_size=batch_size,\n",
    "                    epochs=epochs,\n",
    "                    validation_data=(X_test, y_test),\n",
    "                    verbose=1)\n",
    "\n",
    "# 経過時間を表示\n",
    "elapsed_time = time.time() - start\n",
    "print(\"Elapsed Time : {0}\".format(elapsed_time) + \"[sec]\")"
   ]
  },
  {
   "cell_type": "code",
   "execution_count": 12,
   "metadata": {},
   "outputs": [
    {
     "data": {
      "image/png": "[encoded data removed]",
      "text/plain": [
       "<Figure size 432x288 with 1 Axes>"
      ]
     },
     "metadata": {
      "needs_background": "light"
     },
     "output_type": "display_data"
    },
    {
     "data": {
      "image/png": "[encoded data removed]",
      "text/plain": [
       "<Figure size 432x288 with 1 Axes>"
      ]
     },
     "metadata": {
      "needs_background": "light"
     },
     "output_type": "display_data"
    }
   ],
   "source": [
    "# 現在の時刻をファイル名に挿入するための準備\n",
    "import datetime\n",
    "now = datetime.datetime.today().strftime('%Y_%m_%d_%H%M%S')\n",
    "\n",
    "# 精度の履歴をプロット\n",
    "plt.ylim(0.0, 1.0)\n",
    "plt.plot(history.history['acc']    , \"o-\", label=\"accuracy\")  # 訓練データの精度\n",
    "plt.plot(history.history['val_acc'], \"o-\", label=\"val_acc\")   # テストデータの精度\n",
    "plt.title('model accuracy')\n",
    "plt.xlabel('epoch')\n",
    "plt.ylabel('accuracy')\n",
    "plt.legend(loc=\"lower right\")\n",
    "\n",
    "# 精度のグラフを画像として保存\n",
    "filename = '04_keras_cnn_cats_and_dogs_Simple_acc_' + now + '.png'\n",
    "plt.savefig(filename)\n",
    "\n",
    "plt.figure()\n",
    "\n",
    "# 損失の履歴をプロット\n",
    "plt.plot(history.history['loss']    , \"o-\", label=\"loss\")      # 訓練データの損失\n",
    "plt.plot(history.history['val_loss'], \"o-\", label=\"val_loss\")  # テストデータの損失\n",
    "plt.title('model loss')\n",
    "plt.xlabel('epoch')\n",
    "plt.ylabel('loss')\n",
    "plt.legend(loc='center right')\n",
    "\n",
    "# 損失のグラフを画像として保存\n",
    "filename = '04_keras_cnn_cats_and_dogs_Simple_loss_' + now + '.png'\n",
    "plt.savefig(filename)\n",
    "\n",
    "plt.show()"
   ]
  },
  {
   "cell_type": "code",
   "execution_count": 13,
   "metadata": {},
   "outputs": [
    {
     "name": "stdout",
     "output_type": "stream",
     "text": [
      "path :  ./cats_and_dogs_small/test/cats\n",
      "label:  0\n",
      "200\n",
      "path :  ./cats_and_dogs_small/test/dogs\n",
      "label:  1\n",
      "200\n",
      "400/400 [==============================] - 0s 191us/step\n",
      "accuracy: 0.5475\n",
      "loss    : 2.726730937957764\n"
     ]
    }
   ],
   "source": [
    "# 学習済みの識別器を評価するための画像セットのパス\n",
    "path = \"./cats_and_dogs_small/test/\"\n",
    "\n",
    "images = []\n",
    "labels = []\n",
    "\n",
    "max_count = 200\n",
    "label = 0\n",
    "\n",
    "for name in os.listdir(path):\n",
    "    if os.path.isdir(path + name):\n",
    "        print(\"path : \", path + name)\n",
    "        print(\"label: \", label)\n",
    "        glob_images(path + name, label, img_size, max_count)\n",
    "        print(labels.count(label))\n",
    "        label += 1\n",
    "\n",
    "# numpy の array形式に変換\n",
    "images = np.asarray(images)\n",
    "labels = np.asarray(labels)\n",
    "\n",
    "# 画像データを整数型から浮動小数点型に変換し、正規化 (0～255 ⇒ 0.0～1.0)\n",
    "images = images.astype(np.float32) / 255.0\n",
    "\n",
    "# ラベルをone-hotベクトル形式に変換\n",
    "labels = np_utils.to_categorical(labels, classes)\n",
    "\n",
    "# 学習済みの識別器を評価\n",
    "loss, accuracy = model.evaluate(images, labels)\n",
    "print(\"accuracy: {}\".format(accuracy))\n",
    "print(\"loss    : {}\".format(loss))"
   ]
  },
  {
   "cell_type": "code",
   "execution_count": null,
   "metadata": {},
   "outputs": [],
   "source": []
  }
 ],
 "metadata": {
  "kernelspec": {
   "display_name": "Python 3",
   "language": "python",
   "name": "python3"
  },
  "language_info": {
   "codemirror_mode": {
    "name": "ipython",
    "version": 3
   },
   "file_extension": ".py",
   "mimetype": "text/x-python",
   "name": "python",
   "nbconvert_exporter": "python",
   "pygments_lexer": "ipython3",
   "version": "3.7.3"
  }
 },
 "nbformat": 4,
 "nbformat_minor": 2
}
