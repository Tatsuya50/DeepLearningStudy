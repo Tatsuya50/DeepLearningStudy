{
  "nbformat": 4,
  "nbformat_minor": 0,
  "metadata": {
    "kernelspec": {
      "name": "python3",
      "display_name": "Python 3"
    },
    "language_info": {
      "codemirror_mode": {
        "name": "ipython",
        "version": 3
      },
      "file_extension": ".py",
      "mimetype": "text/x-python",
      "name": "python",
      "nbconvert_exporter": "python",
      "pygments_lexer": "ipython3",
      "version": "3.6.6"
    },
    "widgets": {
      "application/vnd.jupyter.widget-state+json": {
        "b61e882d76ee4a53bb5b32491664e0db": {
          "model_module": "@jupyter-widgets/controls",
          "model_name": "HBoxModel",
          "state": {
            "_view_name": "HBoxView",
            "_dom_classes": [],
            "_model_name": "HBoxModel",
            "_view_module": "@jupyter-widgets/controls",
            "_model_module_version": "1.5.0",
            "_view_count": null,
            "_view_module_version": "1.5.0",
            "box_style": "",
            "layout": "IPY_MODEL_37bf83eea065448bb3f926eaa61fc5d5",
            "_model_module": "@jupyter-widgets/controls",
            "children": [
              "IPY_MODEL_d21724864b4b42ddbe7dca4c1a9d3ac3",
              "IPY_MODEL_388e663a82544fb999f84486ea387d98"
            ]
          }
        },
        "37bf83eea065448bb3f926eaa61fc5d5": {
          "model_module": "@jupyter-widgets/base",
          "model_name": "LayoutModel",
          "state": {
            "_view_name": "LayoutView",
            "grid_template_rows": null,
            "right": null,
            "justify_content": null,
            "_view_module": "@jupyter-widgets/base",
            "overflow": null,
            "_model_module_version": "1.2.0",
            "_view_count": null,
            "flex_flow": null,
            "width": null,
            "min_width": null,
            "border": null,
            "align_items": null,
            "bottom": null,
            "_model_module": "@jupyter-widgets/base",
            "top": null,
            "grid_column": null,
            "overflow_y": null,
            "overflow_x": null,
            "grid_auto_flow": null,
            "grid_area": null,
            "grid_template_columns": null,
            "flex": null,
            "_model_name": "LayoutModel",
            "justify_items": null,
            "grid_row": null,
            "max_height": null,
            "align_content": null,
            "visibility": null,
            "align_self": null,
            "height": null,
            "min_height": null,
            "padding": null,
            "grid_auto_rows": null,
            "grid_gap": null,
            "max_width": null,
            "order": null,
            "_view_module_version": "1.2.0",
            "grid_template_areas": null,
            "object_position": null,
            "object_fit": null,
            "grid_auto_columns": null,
            "margin": null,
            "display": null,
            "left": null
          }
        },
        "d21724864b4b42ddbe7dca4c1a9d3ac3": {
          "model_module": "@jupyter-widgets/controls",
          "model_name": "IntProgressModel",
          "state": {
            "_view_name": "ProgressView",
            "style": "IPY_MODEL_ed07a14484cf4396abc25551f8031be2",
            "_dom_classes": [],
            "description": "",
            "_model_name": "IntProgressModel",
            "bar_style": "success",
            "max": 50210,
            "_view_module": "@jupyter-widgets/controls",
            "_model_module_version": "1.5.0",
            "value": 50210,
            "_view_count": null,
            "_view_module_version": "1.5.0",
            "orientation": "horizontal",
            "min": 0,
            "description_tooltip": null,
            "_model_module": "@jupyter-widgets/controls",
            "layout": "IPY_MODEL_c3fb1dc44e0c4156a3bc962c27537ae7"
          }
        },
        "388e663a82544fb999f84486ea387d98": {
          "model_module": "@jupyter-widgets/controls",
          "model_name": "HTMLModel",
          "state": {
            "_view_name": "HTMLView",
            "style": "IPY_MODEL_a20fbb767c1d43b9957393eaf9050583",
            "_dom_classes": [],
            "description": "",
            "_model_name": "HTMLModel",
            "placeholder": "​",
            "_view_module": "@jupyter-widgets/controls",
            "_model_module_version": "1.5.0",
            "value": "100% 50210/50210 [00:39&lt;00:00, 1265.00it/s]",
            "_view_count": null,
            "_view_module_version": "1.5.0",
            "description_tooltip": null,
            "_model_module": "@jupyter-widgets/controls",
            "layout": "IPY_MODEL_63a127a7f0b74cfeafd2943059ec88f0"
          }
        },
        "ed07a14484cf4396abc25551f8031be2": {
          "model_module": "@jupyter-widgets/controls",
          "model_name": "ProgressStyleModel",
          "state": {
            "_view_name": "StyleView",
            "_model_name": "ProgressStyleModel",
            "description_width": "",
            "_view_module": "@jupyter-widgets/base",
            "_model_module_version": "1.5.0",
            "_view_count": null,
            "_view_module_version": "1.2.0",
            "bar_color": null,
            "_model_module": "@jupyter-widgets/controls"
          }
        },
        "c3fb1dc44e0c4156a3bc962c27537ae7": {
          "model_module": "@jupyter-widgets/base",
          "model_name": "LayoutModel",
          "state": {
            "_view_name": "LayoutView",
            "grid_template_rows": null,
            "right": null,
            "justify_content": null,
            "_view_module": "@jupyter-widgets/base",
            "overflow": null,
            "_model_module_version": "1.2.0",
            "_view_count": null,
            "flex_flow": null,
            "width": null,
            "min_width": null,
            "border": null,
            "align_items": null,
            "bottom": null,
            "_model_module": "@jupyter-widgets/base",
            "top": null,
            "grid_column": null,
            "overflow_y": null,
            "overflow_x": null,
            "grid_auto_flow": null,
            "grid_area": null,
            "grid_template_columns": null,
            "flex": null,
            "_model_name": "LayoutModel",
            "justify_items": null,
            "grid_row": null,
            "max_height": null,
            "align_content": null,
            "visibility": null,
            "align_self": null,
            "height": null,
            "min_height": null,
            "padding": null,
            "grid_auto_rows": null,
            "grid_gap": null,
            "max_width": null,
            "order": null,
            "_view_module_version": "1.2.0",
            "grid_template_areas": null,
            "object_position": null,
            "object_fit": null,
            "grid_auto_columns": null,
            "margin": null,
            "display": null,
            "left": null
          }
        },
        "a20fbb767c1d43b9957393eaf9050583": {
          "model_module": "@jupyter-widgets/controls",
          "model_name": "DescriptionStyleModel",
          "state": {
            "_view_name": "StyleView",
            "_model_name": "DescriptionStyleModel",
            "description_width": "",
            "_view_module": "@jupyter-widgets/base",
            "_model_module_version": "1.5.0",
            "_view_count": null,
            "_view_module_version": "1.2.0",
            "_model_module": "@jupyter-widgets/controls"
          }
        },
        "63a127a7f0b74cfeafd2943059ec88f0": {
          "model_module": "@jupyter-widgets/base",
          "model_name": "LayoutModel",
          "state": {
            "_view_name": "LayoutView",
            "grid_template_rows": null,
            "right": null,
            "justify_content": null,
            "_view_module": "@jupyter-widgets/base",
            "overflow": null,
            "_model_module_version": "1.2.0",
            "_view_count": null,
            "flex_flow": null,
            "width": null,
            "min_width": null,
            "border": null,
            "align_items": null,
            "bottom": null,
            "_model_module": "@jupyter-widgets/base",
            "top": null,
            "grid_column": null,
            "overflow_y": null,
            "overflow_x": null,
            "grid_auto_flow": null,
            "grid_area": null,
            "grid_template_columns": null,
            "flex": null,
            "_model_name": "LayoutModel",
            "justify_items": null,
            "grid_row": null,
            "max_height": null,
            "align_content": null,
            "visibility": null,
            "align_self": null,
            "height": null,
            "min_height": null,
            "padding": null,
            "grid_auto_rows": null,
            "grid_gap": null,
            "max_width": null,
            "order": null,
            "_view_module_version": "1.2.0",
            "grid_template_areas": null,
            "object_position": null,
            "object_fit": null,
            "grid_auto_columns": null,
            "margin": null,
            "display": null,
            "left": null
          }
        }
      }
    },
    "colab": {
      "name": "Bengali Graphemes_ Starter EDA+ Multi Output CNN.ipynb",
      "provenance": [],
      "machine_shape": "hm",
      "include_colab_link": true
    },
    "accelerator": "GPU"
  },
  "cells": [
    {
      "cell_type": "markdown",
      "metadata": {
        "id": "view-in-github",
        "colab_type": "text"
      },
      "source": [
        "<a href=\"https://colab.research.google.com/github/Tatsuya50/DeepLearningStudy/blob/master/Bengali_Graphemes__Starter_EDA%2B_Multi_Output_CNN.ipynb\" target=\"_parent\"><img src=\"https://colab.research.google.com/assets/colab-badge.svg\" alt=\"Open In Colab\"/></a>"
      ]
    },
    {
      "cell_type": "markdown",
      "metadata": {
        "id": "ySyZOgkpAuBx",
        "colab_type": "text"
      },
      "source": [
        "# Kaggleからのデータダウンロード\n",
        "＊理由は不明だがたまにjsonファイルは取り直さないと認証が取れなくなる現象がある模様"
      ]
    },
    {
      "cell_type": "code",
      "metadata": {
        "id": "NczCtDo2A_qk",
        "colab_type": "code",
        "colab": {
          "resources": {
            "http://localhost:8080/nbextensions/google.colab/files.js": {
              "data": "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",
              "ok": true,
              "headers": [
                [
                  "content-type",
                  "application/javascript"
                ]
              ],
              "status": 200,
              "status_text": ""
            }
          },
          "base_uri": "https://localhost:8080/",
          "height": 318
        },
        "outputId": "5ec22bc6-de13-4746-ea03-6148aabb74d8"
      },
      "source": [
        "!pip install kaggle\n",
        "from google.colab import files\n",
        "files.upload()"
      ],
      "execution_count": 2,
      "outputs": [
        {
          "output_type": "stream",
          "text": [
            "Requirement already satisfied: kaggle in /usr/local/lib/python3.6/dist-packages (1.5.6)\n",
            "Requirement already satisfied: certifi in /usr/local/lib/python3.6/dist-packages (from kaggle) (2019.11.28)\n",
            "Requirement already satisfied: python-dateutil in /usr/local/lib/python3.6/dist-packages (from kaggle) (2.6.1)\n",
            "Requirement already satisfied: six>=1.10 in /usr/local/lib/python3.6/dist-packages (from kaggle) (1.12.0)\n",
            "Requirement already satisfied: urllib3<1.25,>=1.21.1 in /usr/local/lib/python3.6/dist-packages (from kaggle) (1.24.3)\n",
            "Requirement already satisfied: tqdm in /usr/local/lib/python3.6/dist-packages (from kaggle) (4.28.1)\n",
            "Requirement already satisfied: python-slugify in /usr/local/lib/python3.6/dist-packages (from kaggle) (4.0.0)\n",
            "Requirement already satisfied: requests in /usr/local/lib/python3.6/dist-packages (from kaggle) (2.21.0)\n",
            "Requirement already satisfied: text-unidecode>=1.3 in /usr/local/lib/python3.6/dist-packages (from python-slugify->kaggle) (1.3)\n",
            "Requirement already satisfied: chardet<3.1.0,>=3.0.2 in /usr/local/lib/python3.6/dist-packages (from requests->kaggle) (3.0.4)\n",
            "Requirement already satisfied: idna<2.9,>=2.5 in /usr/local/lib/python3.6/dist-packages (from requests->kaggle) (2.8)\n"
          ],
          "name": "stdout"
        },
        {
          "output_type": "display_data",
          "data": {
            "text/html": [
              "\n",
              "     <input type=\"file\" id=\"files-d6886ca7-7910-4dda-977d-fb03b96bc4ad\" name=\"files[]\" multiple disabled />\n",
              "     <output id=\"result-d6886ca7-7910-4dda-977d-fb03b96bc4ad\">\n",
              "      Upload widget is only available when the cell has been executed in the\n",
              "      current browser session. Please rerun this cell to enable.\n",
              "      </output>\n",
              "      <script src=\"/nbextensions/google.colab/files.js\"></script> "
            ],
            "text/plain": [
              "<IPython.core.display.HTML object>"
            ]
          },
          "metadata": {
            "tags": []
          }
        },
        {
          "output_type": "stream",
          "text": [
            "Saving kaggle.json to kaggle.json\n"
          ],
          "name": "stdout"
        },
        {
          "output_type": "execute_result",
          "data": {
            "text/plain": [
              "{'kaggle.json': b'{\"username\":\"tatsuya214355\",\"key\":\"8db2ef1ba9a1e08be854e5642d946d75\"}'}"
            ]
          },
          "metadata": {
            "tags": []
          },
          "execution_count": 2
        }
      ]
    },
    {
      "cell_type": "code",
      "metadata": {
        "id": "-2RbycjcBRKG",
        "colab_type": "code",
        "colab": {
          "base_uri": "https://localhost:8080/",
          "height": 35
        },
        "outputId": "80fae01f-4c62-4c5b-a6c9-97d00d40ccd2"
      },
      "source": [
        "!mkdir -p ~/.kaggle  #kaggleのファイルを作る\n",
        "!cp kaggle.json ~/.kaggle  #kaggleのトークンをコピーする\n",
        "\n",
        "from googleapiclient.discovery import build\n",
        "import io, os\n",
        "from googleapiclient.http import MediaIoBaseDownload\n",
        "from google.colab import auth\n",
        "\n",
        "auth.authenticate_user()\n",
        "\n",
        "drive_service = build('drive', 'v3')\n",
        "results = drive_service.files().list(\n",
        "        q=\"name = 'kaggle.json'\", fields=\"files(id)\").execute()\n",
        "kaggle_api_key = results.get('files', [])\n",
        "\n",
        "filename = \"/root/.kaggle/kaggle.json\"\n",
        "os.makedirs(os.path.dirname(filename), exist_ok=True)\n",
        "\n",
        "request = drive_service.files().get_media(fileId=kaggle_api_key[0]['id'])\n",
        "fh = io.FileIO(filename, 'wb')\n",
        "downloader = MediaIoBaseDownload(fh, request)\n",
        "done = False\n",
        "while done is False:\n",
        "    status, done = downloader.next_chunk()\n",
        "    print(\"Download %d%%.\" % int(status.progress() * 100))\n",
        "os.chmod(filename, 600)"
      ],
      "execution_count": 3,
      "outputs": [
        {
          "output_type": "stream",
          "text": [
            "Download 100%.\n"
          ],
          "name": "stdout"
        }
      ]
    },
    {
      "cell_type": "code",
      "metadata": {
        "id": "VACLXxdIDx7t",
        "colab_type": "code",
        "colab": {}
      },
      "source": [
        "!chmod 600 /root/.kaggle/kaggle.json"
      ],
      "execution_count": 0,
      "outputs": []
    },
    {
      "cell_type": "code",
      "metadata": {
        "id": "CQjwilL-Csce",
        "colab_type": "code",
        "colab": {
          "base_uri": "https://localhost:8080/",
          "height": 710
        },
        "outputId": "1861b3b1-61c0-4df3-f8e1-babbfec64707"
      },
      "source": [
        "!kaggle competitions download -c bengaliai-cv19"
      ],
      "execution_count": 5,
      "outputs": [
        {
          "output_type": "stream",
          "text": [
            "Warning: Looks like you're using an outdated API Version, please consider updating (server 1.5.6 / client 1.5.4)\n",
            "Downloading train_image_data_1.parquet.zip to /content\n",
            " 99% 976M/986M [00:09<00:00, 95.8MB/s]\n",
            "100% 986M/986M [00:09<00:00, 107MB/s] \n",
            "Downloading train_image_data_2.parquet.zip to /content\n",
            " 99% 982M/992M [00:09<00:00, 107MB/s]\n",
            "100% 992M/992M [00:10<00:00, 104MB/s]\n",
            "Downloading train_image_data_3.parquet.zip to /content\n",
            " 99% 988M/993M [00:23<00:00, 48.4MB/s]\n",
            "100% 993M/993M [00:23<00:00, 43.8MB/s]\n",
            "Downloading train.csv.zip to /content\n",
            " 76% 1.00M/1.32M [00:00<00:00, 1.55MB/s]\n",
            "100% 1.32M/1.32M [00:00<00:00, 1.94MB/s]\n",
            "Downloading test_image_data_1.parquet.zip to /content\n",
            "  0% 0.00/1.30M [00:00<?, ?B/s]\n",
            "100% 1.30M/1.30M [00:00<00:00, 88.3MB/s]\n",
            "Downloading test_image_data_3.parquet.zip to /content\n",
            "  0% 0.00/1.28M [00:00<?, ?B/s]\n",
            "100% 1.28M/1.28M [00:00<00:00, 184MB/s]\n",
            "Downloading test_image_data_2.parquet.zip to /content\n",
            "  0% 0.00/1.25M [00:00<?, ?B/s]\n",
            "100% 1.25M/1.25M [00:00<00:00, 185MB/s]\n",
            "Downloading class_map.csv to /content\n",
            "  0% 0.00/4.72k [00:00<?, ?B/s]\n",
            "100% 4.72k/4.72k [00:00<00:00, 4.80MB/s]\n",
            "Downloading test.csv to /content\n",
            "  0% 0.00/1.70k [00:00<?, ?B/s]\n",
            "100% 1.70k/1.70k [00:00<00:00, 1.71MB/s]\n",
            "Downloading train_image_data_0.parquet.zip to /content\n",
            " 99% 985M/991M [00:25<00:00, 36.1MB/s]\n",
            "100% 991M/991M [00:25<00:00, 40.8MB/s]\n",
            "Downloading test_image_data_0.parquet.zip to /content\n",
            "  0% 0.00/1.18M [00:00<?, ?B/s]\n",
            "100% 1.18M/1.18M [00:00<00:00, 168MB/s]\n",
            "Downloading sample_submission.csv to /content\n",
            "  0% 0.00/944 [00:00<?, ?B/s]\n",
            "100% 944/944 [00:00<00:00, 722kB/s]\n"
          ],
          "name": "stdout"
        }
      ]
    },
    {
      "cell_type": "code",
      "metadata": {
        "id": "_l2cdDSPCe_A",
        "colab_type": "code",
        "colab": {
          "base_uri": "https://localhost:8080/",
          "height": 181
        },
        "outputId": "41f63353-4aa8-47d3-ba03-478e2c8a5b87"
      },
      "source": [
        "from zipfile import ZipFile\n",
        "file_name = 'train.csv.zip'#ここに解凍したいファイルの名前を入れてください。\n",
        "\n",
        "with ZipFile(file_name , 'r') as zip_file:\n",
        "  zip_file.extractall()\n",
        "  print('done')\n",
        "\n",
        "from zipfile import ZipFile\n",
        "file_name = 'test_image_data_0.parquet.zip'#ここに解凍したいファイルの名前を入れてください。\n",
        "\n",
        "with ZipFile(file_name , 'r') as zip_file:\n",
        "  zip_file.extractall()\n",
        "  print('done')\n",
        "\n",
        "\n",
        "from zipfile import ZipFile\n",
        "file_name = 'test_image_data_1.parquet.zip'#ここに解凍したいファイルの名前を入れてください。\n",
        "\n",
        "with ZipFile(file_name , 'r') as zip_file:\n",
        "  zip_file.extractall()\n",
        "  print('done')\n",
        "\n",
        "\n",
        "from zipfile import ZipFile\n",
        "file_name = 'test_image_data_2.parquet.zip'#ここに解凍したいファイルの名前を入れてください。\n",
        "\n",
        "with ZipFile(file_name , 'r') as zip_file:\n",
        "  zip_file.extractall()\n",
        "  print('done')\n",
        "\n",
        "\n",
        "from zipfile import ZipFile\n",
        "file_name = 'test_image_data_3.parquet.zip'#ここに解凍したいファイルの名前を入れてください。\n",
        "\n",
        "with ZipFile(file_name , 'r') as zip_file:\n",
        "  zip_file.extractall()\n",
        "  print('done')\n",
        "\n",
        "\n",
        "from zipfile import ZipFile\n",
        "file_name = 'train_image_data_0.parquet.zip'#ここに解凍したいファイルの名前を入れてください。\n",
        "\n",
        "with ZipFile(file_name , 'r') as zip_file:\n",
        "  zip_file.extractall()\n",
        "  print('done')\n",
        "\n",
        "\n",
        "from zipfile import ZipFile\n",
        "file_name = 'train_image_data_1.parquet.zip'#ここに解凍したいファイルの名前を入れてください。\n",
        "\n",
        "with ZipFile(file_name , 'r') as zip_file:\n",
        "  zip_file.extractall()\n",
        "  print('done')\n",
        "\n",
        "from zipfile import ZipFile\n",
        "file_name = 'train_image_data_2.parquet.zip'#ここに解凍したいファイルの名前を入れてください。\n",
        "\n",
        "with ZipFile(file_name , 'r') as zip_file:\n",
        "  zip_file.extractall()\n",
        "  print('done')\n",
        "from zipfile import ZipFile\n",
        "file_name = 'train_image_data_3.parquet.zip'#ここに解凍したいファイルの名前を入れてください。\n",
        "\n",
        "with ZipFile(file_name , 'r') as zip_file:\n",
        "  zip_file.extractall()\n",
        "  print('done')\n"
      ],
      "execution_count": 6,
      "outputs": [
        {
          "output_type": "stream",
          "text": [
            "done\n",
            "done\n",
            "done\n",
            "done\n",
            "done\n",
            "done\n",
            "done\n",
            "done\n",
            "done\n"
          ],
          "name": "stdout"
        }
      ]
    },
    {
      "cell_type": "markdown",
      "metadata": {
        "id": "ULyBcznFFd-8",
        "colab_type": "text"
      },
      "source": [
        "# ライブラリの導入"
      ]
    },
    {
      "cell_type": "code",
      "metadata": {
        "_cell_guid": "b1076dfc-b9ad-4769-8c92-a6c4dae69d19",
        "_uuid": "8f2839f25d086af736a60e9eeb907d3b93b6e0e5",
        "trusted": true,
        "id": "zeuqVlVmAuBz",
        "colab_type": "code",
        "colab": {
          "base_uri": "https://localhost:8080/",
          "height": 118
        },
        "outputId": "ad12cba3-d31c-4cc0-a17a-b2aa15c64e8f"
      },
      "source": [
        "# This Python 3 environment comes with many helpful analytics libraries installed\n",
        "# It is defined by the kaggle/python docker image: https://github.com/kaggle/docker-python\n",
        "# For example, here's several helpful packages to load in \n",
        "\n",
        "import numpy as np # linear algebra\n",
        "import pandas as pd # data processing, CSV file I/O (e.g. pd.read_csv)\n",
        "from tqdm.auto import tqdm\n",
        "from glob import glob\n",
        "import time, gc\n",
        "import cv2\n",
        "\n",
        "from tensorflow import keras\n",
        "import matplotlib.image as mpimg\n",
        "from keras.preprocessing.image import ImageDataGenerator\n",
        "from keras.models import Model\n",
        "from keras.models import clone_model\n",
        "from keras.layers import Dense,Conv2D,Flatten,MaxPool2D,Dropout,BatchNormalization, Input\n",
        "from keras.optimizers import Adam\n",
        "from keras.callbacks import ReduceLROnPlateau\n",
        "from sklearn.model_selection import train_test_split\n",
        "from sklearn.metrics import confusion_matrix\n",
        "import PIL.Image as Image, PIL.ImageDraw as ImageDraw, PIL.ImageFont as ImageFont\n",
        "from matplotlib import pyplot as plt\n",
        "import seaborn as sns\n",
        "\n",
        "# Input data files are available in the \"../input/\" directory.\n",
        "# For example, running this (by clicking run or pressing Shift+Enter) will list all files under the input directory\n",
        "\n",
        "import os\n",
        "for dirname, _, filenames in os.walk('/kaggle/input'):\n",
        "    for filename in filenames:\n",
        "        print(os.path.join(dirname, filename))\n",
        "\n",
        "import datetime\n",
        "import pytz\n",
        "\n",
        "start_time = datetime.datetime.now(pytz.timezone('Asia/Tokyo'))\n",
        "print(start_time)\n",
        "# Any results you write to the current directory are saved as output."
      ],
      "execution_count": 7,
      "outputs": [
        {
          "output_type": "display_data",
          "data": {
            "text/html": [
              "<p style=\"color: red;\">\n",
              "The default version of TensorFlow in Colab will soon switch to TensorFlow 2.x.<br>\n",
              "We recommend you <a href=\"https://www.tensorflow.org/guide/migrate\" target=\"_blank\">upgrade</a> now \n",
              "or ensure your notebook will continue to use TensorFlow 1.x via the <code>%tensorflow_version 1.x</code> magic:\n",
              "<a href=\"https://colab.research.google.com/notebooks/tensorflow_version.ipynb\" target=\"_blank\">more info</a>.</p>\n"
            ],
            "text/plain": [
              "<IPython.core.display.HTML object>"
            ]
          },
          "metadata": {
            "tags": []
          }
        },
        {
          "output_type": "stream",
          "text": [
            "Using TensorFlow backend.\n"
          ],
          "name": "stderr"
        },
        {
          "output_type": "stream",
          "text": [
            "2020-01-30 16:12:21.299753+09:00\n"
          ],
          "name": "stdout"
        }
      ]
    },
    {
      "cell_type": "markdown",
      "metadata": {
        "id": "-XHm0HmbAuB4",
        "colab_type": "text"
      },
      "source": [
        "# inputデータの導入"
      ]
    },
    {
      "cell_type": "code",
      "metadata": {
        "_cell_guid": "79c7e3d0-c299-4dcb-8224-4455121ee9b0",
        "_uuid": "d629ff2d2480ee46fbb7e2d37f6b5fab8052498a",
        "trusted": true,
        "id": "AhsIFSwAAuB6",
        "colab_type": "code",
        "colab": {}
      },
      "source": [
        "train_df_ = pd.read_csv('train.csv')\n",
        "test_df_ = pd.read_csv('test.csv')\n",
        "class_map_df = pd.read_csv('class_map.csv')\n",
        "sample_sub_df = pd.read_csv('sample_submission.csv')"
      ],
      "execution_count": 0,
      "outputs": []
    },
    {
      "cell_type": "code",
      "metadata": {
        "trusted": true,
        "id": "zzKML4NlAuB9",
        "colab_type": "code",
        "colab": {
          "base_uri": "https://localhost:8080/",
          "height": 198
        },
        "outputId": "a261f2ff-b607-4300-88eb-e3432031d47a"
      },
      "source": [
        "train_df_.head()"
      ],
      "execution_count": 9,
      "outputs": [
        {
          "output_type": "execute_result",
          "data": {
            "text/html": [
              "<div>\n",
              "<style scoped>\n",
              "    .dataframe tbody tr th:only-of-type {\n",
              "        vertical-align: middle;\n",
              "    }\n",
              "\n",
              "    .dataframe tbody tr th {\n",
              "        vertical-align: top;\n",
              "    }\n",
              "\n",
              "    .dataframe thead th {\n",
              "        text-align: right;\n",
              "    }\n",
              "</style>\n",
              "<table border=\"1\" class=\"dataframe\">\n",
              "  <thead>\n",
              "    <tr style=\"text-align: right;\">\n",
              "      <th></th>\n",
              "      <th>image_id</th>\n",
              "      <th>grapheme_root</th>\n",
              "      <th>vowel_diacritic</th>\n",
              "      <th>consonant_diacritic</th>\n",
              "      <th>grapheme</th>\n",
              "    </tr>\n",
              "  </thead>\n",
              "  <tbody>\n",
              "    <tr>\n",
              "      <th>0</th>\n",
              "      <td>Train_0</td>\n",
              "      <td>15</td>\n",
              "      <td>9</td>\n",
              "      <td>5</td>\n",
              "      <td>ক্ট্রো</td>\n",
              "    </tr>\n",
              "    <tr>\n",
              "      <th>1</th>\n",
              "      <td>Train_1</td>\n",
              "      <td>159</td>\n",
              "      <td>0</td>\n",
              "      <td>0</td>\n",
              "      <td>হ</td>\n",
              "    </tr>\n",
              "    <tr>\n",
              "      <th>2</th>\n",
              "      <td>Train_2</td>\n",
              "      <td>22</td>\n",
              "      <td>3</td>\n",
              "      <td>5</td>\n",
              "      <td>খ্রী</td>\n",
              "    </tr>\n",
              "    <tr>\n",
              "      <th>3</th>\n",
              "      <td>Train_3</td>\n",
              "      <td>53</td>\n",
              "      <td>2</td>\n",
              "      <td>2</td>\n",
              "      <td>র্টি</td>\n",
              "    </tr>\n",
              "    <tr>\n",
              "      <th>4</th>\n",
              "      <td>Train_4</td>\n",
              "      <td>71</td>\n",
              "      <td>9</td>\n",
              "      <td>5</td>\n",
              "      <td>থ্রো</td>\n",
              "    </tr>\n",
              "  </tbody>\n",
              "</table>\n",
              "</div>"
            ],
            "text/plain": [
              "  image_id  grapheme_root  vowel_diacritic  consonant_diacritic grapheme\n",
              "0  Train_0             15                9                    5   ক্ট্রো\n",
              "1  Train_1            159                0                    0        হ\n",
              "2  Train_2             22                3                    5     খ্রী\n",
              "3  Train_3             53                2                    2     র্টি\n",
              "4  Train_4             71                9                    5     থ্রো"
            ]
          },
          "metadata": {
            "tags": []
          },
          "execution_count": 9
        }
      ]
    },
    {
      "cell_type": "code",
      "metadata": {
        "trusted": true,
        "id": "M2eOh0xWAuCB",
        "colab_type": "code",
        "colab": {
          "base_uri": "https://localhost:8080/",
          "height": 198
        },
        "outputId": "1bcfc06b-7cd9-431e-83cd-92cf511cafb4"
      },
      "source": [
        "test_df_.head()"
      ],
      "execution_count": 10,
      "outputs": [
        {
          "output_type": "execute_result",
          "data": {
            "text/html": [
              "<div>\n",
              "<style scoped>\n",
              "    .dataframe tbody tr th:only-of-type {\n",
              "        vertical-align: middle;\n",
              "    }\n",
              "\n",
              "    .dataframe tbody tr th {\n",
              "        vertical-align: top;\n",
              "    }\n",
              "\n",
              "    .dataframe thead th {\n",
              "        text-align: right;\n",
              "    }\n",
              "</style>\n",
              "<table border=\"1\" class=\"dataframe\">\n",
              "  <thead>\n",
              "    <tr style=\"text-align: right;\">\n",
              "      <th></th>\n",
              "      <th>row_id</th>\n",
              "      <th>image_id</th>\n",
              "      <th>component</th>\n",
              "    </tr>\n",
              "  </thead>\n",
              "  <tbody>\n",
              "    <tr>\n",
              "      <th>0</th>\n",
              "      <td>Test_0_consonant_diacritic</td>\n",
              "      <td>Test_0</td>\n",
              "      <td>consonant_diacritic</td>\n",
              "    </tr>\n",
              "    <tr>\n",
              "      <th>1</th>\n",
              "      <td>Test_0_grapheme_root</td>\n",
              "      <td>Test_0</td>\n",
              "      <td>grapheme_root</td>\n",
              "    </tr>\n",
              "    <tr>\n",
              "      <th>2</th>\n",
              "      <td>Test_0_vowel_diacritic</td>\n",
              "      <td>Test_0</td>\n",
              "      <td>vowel_diacritic</td>\n",
              "    </tr>\n",
              "    <tr>\n",
              "      <th>3</th>\n",
              "      <td>Test_1_consonant_diacritic</td>\n",
              "      <td>Test_1</td>\n",
              "      <td>consonant_diacritic</td>\n",
              "    </tr>\n",
              "    <tr>\n",
              "      <th>4</th>\n",
              "      <td>Test_1_grapheme_root</td>\n",
              "      <td>Test_1</td>\n",
              "      <td>grapheme_root</td>\n",
              "    </tr>\n",
              "  </tbody>\n",
              "</table>\n",
              "</div>"
            ],
            "text/plain": [
              "                       row_id image_id            component\n",
              "0  Test_0_consonant_diacritic   Test_0  consonant_diacritic\n",
              "1        Test_0_grapheme_root   Test_0        grapheme_root\n",
              "2      Test_0_vowel_diacritic   Test_0      vowel_diacritic\n",
              "3  Test_1_consonant_diacritic   Test_1  consonant_diacritic\n",
              "4        Test_1_grapheme_root   Test_1        grapheme_root"
            ]
          },
          "metadata": {
            "tags": []
          },
          "execution_count": 10
        }
      ]
    },
    {
      "cell_type": "code",
      "metadata": {
        "trusted": true,
        "id": "y8yyyNFtAuCE",
        "colab_type": "code",
        "colab": {
          "base_uri": "https://localhost:8080/",
          "height": 198
        },
        "outputId": "719b46c1-295d-4b14-e7a1-454b3212374b"
      },
      "source": [
        "sample_sub_df.head()"
      ],
      "execution_count": 11,
      "outputs": [
        {
          "output_type": "execute_result",
          "data": {
            "text/html": [
              "<div>\n",
              "<style scoped>\n",
              "    .dataframe tbody tr th:only-of-type {\n",
              "        vertical-align: middle;\n",
              "    }\n",
              "\n",
              "    .dataframe tbody tr th {\n",
              "        vertical-align: top;\n",
              "    }\n",
              "\n",
              "    .dataframe thead th {\n",
              "        text-align: right;\n",
              "    }\n",
              "</style>\n",
              "<table border=\"1\" class=\"dataframe\">\n",
              "  <thead>\n",
              "    <tr style=\"text-align: right;\">\n",
              "      <th></th>\n",
              "      <th>row_id</th>\n",
              "      <th>target</th>\n",
              "    </tr>\n",
              "  </thead>\n",
              "  <tbody>\n",
              "    <tr>\n",
              "      <th>0</th>\n",
              "      <td>Test_0_consonant_diacritic</td>\n",
              "      <td>0</td>\n",
              "    </tr>\n",
              "    <tr>\n",
              "      <th>1</th>\n",
              "      <td>Test_0_grapheme_root</td>\n",
              "      <td>0</td>\n",
              "    </tr>\n",
              "    <tr>\n",
              "      <th>2</th>\n",
              "      <td>Test_0_vowel_diacritic</td>\n",
              "      <td>0</td>\n",
              "    </tr>\n",
              "    <tr>\n",
              "      <th>3</th>\n",
              "      <td>Test_1_consonant_diacritic</td>\n",
              "      <td>0</td>\n",
              "    </tr>\n",
              "    <tr>\n",
              "      <th>4</th>\n",
              "      <td>Test_1_grapheme_root</td>\n",
              "      <td>0</td>\n",
              "    </tr>\n",
              "  </tbody>\n",
              "</table>\n",
              "</div>"
            ],
            "text/plain": [
              "                       row_id  target\n",
              "0  Test_0_consonant_diacritic       0\n",
              "1        Test_0_grapheme_root       0\n",
              "2      Test_0_vowel_diacritic       0\n",
              "3  Test_1_consonant_diacritic       0\n",
              "4        Test_1_grapheme_root       0"
            ]
          },
          "metadata": {
            "tags": []
          },
          "execution_count": 11
        }
      ]
    },
    {
      "cell_type": "code",
      "metadata": {
        "trusted": true,
        "id": "Dbr_izOQAuCH",
        "colab_type": "code",
        "colab": {
          "base_uri": "https://localhost:8080/",
          "height": 198
        },
        "outputId": "d9f75052-b306-427b-b668-ab24899cb222"
      },
      "source": [
        "class_map_df.head()"
      ],
      "execution_count": 12,
      "outputs": [
        {
          "output_type": "execute_result",
          "data": {
            "text/html": [
              "<div>\n",
              "<style scoped>\n",
              "    .dataframe tbody tr th:only-of-type {\n",
              "        vertical-align: middle;\n",
              "    }\n",
              "\n",
              "    .dataframe tbody tr th {\n",
              "        vertical-align: top;\n",
              "    }\n",
              "\n",
              "    .dataframe thead th {\n",
              "        text-align: right;\n",
              "    }\n",
              "</style>\n",
              "<table border=\"1\" class=\"dataframe\">\n",
              "  <thead>\n",
              "    <tr style=\"text-align: right;\">\n",
              "      <th></th>\n",
              "      <th>component_type</th>\n",
              "      <th>label</th>\n",
              "      <th>component</th>\n",
              "    </tr>\n",
              "  </thead>\n",
              "  <tbody>\n",
              "    <tr>\n",
              "      <th>0</th>\n",
              "      <td>grapheme_root</td>\n",
              "      <td>0</td>\n",
              "      <td>ং</td>\n",
              "    </tr>\n",
              "    <tr>\n",
              "      <th>1</th>\n",
              "      <td>grapheme_root</td>\n",
              "      <td>1</td>\n",
              "      <td>ঃ</td>\n",
              "    </tr>\n",
              "    <tr>\n",
              "      <th>2</th>\n",
              "      <td>grapheme_root</td>\n",
              "      <td>2</td>\n",
              "      <td>অ</td>\n",
              "    </tr>\n",
              "    <tr>\n",
              "      <th>3</th>\n",
              "      <td>grapheme_root</td>\n",
              "      <td>3</td>\n",
              "      <td>আ</td>\n",
              "    </tr>\n",
              "    <tr>\n",
              "      <th>4</th>\n",
              "      <td>grapheme_root</td>\n",
              "      <td>4</td>\n",
              "      <td>ই</td>\n",
              "    </tr>\n",
              "  </tbody>\n",
              "</table>\n",
              "</div>"
            ],
            "text/plain": [
              "  component_type  label component\n",
              "0  grapheme_root      0         ং\n",
              "1  grapheme_root      1         ঃ\n",
              "2  grapheme_root      2         অ\n",
              "3  grapheme_root      3         আ\n",
              "4  grapheme_root      4         ই"
            ]
          },
          "metadata": {
            "tags": []
          },
          "execution_count": 12
        }
      ]
    },
    {
      "cell_type": "code",
      "metadata": {
        "trusted": true,
        "id": "CyWD2NQ8AuCK",
        "colab_type": "code",
        "colab": {
          "base_uri": "https://localhost:8080/",
          "height": 72
        },
        "outputId": "8de18d0a-636e-4078-b899-7c1734d6d235"
      },
      "source": [
        "print(f'Size of training data: {train_df_.shape}')\n",
        "print(f'Size of test data: {test_df_.shape}')\n",
        "print(f'Size of class map: {class_map_df.shape}')"
      ],
      "execution_count": 13,
      "outputs": [
        {
          "output_type": "stream",
          "text": [
            "Size of training data: (200840, 5)\n",
            "Size of test data: (36, 3)\n",
            "Size of class map: (186, 3)\n"
          ],
          "name": "stdout"
        }
      ]
    },
    {
      "cell_type": "markdown",
      "metadata": {
        "id": "af0HKBpUAuCN",
        "colab_type": "text"
      },
      "source": [
        "## Exploratory Data Analysis\n",
        "Exploratory data analysis (EDA) is an approach to analyzing data sets to summarize their main characteristics, often with visual methods."
      ]
    },
    {
      "cell_type": "markdown",
      "metadata": {
        "id": "dip2ihFGAuCO",
        "colab_type": "text"
      },
      "source": [
        "# EDA\n"
      ]
    },
    {
      "cell_type": "code",
      "metadata": {
        "trusted": true,
        "id": "0Lnm1tQtAuCP",
        "colab_type": "code",
        "colab": {}
      },
      "source": [
        "HEIGHT = 236\n",
        "WIDTH = 236\n",
        "\n",
        "def get_n(df, field, n, top=True):\n",
        "    top_graphemes = df.groupby([field]).size().reset_index(name='counts')['counts'].sort_values(ascending=not top)[:n]\n",
        "    top_grapheme_roots = top_graphemes.index\n",
        "    top_grapheme_counts = top_graphemes.values\n",
        "    top_graphemes = class_map_df[class_map_df['component_type'] == field].reset_index().iloc[top_grapheme_roots]\n",
        "    top_graphemes.drop(['component_type', 'label'], axis=1, inplace=True)\n",
        "    top_graphemes.loc[:, 'count'] = top_grapheme_counts\n",
        "    return top_graphemes\n",
        "\n",
        "def image_from_char(char):\n",
        "    image = Image.new('RGB', (WIDTH, HEIGHT))\n",
        "    draw = ImageDraw.Draw(image)\n",
        "    #myfont = ImageFont.truetype('/kaggle/input/kalpurush-fonts/kalpurush-2.ttf', 120)\n",
        "    w, h = draw.textsize(char, font=myfont)\n",
        "    draw.text(((WIDTH - w) / 2,(HEIGHT - h) / 3), char, font=myfont)\n",
        "\n",
        "    return image"
      ],
      "execution_count": 0,
      "outputs": []
    },
    {
      "cell_type": "markdown",
      "metadata": {
        "id": "eo9P5dR5AuCS",
        "colab_type": "text"
      },
      "source": [
        "### Number of unique values"
      ]
    },
    {
      "cell_type": "code",
      "metadata": {
        "trusted": true,
        "id": "S6Y7968VAuCT",
        "colab_type": "code",
        "colab": {
          "base_uri": "https://localhost:8080/",
          "height": 72
        },
        "outputId": "c04dab73-7350-41f2-c3c1-e1ecec2723c1"
      },
      "source": [
        "print(f'Number of unique grapheme roots: {train_df_[\"grapheme_root\"].nunique()}')\n",
        "print(f'Number of unique vowel diacritic: {train_df_[\"vowel_diacritic\"].nunique()}')\n",
        "print(f'Number of unique consonant diacritic: {train_df_[\"consonant_diacritic\"].nunique()}')"
      ],
      "execution_count": 15,
      "outputs": [
        {
          "output_type": "stream",
          "text": [
            "Number of unique grapheme roots: 168\n",
            "Number of unique vowel diacritic: 11\n",
            "Number of unique consonant diacritic: 7\n"
          ],
          "name": "stdout"
        }
      ]
    },
    {
      "cell_type": "markdown",
      "metadata": {
        "id": "pPNxOcrbAuCW",
        "colab_type": "text"
      },
      "source": [
        "### Most used top 10 Grapheme Roots in training set"
      ]
    },
    {
      "cell_type": "code",
      "metadata": {
        "trusted": true,
        "id": "llCdzgJSAuCX",
        "colab_type": "code",
        "colab": {
          "base_uri": "https://localhost:8080/",
          "height": 348
        },
        "outputId": "de6c0f79-ed02-45e3-ce9a-af328cd5d84d"
      },
      "source": [
        "top_10_roots = get_n(train_df_, 'grapheme_root', 10)\n",
        "top_10_roots"
      ],
      "execution_count": 16,
      "outputs": [
        {
          "output_type": "execute_result",
          "data": {
            "text/html": [
              "<div>\n",
              "<style scoped>\n",
              "    .dataframe tbody tr th:only-of-type {\n",
              "        vertical-align: middle;\n",
              "    }\n",
              "\n",
              "    .dataframe tbody tr th {\n",
              "        vertical-align: top;\n",
              "    }\n",
              "\n",
              "    .dataframe thead th {\n",
              "        text-align: right;\n",
              "    }\n",
              "</style>\n",
              "<table border=\"1\" class=\"dataframe\">\n",
              "  <thead>\n",
              "    <tr style=\"text-align: right;\">\n",
              "      <th></th>\n",
              "      <th>index</th>\n",
              "      <th>component</th>\n",
              "      <th>count</th>\n",
              "    </tr>\n",
              "  </thead>\n",
              "  <tbody>\n",
              "    <tr>\n",
              "      <th>72</th>\n",
              "      <td>72</td>\n",
              "      <td>দ</td>\n",
              "      <td>5736</td>\n",
              "    </tr>\n",
              "    <tr>\n",
              "      <th>64</th>\n",
              "      <td>64</td>\n",
              "      <td>ত</td>\n",
              "      <td>5596</td>\n",
              "    </tr>\n",
              "    <tr>\n",
              "      <th>13</th>\n",
              "      <td>13</td>\n",
              "      <td>ক</td>\n",
              "      <td>5420</td>\n",
              "    </tr>\n",
              "    <tr>\n",
              "      <th>107</th>\n",
              "      <td>107</td>\n",
              "      <td>ব</td>\n",
              "      <td>5321</td>\n",
              "    </tr>\n",
              "    <tr>\n",
              "      <th>23</th>\n",
              "      <td>23</td>\n",
              "      <td>গ</td>\n",
              "      <td>5149</td>\n",
              "    </tr>\n",
              "    <tr>\n",
              "      <th>96</th>\n",
              "      <td>96</td>\n",
              "      <td>প</td>\n",
              "      <td>4926</td>\n",
              "    </tr>\n",
              "    <tr>\n",
              "      <th>113</th>\n",
              "      <td>113</td>\n",
              "      <td>ভ</td>\n",
              "      <td>4395</td>\n",
              "    </tr>\n",
              "    <tr>\n",
              "      <th>147</th>\n",
              "      <td>147</td>\n",
              "      <td>স</td>\n",
              "      <td>4392</td>\n",
              "    </tr>\n",
              "    <tr>\n",
              "      <th>133</th>\n",
              "      <td>133</td>\n",
              "      <td>শ</td>\n",
              "      <td>4374</td>\n",
              "    </tr>\n",
              "    <tr>\n",
              "      <th>115</th>\n",
              "      <td>115</td>\n",
              "      <td>ম</td>\n",
              "      <td>4015</td>\n",
              "    </tr>\n",
              "  </tbody>\n",
              "</table>\n",
              "</div>"
            ],
            "text/plain": [
              "     index component  count\n",
              "72      72         দ   5736\n",
              "64      64         ত   5596\n",
              "13      13         ক   5420\n",
              "107    107         ব   5321\n",
              "23      23         গ   5149\n",
              "96      96         প   4926\n",
              "113    113         ভ   4395\n",
              "147    147         স   4392\n",
              "133    133         শ   4374\n",
              "115    115         ম   4015"
            ]
          },
          "metadata": {
            "tags": []
          },
          "execution_count": 16
        }
      ]
    },
    {
      "cell_type": "markdown",
      "metadata": {
        "id": "8mlQwsvqAuCq",
        "colab_type": "text"
      },
      "source": [
        "### Top 5 Consonant Diacritic in training data"
      ]
    },
    {
      "cell_type": "code",
      "metadata": {
        "trusted": true,
        "id": "1NeCgZRwAuCq",
        "colab_type": "code",
        "colab": {
          "base_uri": "https://localhost:8080/",
          "height": 198
        },
        "outputId": "34325d48-338f-409d-c350-d3f66dd6a5d1"
      },
      "source": [
        "top_5_consonants = get_n(train_df_, 'consonant_diacritic', 5)\n",
        "top_5_consonants"
      ],
      "execution_count": 17,
      "outputs": [
        {
          "output_type": "execute_result",
          "data": {
            "text/html": [
              "<div>\n",
              "<style scoped>\n",
              "    .dataframe tbody tr th:only-of-type {\n",
              "        vertical-align: middle;\n",
              "    }\n",
              "\n",
              "    .dataframe tbody tr th {\n",
              "        vertical-align: top;\n",
              "    }\n",
              "\n",
              "    .dataframe thead th {\n",
              "        text-align: right;\n",
              "    }\n",
              "</style>\n",
              "<table border=\"1\" class=\"dataframe\">\n",
              "  <thead>\n",
              "    <tr style=\"text-align: right;\">\n",
              "      <th></th>\n",
              "      <th>index</th>\n",
              "      <th>component</th>\n",
              "      <th>count</th>\n",
              "    </tr>\n",
              "  </thead>\n",
              "  <tbody>\n",
              "    <tr>\n",
              "      <th>0</th>\n",
              "      <td>179</td>\n",
              "      <td>0</td>\n",
              "      <td>125278</td>\n",
              "    </tr>\n",
              "    <tr>\n",
              "      <th>2</th>\n",
              "      <td>181</td>\n",
              "      <td>র্</td>\n",
              "      <td>23465</td>\n",
              "    </tr>\n",
              "    <tr>\n",
              "      <th>5</th>\n",
              "      <td>184</td>\n",
              "      <td>্র</td>\n",
              "      <td>21397</td>\n",
              "    </tr>\n",
              "    <tr>\n",
              "      <th>4</th>\n",
              "      <td>183</td>\n",
              "      <td>্য</td>\n",
              "      <td>21270</td>\n",
              "    </tr>\n",
              "    <tr>\n",
              "      <th>1</th>\n",
              "      <td>180</td>\n",
              "      <td>ঁ</td>\n",
              "      <td>7424</td>\n",
              "    </tr>\n",
              "  </tbody>\n",
              "</table>\n",
              "</div>"
            ],
            "text/plain": [
              "   index component   count\n",
              "0    179         0  125278\n",
              "2    181        র্   23465\n",
              "5    184        ্র   21397\n",
              "4    183        ্য   21270\n",
              "1    180         ঁ    7424"
            ]
          },
          "metadata": {
            "tags": []
          },
          "execution_count": 17
        }
      ]
    },
    {
      "cell_type": "code",
      "metadata": {
        "trusted": true,
        "id": "hvs1GeZ7AuCv",
        "colab_type": "code",
        "colab": {}
      },
      "source": [
        "train_df_ = train_df_.drop(['grapheme'], axis=1, inplace=False)"
      ],
      "execution_count": 0,
      "outputs": []
    },
    {
      "cell_type": "code",
      "metadata": {
        "trusted": true,
        "id": "pbTQMkiMAuCy",
        "colab_type": "code",
        "colab": {}
      },
      "source": [
        "train_df_[['grapheme_root', 'vowel_diacritic', 'consonant_diacritic']] = train_df_[['grapheme_root', 'vowel_diacritic', 'consonant_diacritic']].astype('uint8')"
      ],
      "execution_count": 0,
      "outputs": []
    },
    {
      "cell_type": "code",
      "metadata": {
        "trusted": true,
        "id": "lcBqEb48AuC0",
        "colab_type": "code",
        "colab": {}
      },
      "source": [
        "IMG_SIZE=64\n",
        "N_CHANNELS=1"
      ],
      "execution_count": 0,
      "outputs": []
    },
    {
      "cell_type": "code",
      "metadata": {
        "trusted": true,
        "id": "LWhdArXuAuC3",
        "colab_type": "code",
        "colab": {}
      },
      "source": [
        "def resize(df, size=64, need_progress_bar=True):\n",
        "    resized = {}\n",
        "    if need_progress_bar:\n",
        "        for i in tqdm(range(df.shape[0])):\n",
        "            image = cv2.resize(df.loc[df.index[i]].values.reshape(137,236),(size,size),interpolation=cv2.INTER_AREA)\n",
        "            #gaussian_3 = cv2.GaussianBlur(image, (9,9), 10.0) #unblur\n",
        "            #image = cv2.addWeighted(image, 1.5, gaussian_3, -0.5, 0, image)\n",
        "            #kernel = np.array([[-1,-1,-1], [-1,9,-1], [-1,-1,-1]]) #filter\n",
        "            #image = cv2.filter2D(image, -1, kernel)\n",
        "            #ret,image = cv2.threshold(image, 128, 255, cv2.THRESH_BINARY_INV+cv2.THRESH_OTSU)\n",
        "            resized[df.index[i]] = image.reshape(-1)\n",
        "    else:\n",
        "        for i in range(df.shape[0]):\n",
        "            image = cv2.resize(df.loc[df.index[i]].values.reshape(137,236),(size,size),interpolation=cv2.INTER_AREA)\n",
        "            #gaussian_3 = cv2.GaussianBlur(image, (9,9), 10.0) #unblur\n",
        "            #image = cv2.addWeighted(image, 1.5, gaussian_3, -0.5, 0, image)\n",
        "            #kernel = np.array([[-1,-1,-1], [-1,9,-1], [-1,-1,-1]]) #filter\n",
        "            #image = cv2.filter2D(image, -1, kernel)\n",
        "            #ret,image = cv2.threshold(image, 128, 255, cv2.THRESH_BINARY_INV+cv2.THRESH_OTSU)\n",
        "            resized[df.index[i]] = image.reshape(-1)\n",
        "    resized = pd.DataFrame(resized).T\n",
        "    return resized"
      ],
      "execution_count": 0,
      "outputs": []
    },
    {
      "cell_type": "code",
      "metadata": {
        "trusted": true,
        "id": "X4MPmAHaAuC5",
        "colab_type": "code",
        "colab": {}
      },
      "source": [
        "def get_dummies(df):\n",
        "    cols = []\n",
        "    for col in df:\n",
        "        cols.append(pd.get_dummies(df[col].astype(str)))\n",
        "    return pd.concat(cols, axis=1)"
      ],
      "execution_count": 0,
      "outputs": []
    },
    {
      "cell_type": "markdown",
      "metadata": {
        "id": "gOP6L8FhAuC7",
        "colab_type": "text"
      },
      "source": [
        "## Basic Model"
      ]
    },
    {
      "cell_type": "code",
      "metadata": {
        "trusted": true,
        "id": "7a5nZFwtAuC8",
        "colab_type": "code",
        "colab": {
          "base_uri": "https://localhost:8080/",
          "height": 528
        },
        "outputId": "8998f868-78fc-4889-da67-02b4266cc900"
      },
      "source": [
        "inputs = Input(shape = (IMG_SIZE, IMG_SIZE, 1))\n",
        "\n",
        "model = Conv2D(filters=32, kernel_size=(3, 3), padding='SAME', activation='relu', input_shape=(IMG_SIZE, IMG_SIZE, 1))(inputs)\n",
        "model = Conv2D(filters=32, kernel_size=(3, 3), padding='SAME', activation='relu')(model)\n",
        "model = Conv2D(filters=32, kernel_size=(3, 3), padding='SAME', activation='relu')(model)\n",
        "model = BatchNormalization(momentum=0.15)(model)\n",
        "model = MaxPool2D(pool_size=(2, 2))(model)\n",
        "model = Conv2D(filters=32, kernel_size=(5, 5), padding='SAME', activation='relu')(model)\n",
        "model = Dropout(rate=0.2)(model)\n",
        "\n",
        "model = Conv2D(filters=64, kernel_size=(3, 3), padding='SAME', activation='relu')(model)\n",
        "model = Conv2D(filters=64, kernel_size=(3, 3), padding='SAME', activation='relu')(model)\n",
        "model = Conv2D(filters=64, kernel_size=(3, 3), padding='SAME', activation='relu')(model)\n",
        "model = BatchNormalization(momentum=0.15)(model)\n",
        "model = MaxPool2D(pool_size=(2, 2))(model)\n",
        "model = Conv2D(filters=64, kernel_size=(5, 5), padding='SAME', activation='relu')(model)\n",
        "model = BatchNormalization(momentum=0.15)(model)\n",
        "model = Dropout(rate=0.3)(model)\n",
        "\n",
        "model = Conv2D(filters=128, kernel_size=(3, 3), padding='SAME', activation='relu')(model)\n",
        "model = Conv2D(filters=128, kernel_size=(3, 3), padding='SAME', activation='relu')(model)\n",
        "model = Conv2D(filters=128, kernel_size=(3, 3), padding='SAME', activation='relu')(model)\n",
        "model = BatchNormalization(momentum=0.15)(model)\n",
        "model = MaxPool2D(pool_size=(2, 2))(model)\n",
        "model = Conv2D(filters=128, kernel_size=(5, 5), padding='SAME', activation='relu')(model)\n",
        "model = BatchNormalization(momentum=0.15)(model)\n",
        "model = Dropout(rate=0.3)(model)\n",
        "\n",
        "model = Conv2D(filters=256, kernel_size=(3, 3), padding='SAME', activation='relu')(model)\n",
        "model = Conv2D(filters=256, kernel_size=(3, 3), padding='SAME', activation='relu')(model)\n",
        "model = Conv2D(filters=256, kernel_size=(3, 3), padding='SAME', activation='relu')(model)\n",
        "model = BatchNormalization(momentum=0.15)(model)\n",
        "model = MaxPool2D(pool_size=(2, 2))(model)\n",
        "model = Conv2D(filters=256, kernel_size=(5, 5), padding='SAME', activation='relu')(model)\n",
        "model = BatchNormalization(momentum=0.15)(model)\n",
        "model = Dropout(rate=0.3)(model)\n",
        "\n",
        "model = Conv2D(filters=512, kernel_size=(3, 3), padding='SAME', activation='relu')(model)\n",
        "model = Conv2D(filters=512, kernel_size=(3, 3), padding='SAME', activation='relu')(model)\n",
        "model = Conv2D(filters=512, kernel_size=(3, 3), padding='SAME', activation='relu')(model)\n",
        "model = BatchNormalization(momentum=0.15)(model)\n",
        "model = MaxPool2D(pool_size=(2, 2))(model)\n",
        "model = Conv2D(filters=512, kernel_size=(5, 5), padding='SAME', activation='relu')(model)\n",
        "model = BatchNormalization(momentum=0.15)(model)\n",
        "model = Dropout(rate=0.4)(model)\n",
        "\n",
        "model = Flatten()(model)\n",
        "model = Dense(1024, activation = \"relu\")(model)\n",
        "model = Dropout(rate=0.3)(model)\n",
        "dense = Dense(512, activation = \"relu\")(model)\n",
        "\n",
        "head_root = Dense(168, activation = 'softmax')(dense)\n",
        "head_vowel = Dense(11, activation = 'softmax')(dense)\n",
        "head_consonant = Dense(7, activation = 'softmax')(dense)\n",
        "\n",
        "model = Model(inputs=inputs, outputs=[head_root, head_vowel, head_consonant])"
      ],
      "execution_count": 23,
      "outputs": [
        {
          "output_type": "stream",
          "text": [
            "WARNING:tensorflow:From /usr/local/lib/python3.6/dist-packages/keras/backend/tensorflow_backend.py:66: The name tf.get_default_graph is deprecated. Please use tf.compat.v1.get_default_graph instead.\n",
            "\n",
            "WARNING:tensorflow:From /usr/local/lib/python3.6/dist-packages/keras/backend/tensorflow_backend.py:541: The name tf.placeholder is deprecated. Please use tf.compat.v1.placeholder instead.\n",
            "\n",
            "WARNING:tensorflow:From /usr/local/lib/python3.6/dist-packages/keras/backend/tensorflow_backend.py:4432: The name tf.random_uniform is deprecated. Please use tf.random.uniform instead.\n",
            "\n",
            "WARNING:tensorflow:From /usr/local/lib/python3.6/dist-packages/keras/backend/tensorflow_backend.py:190: The name tf.get_default_session is deprecated. Please use tf.compat.v1.get_default_session instead.\n",
            "\n",
            "WARNING:tensorflow:From /usr/local/lib/python3.6/dist-packages/keras/backend/tensorflow_backend.py:197: The name tf.ConfigProto is deprecated. Please use tf.compat.v1.ConfigProto instead.\n",
            "\n",
            "WARNING:tensorflow:From /usr/local/lib/python3.6/dist-packages/keras/backend/tensorflow_backend.py:203: The name tf.Session is deprecated. Please use tf.compat.v1.Session instead.\n",
            "\n",
            "WARNING:tensorflow:From /usr/local/lib/python3.6/dist-packages/keras/backend/tensorflow_backend.py:207: The name tf.global_variables is deprecated. Please use tf.compat.v1.global_variables instead.\n",
            "\n",
            "WARNING:tensorflow:From /usr/local/lib/python3.6/dist-packages/keras/backend/tensorflow_backend.py:216: The name tf.is_variable_initialized is deprecated. Please use tf.compat.v1.is_variable_initialized instead.\n",
            "\n",
            "WARNING:tensorflow:From /usr/local/lib/python3.6/dist-packages/keras/backend/tensorflow_backend.py:223: The name tf.variables_initializer is deprecated. Please use tf.compat.v1.variables_initializer instead.\n",
            "\n",
            "WARNING:tensorflow:From /usr/local/lib/python3.6/dist-packages/keras/backend/tensorflow_backend.py:2041: The name tf.nn.fused_batch_norm is deprecated. Please use tf.compat.v1.nn.fused_batch_norm instead.\n",
            "\n",
            "WARNING:tensorflow:From /usr/local/lib/python3.6/dist-packages/keras/backend/tensorflow_backend.py:148: The name tf.placeholder_with_default is deprecated. Please use tf.compat.v1.placeholder_with_default instead.\n",
            "\n",
            "WARNING:tensorflow:From /usr/local/lib/python3.6/dist-packages/keras/backend/tensorflow_backend.py:4267: The name tf.nn.max_pool is deprecated. Please use tf.nn.max_pool2d instead.\n",
            "\n",
            "WARNING:tensorflow:From /usr/local/lib/python3.6/dist-packages/keras/backend/tensorflow_backend.py:3733: calling dropout (from tensorflow.python.ops.nn_ops) with keep_prob is deprecated and will be removed in a future version.\n",
            "Instructions for updating:\n",
            "Please use `rate` instead of `keep_prob`. Rate should be set to `rate = 1 - keep_prob`.\n"
          ],
          "name": "stdout"
        }
      ]
    },
    {
      "cell_type": "code",
      "metadata": {
        "trusted": true,
        "id": "pF6zy4a7AuC-",
        "colab_type": "code",
        "colab": {
          "base_uri": "https://localhost:8080/",
          "height": 1000
        },
        "outputId": "a6e829ea-2262-4a40-da4c-a7cb6accafea"
      },
      "source": [
        "model.summary()"
      ],
      "execution_count": 24,
      "outputs": [
        {
          "output_type": "stream",
          "text": [
            "Model: \"model_1\"\n",
            "__________________________________________________________________________________________________\n",
            "Layer (type)                    Output Shape         Param #     Connected to                     \n",
            "==================================================================================================\n",
            "input_1 (InputLayer)            (None, 64, 64, 1)    0                                            \n",
            "__________________________________________________________________________________________________\n",
            "conv2d_1 (Conv2D)               (None, 64, 64, 32)   320         input_1[0][0]                    \n",
            "__________________________________________________________________________________________________\n",
            "conv2d_2 (Conv2D)               (None, 64, 64, 32)   9248        conv2d_1[0][0]                   \n",
            "__________________________________________________________________________________________________\n",
            "conv2d_3 (Conv2D)               (None, 64, 64, 32)   9248        conv2d_2[0][0]                   \n",
            "__________________________________________________________________________________________________\n",
            "batch_normalization_1 (BatchNor (None, 64, 64, 32)   128         conv2d_3[0][0]                   \n",
            "__________________________________________________________________________________________________\n",
            "max_pooling2d_1 (MaxPooling2D)  (None, 32, 32, 32)   0           batch_normalization_1[0][0]      \n",
            "__________________________________________________________________________________________________\n",
            "conv2d_4 (Conv2D)               (None, 32, 32, 32)   25632       max_pooling2d_1[0][0]            \n",
            "__________________________________________________________________________________________________\n",
            "dropout_1 (Dropout)             (None, 32, 32, 32)   0           conv2d_4[0][0]                   \n",
            "__________________________________________________________________________________________________\n",
            "conv2d_5 (Conv2D)               (None, 32, 32, 64)   18496       dropout_1[0][0]                  \n",
            "__________________________________________________________________________________________________\n",
            "conv2d_6 (Conv2D)               (None, 32, 32, 64)   36928       conv2d_5[0][0]                   \n",
            "__________________________________________________________________________________________________\n",
            "conv2d_7 (Conv2D)               (None, 32, 32, 64)   36928       conv2d_6[0][0]                   \n",
            "__________________________________________________________________________________________________\n",
            "batch_normalization_2 (BatchNor (None, 32, 32, 64)   256         conv2d_7[0][0]                   \n",
            "__________________________________________________________________________________________________\n",
            "max_pooling2d_2 (MaxPooling2D)  (None, 16, 16, 64)   0           batch_normalization_2[0][0]      \n",
            "__________________________________________________________________________________________________\n",
            "conv2d_8 (Conv2D)               (None, 16, 16, 64)   102464      max_pooling2d_2[0][0]            \n",
            "__________________________________________________________________________________________________\n",
            "batch_normalization_3 (BatchNor (None, 16, 16, 64)   256         conv2d_8[0][0]                   \n",
            "__________________________________________________________________________________________________\n",
            "dropout_2 (Dropout)             (None, 16, 16, 64)   0           batch_normalization_3[0][0]      \n",
            "__________________________________________________________________________________________________\n",
            "conv2d_9 (Conv2D)               (None, 16, 16, 128)  73856       dropout_2[0][0]                  \n",
            "__________________________________________________________________________________________________\n",
            "conv2d_10 (Conv2D)              (None, 16, 16, 128)  147584      conv2d_9[0][0]                   \n",
            "__________________________________________________________________________________________________\n",
            "conv2d_11 (Conv2D)              (None, 16, 16, 128)  147584      conv2d_10[0][0]                  \n",
            "__________________________________________________________________________________________________\n",
            "batch_normalization_4 (BatchNor (None, 16, 16, 128)  512         conv2d_11[0][0]                  \n",
            "__________________________________________________________________________________________________\n",
            "max_pooling2d_3 (MaxPooling2D)  (None, 8, 8, 128)    0           batch_normalization_4[0][0]      \n",
            "__________________________________________________________________________________________________\n",
            "conv2d_12 (Conv2D)              (None, 8, 8, 128)    409728      max_pooling2d_3[0][0]            \n",
            "__________________________________________________________________________________________________\n",
            "batch_normalization_5 (BatchNor (None, 8, 8, 128)    512         conv2d_12[0][0]                  \n",
            "__________________________________________________________________________________________________\n",
            "dropout_3 (Dropout)             (None, 8, 8, 128)    0           batch_normalization_5[0][0]      \n",
            "__________________________________________________________________________________________________\n",
            "conv2d_13 (Conv2D)              (None, 8, 8, 256)    295168      dropout_3[0][0]                  \n",
            "__________________________________________________________________________________________________\n",
            "conv2d_14 (Conv2D)              (None, 8, 8, 256)    590080      conv2d_13[0][0]                  \n",
            "__________________________________________________________________________________________________\n",
            "conv2d_15 (Conv2D)              (None, 8, 8, 256)    590080      conv2d_14[0][0]                  \n",
            "__________________________________________________________________________________________________\n",
            "batch_normalization_6 (BatchNor (None, 8, 8, 256)    1024        conv2d_15[0][0]                  \n",
            "__________________________________________________________________________________________________\n",
            "max_pooling2d_4 (MaxPooling2D)  (None, 4, 4, 256)    0           batch_normalization_6[0][0]      \n",
            "__________________________________________________________________________________________________\n",
            "conv2d_16 (Conv2D)              (None, 4, 4, 256)    1638656     max_pooling2d_4[0][0]            \n",
            "__________________________________________________________________________________________________\n",
            "batch_normalization_7 (BatchNor (None, 4, 4, 256)    1024        conv2d_16[0][0]                  \n",
            "__________________________________________________________________________________________________\n",
            "dropout_4 (Dropout)             (None, 4, 4, 256)    0           batch_normalization_7[0][0]      \n",
            "__________________________________________________________________________________________________\n",
            "flatten_1 (Flatten)             (None, 4096)         0           dropout_4[0][0]                  \n",
            "__________________________________________________________________________________________________\n",
            "dense_1 (Dense)                 (None, 1024)         4195328     flatten_1[0][0]                  \n",
            "__________________________________________________________________________________________________\n",
            "dropout_5 (Dropout)             (None, 1024)         0           dense_1[0][0]                    \n",
            "__________________________________________________________________________________________________\n",
            "dense_2 (Dense)                 (None, 512)          524800      dropout_5[0][0]                  \n",
            "__________________________________________________________________________________________________\n",
            "dense_3 (Dense)                 (None, 168)          86184       dense_2[0][0]                    \n",
            "__________________________________________________________________________________________________\n",
            "dense_4 (Dense)                 (None, 11)           5643        dense_2[0][0]                    \n",
            "__________________________________________________________________________________________________\n",
            "dense_5 (Dense)                 (None, 7)            3591        dense_2[0][0]                    \n",
            "==================================================================================================\n",
            "Total params: 8,951,258\n",
            "Trainable params: 8,949,402\n",
            "Non-trainable params: 1,856\n",
            "__________________________________________________________________________________________________\n"
          ],
          "name": "stdout"
        }
      ]
    },
    {
      "cell_type": "markdown",
      "metadata": {
        "id": "B3zC7h13AuDB",
        "colab_type": "text"
      },
      "source": [
        "Let's visualize the 3-tailed (3 output) CNN by plotting it."
      ]
    },
    {
      "cell_type": "code",
      "metadata": {
        "trusted": true,
        "id": "LbEkvOxwAuDB",
        "colab_type": "code",
        "colab": {
          "base_uri": "https://localhost:8080/",
          "height": 1000
        },
        "outputId": "e8f6165e-54fc-4e9c-b23c-e89d85b86129"
      },
      "source": [
        "from keras.utils import plot_model\n",
        "plot_model(model, to_file='model.png')"
      ],
      "execution_count": 25,
      "outputs": [
        {
          "output_type": "execute_result",
          "data": {
            "image/png": "[encoded data removed]",
            "text/plain": [
              "<IPython.core.display.Image object>"
            ]
          },
          "metadata": {
            "tags": []
          },
          "execution_count": 25
        }
      ]
    },
    {
      "cell_type": "code",
      "metadata": {
        "trusted": true,
        "id": "cT4H4T6NAuDD",
        "colab_type": "code",
        "colab": {
          "base_uri": "https://localhost:8080/",
          "height": 110
        },
        "outputId": "9190c234-b32d-4d61-fb49-0c59be1457bd"
      },
      "source": [
        "model.compile(optimizer='adam', loss='categorical_crossentropy', metrics=['accuracy'])"
      ],
      "execution_count": 26,
      "outputs": [
        {
          "output_type": "stream",
          "text": [
            "WARNING:tensorflow:From /usr/local/lib/python3.6/dist-packages/keras/optimizers.py:793: The name tf.train.Optimizer is deprecated. Please use tf.compat.v1.train.Optimizer instead.\n",
            "\n",
            "WARNING:tensorflow:From /usr/local/lib/python3.6/dist-packages/keras/backend/tensorflow_backend.py:3576: The name tf.log is deprecated. Please use tf.math.log instead.\n",
            "\n"
          ],
          "name": "stdout"
        }
      ]
    },
    {
      "cell_type": "code",
      "metadata": {
        "trusted": true,
        "id": "FcT1mbseAuDF",
        "colab_type": "code",
        "colab": {}
      },
      "source": [
        "# Set a learning rate annealer. Learning rate will be half after 3 epochs if accuracy is not increased\n",
        "learning_rate_reduction_root = ReduceLROnPlateau(monitor='dense_3_accuracy', \n",
        "                                            patience=3, \n",
        "                                            verbose=1,\n",
        "                                            factor=0.5, \n",
        "                                            min_lr=0.000001)\n",
        "learning_rate_reduction_vowel = ReduceLROnPlateau(monitor='dense_4_accuracy', \n",
        "                                            patience=3, \n",
        "                                            verbose=1,\n",
        "                                            factor=0.5, \n",
        "                                            min_lr=0.000001)\n",
        "learning_rate_reduction_consonant = ReduceLROnPlateau(monitor='dense_5_accuracy', \n",
        "                                            patience=3, \n",
        "                                            verbose=1,\n",
        "                                            factor=0.5, \n",
        "                                            min_lr=0.000001)"
      ],
      "execution_count": 0,
      "outputs": []
    },
    {
      "cell_type": "code",
      "metadata": {
        "trusted": true,
        "id": "Q3zG2eOBAuDI",
        "colab_type": "code",
        "colab": {}
      },
      "source": [
        "batch_size = 256\n",
        "epochs = 50"
      ],
      "execution_count": 0,
      "outputs": []
    },
    {
      "cell_type": "markdown",
      "metadata": {
        "id": "u623zUweAuDK",
        "colab_type": "text"
      },
      "source": [
        "# データの拡張"
      ]
    },
    {
      "cell_type": "code",
      "metadata": {
        "trusted": true,
        "id": "-Ih0Yni0AuDM",
        "colab_type": "code",
        "colab": {}
      },
      "source": [
        "class MultiOutputDataGenerator(keras.preprocessing.image.ImageDataGenerator):\n",
        "\n",
        "    def flow(self,\n",
        "             x,\n",
        "             y=None,\n",
        "             batch_size=32,\n",
        "             shuffle=True,\n",
        "             sample_weight=None,\n",
        "             seed=None,\n",
        "             save_to_dir=None,\n",
        "             save_prefix='',\n",
        "             save_format='png',\n",
        "             subset=None):\n",
        "\n",
        "        targets = None\n",
        "        target_lengths = {}\n",
        "        ordered_outputs = []\n",
        "        for output, target in y.items():\n",
        "            if targets is None:\n",
        "                targets = target\n",
        "            else:\n",
        "                targets = np.concatenate((targets, target), axis=1)\n",
        "            target_lengths[output] = target.shape[1]\n",
        "            ordered_outputs.append(output)\n",
        "\n",
        "\n",
        "        for flowx, flowy in super().flow(x, targets, batch_size=batch_size,\n",
        "                                         shuffle=shuffle):\n",
        "            target_dict = {}\n",
        "            i = 0\n",
        "            for output in ordered_outputs:\n",
        "                target_length = target_lengths[output]\n",
        "                target_dict[output] = flowy[:, i: i + target_length]\n",
        "                i += target_length\n",
        "\n",
        "            yield flowx, target_dict"
      ],
      "execution_count": 0,
      "outputs": []
    },
    {
      "cell_type": "code",
      "metadata": {
        "trusted": true,
        "id": "Sd0wknoRAuDO",
        "colab_type": "code",
        "colab": {}
      },
      "source": [
        "HEIGHT = 137\n",
        "WIDTH = 236"
      ],
      "execution_count": 0,
      "outputs": []
    },
    {
      "cell_type": "markdown",
      "metadata": {
        "id": "7DhgzlPvAuDQ",
        "colab_type": "text"
      },
      "source": [
        "### Training loop"
      ]
    },
    {
      "cell_type": "code",
      "metadata": {
        "trusted": true,
        "id": "PgQ_zPiRAuDR",
        "colab_type": "code",
        "colab": {
          "base_uri": "https://localhost:8080/",
          "height": 1000,
          "referenced_widgets": [
            "b61e882d76ee4a53bb5b32491664e0db",
            "37bf83eea065448bb3f926eaa61fc5d5",
            "d21724864b4b42ddbe7dca4c1a9d3ac3",
            "388e663a82544fb999f84486ea387d98",
            "ed07a14484cf4396abc25551f8031be2",
            "c3fb1dc44e0c4156a3bc962c27537ae7",
            "a20fbb767c1d43b9957393eaf9050583",
            "63a127a7f0b74cfeafd2943059ec88f0"
          ]
        },
        "outputId": "64be728d-82aa-48a4-fb36-97f781010a1b"
      },
      "source": [
        "\n",
        "\n",
        "histories = []\n",
        "for i in range(4):\n",
        "    train_df = pd.merge(pd.read_parquet(f'train_image_data_{i}.parquet'), train_df_, on='image_id').drop(['image_id'], axis=1)\n",
        "    \n",
        "    # Visualize few samples of current training dataset\n",
        "    fig, ax = plt.subplots(nrows=3, ncols=4, figsize=(16, 8))\n",
        "    count=0\n",
        "    for row in ax:\n",
        "        for col in row:\n",
        "            col.imshow(resize(train_df.drop(['grapheme_root', 'vowel_diacritic', 'consonant_diacritic'], axis=1).iloc[[count]], need_progress_bar=False).values.reshape(-1).reshape(IMG_SIZE, IMG_SIZE).astype(np.float64))\n",
        "            count += 1\n",
        "    plt.show()\n",
        "    \n",
        "    X_train = train_df.drop(['grapheme_root', 'vowel_diacritic', 'consonant_diacritic'], axis=1)\n",
        "    X_train = resize(X_train)/255\n",
        "    \n",
        "    # CNN takes images in shape `(batch_size, h, w, channels)`, so reshape the images\n",
        "    X_train = X_train.values.reshape(-1, IMG_SIZE, IMG_SIZE, N_CHANNELS)\n",
        "    \n",
        "    Y_train_root = pd.get_dummies(train_df['grapheme_root']).values\n",
        "    Y_train_vowel = pd.get_dummies(train_df['vowel_diacritic']).values\n",
        "    Y_train_consonant = pd.get_dummies(train_df['consonant_diacritic']).values\n",
        "\n",
        "    print(f'Training images: {X_train.shape}')\n",
        "    print(f'Training labels root: {Y_train_root.shape}')\n",
        "    print(f'Training labels vowel: {Y_train_vowel.shape}')\n",
        "    print(f'Training labels consonants: {Y_train_consonant.shape}')\n",
        "\n",
        "    # Divide the data into training and validation set\n",
        "    x_train, x_test, y_train_root, y_test_root, y_train_vowel, y_test_vowel, y_train_consonant, y_test_consonant = train_test_split(X_train, Y_train_root, Y_train_vowel, Y_train_consonant, test_size=0.08, random_state=666)\n",
        "    del train_df\n",
        "    del X_train\n",
        "    del Y_train_root, Y_train_vowel, Y_train_consonant\n",
        "\n",
        "    # Data augmentation for creating more training data\n",
        "    datagen = MultiOutputDataGenerator(\n",
        "        featurewise_center=False,  # set input mean to 0 over the dataset\n",
        "        samplewise_center=False,  # set each sample mean to 0\n",
        "        featurewise_std_normalization=False,  # divide inputs by std of the dataset\n",
        "        samplewise_std_normalization=False,  # divide each input by its std\n",
        "        zca_whitening=False,  # apply ZCA whitening\n",
        "        rotation_range=8,  # randomly rotate images in the range (degrees, 0 to 180)\n",
        "        zoom_range = 0.15, # Randomly zoom image \n",
        "        width_shift_range=0.15,  # randomly shift images horizontally (fraction of total width)\n",
        "        height_shift_range=0.15,  # randomly shift images vertically (fraction of total height)\n",
        "        horizontal_flip=False,  # randomly flip images\n",
        "        vertical_flip=False)  # randomly flip images\n",
        "\n",
        "\n",
        "    # This will just calculate parameters required to augment the given data. This won't perform any augmentations\n",
        "    datagen.fit(x_train)\n",
        "\n",
        "    aug_ratio = 1\n",
        "\n",
        "    # Fit the model\n",
        "    history = model.fit_generator(datagen.flow(x_train, {'dense_3': y_train_root, 'dense_4': y_train_vowel, 'dense_5': y_train_consonant}, batch_size=batch_size),\n",
        "                              epochs = epochs, validation_data = (x_test, [y_test_root, y_test_vowel, y_test_consonant]), \n",
        "                              steps_per_epoch=(x_train.shape[0] // batch_size) * aug_ratio, \n",
        "                              callbacks=[learning_rate_reduction_root, learning_rate_reduction_vowel, learning_rate_reduction_consonant])\n",
        "\n",
        "    histories.append(history)\n",
        "    # Delete to reduce memory usage\n",
        "    del x_train\n",
        "    del x_test\n",
        "    del y_train_root\n",
        "    del y_test_root\n",
        "    del y_train_vowel\n",
        "    del y_test_vowel\n",
        "    del y_train_consonant\n",
        "    del y_test_consonant\n",
        "    gc.collect()"
      ],
      "execution_count": 0,
      "outputs": [
        {
          "output_type": "display_data",
          "data": {
            "image/png": "[encoded data removed]",
            "text/plain": [
              "<Figure size 1152x576 with 12 Axes>"
            ]
          },
          "metadata": {
            "tags": []
          }
        },
        {
          "output_type": "display_data",
          "data": {
            "application/vnd.jupyter.widget-view+json": {
              "model_id": "b61e882d76ee4a53bb5b32491664e0db",
              "version_minor": 0,
              "version_major": 2
            },
            "text/plain": [
              "HBox(children=(IntProgress(value=0, max=50210), HTML(value='')))"
            ]
          },
          "metadata": {
            "tags": []
          }
        },
        {
          "output_type": "stream",
          "text": [
            "\n",
            "Training images: (50210, 64, 64, 1)\n",
            "Training labels root: (50210, 168)\n",
            "Training labels vowel: (50210, 11)\n",
            "Training labels consonants: (50210, 7)\n",
            "Epoch 1/50\n",
            "540/540 [==============================] - 77s 142ms/step - loss: 1.4411 - dense_3_loss: 1.0087 - dense_4_loss: 0.2236 - dense_5_loss: 0.2088 - dense_3_acc: 0.7005 - dense_4_acc: 0.9305 - dense_5_acc: 0.9339 - val_loss: 0.9349 - val_dense_3_loss: 0.6699 - val_dense_4_loss: 0.1417 - val_dense_5_loss: 0.1234 - val_dense_3_acc: 0.8125 - val_dense_4_acc: 0.9599 - val_dense_5_acc: 0.9647\n",
            "Epoch 2/50\n",
            "  1/540 [..............................] - ETA: 1:08 - loss: 1.3050 - dense_3_loss: 0.8234 - dense_4_loss: 0.3305 - dense_5_loss: 0.1511 - dense_3_acc: 0.7656 - dense_4_acc: 0.9102 - dense_5_acc: 0.9570"
          ],
          "name": "stdout"
        },
        {
          "output_type": "stream",
          "text": [
            "/usr/local/lib/python3.6/dist-packages/keras/callbacks.py:1379: RuntimeWarning: Reduce LR on plateau conditioned on metric `dense_3_accuracy` which is not available. Available metrics are: val_loss,val_dense_3_loss,val_dense_4_loss,val_dense_5_loss,val_dense_3_acc,val_dense_4_acc,val_dense_5_acc,loss,dense_3_loss,dense_4_loss,dense_5_loss,dense_3_acc,dense_4_acc,dense_5_acc,lr\n",
            "  (self.monitor, ','.join(list(logs.keys()))), RuntimeWarning\n",
            "/usr/local/lib/python3.6/dist-packages/keras/callbacks.py:1379: RuntimeWarning: Reduce LR on plateau conditioned on metric `dense_4_accuracy` which is not available. Available metrics are: val_loss,val_dense_3_loss,val_dense_4_loss,val_dense_5_loss,val_dense_3_acc,val_dense_4_acc,val_dense_5_acc,loss,dense_3_loss,dense_4_loss,dense_5_loss,dense_3_acc,dense_4_acc,dense_5_acc,lr\n",
            "  (self.monitor, ','.join(list(logs.keys()))), RuntimeWarning\n",
            "/usr/local/lib/python3.6/dist-packages/keras/callbacks.py:1379: RuntimeWarning: Reduce LR on plateau conditioned on metric `dense_5_accuracy` which is not available. Available metrics are: val_loss,val_dense_3_loss,val_dense_4_loss,val_dense_5_loss,val_dense_3_acc,val_dense_4_acc,val_dense_5_acc,loss,dense_3_loss,dense_4_loss,dense_5_loss,dense_3_acc,dense_4_acc,dense_5_acc,lr\n",
            "  (self.monitor, ','.join(list(logs.keys()))), RuntimeWarning\n"
          ],
          "name": "stderr"
        },
        {
          "output_type": "stream",
          "text": [
            "540/540 [==============================] - 76s 142ms/step - loss: 1.1309 - dense_3_loss: 0.7662 - dense_4_loss: 0.1874 - dense_5_loss: 0.1773 - dense_3_acc: 0.7719 - dense_4_acc: 0.9426 - dense_5_acc: 0.9441 - val_loss: 0.7341 - val_dense_3_loss: 0.5355 - val_dense_4_loss: 0.1031 - val_dense_5_loss: 0.0956 - val_dense_3_acc: 0.8509 - val_dense_4_acc: 0.9716 - val_dense_5_acc: 0.9709\n",
            "Epoch 3/50\n",
            "540/540 [==============================] - 79s 145ms/step - loss: 0.9398 - dense_3_loss: 0.6252 - dense_4_loss: 0.1592 - dense_5_loss: 0.1553 - dense_3_acc: 0.8160 - dense_4_acc: 0.9515 - dense_5_acc: 0.9506 - val_loss: 0.6817 - val_dense_3_loss: 0.4812 - val_dense_4_loss: 0.1016 - val_dense_5_loss: 0.0988 - val_dense_3_acc: 0.8703 - val_dense_4_acc: 0.9729 - val_dense_5_acc: 0.9694\n",
            "Epoch 4/50\n",
            "540/540 [==============================] - 77s 142ms/step - loss: 0.8091 - dense_3_loss: 0.5320 - dense_4_loss: 0.1421 - dense_5_loss: 0.1350 - dense_3_acc: 0.8431 - dense_4_acc: 0.9576 - dense_5_acc: 0.9573 - val_loss: 0.6282 - val_dense_3_loss: 0.4414 - val_dense_4_loss: 0.0965 - val_dense_5_loss: 0.0903 - val_dense_3_acc: 0.8857 - val_dense_4_acc: 0.9734 - val_dense_5_acc: 0.9734\n",
            "Epoch 5/50\n",
            "540/540 [==============================] - 76s 141ms/step - loss: 0.7313 - dense_3_loss: 0.4709 - dense_4_loss: 0.1311 - dense_5_loss: 0.1293 - dense_3_acc: 0.8602 - dense_4_acc: 0.9610 - dense_5_acc: 0.9594 - val_loss: 0.5910 - val_dense_3_loss: 0.4039 - val_dense_4_loss: 0.0997 - val_dense_5_loss: 0.0873 - val_dense_3_acc: 0.8962 - val_dense_4_acc: 0.9768 - val_dense_5_acc: 0.9739\n",
            "Epoch 6/50\n",
            "540/540 [==============================] - 76s 141ms/step - loss: 0.6614 - dense_3_loss: 0.4217 - dense_4_loss: 0.1220 - dense_5_loss: 0.1177 - dense_3_acc: 0.8743 - dense_4_acc: 0.9633 - dense_5_acc: 0.9627 - val_loss: 0.5728 - val_dense_3_loss: 0.3883 - val_dense_4_loss: 0.0922 - val_dense_5_loss: 0.0922 - val_dense_3_acc: 0.8989 - val_dense_4_acc: 0.9773 - val_dense_5_acc: 0.9766\n",
            "Epoch 7/50\n",
            "540/540 [==============================] - 76s 142ms/step - loss: 0.6017 - dense_3_loss: 0.3793 - dense_4_loss: 0.1130 - dense_5_loss: 0.1094 - dense_3_acc: 0.8866 - dense_4_acc: 0.9662 - dense_5_acc: 0.9650 - val_loss: 0.5397 - val_dense_3_loss: 0.3710 - val_dense_4_loss: 0.0861 - val_dense_5_loss: 0.0826 - val_dense_3_acc: 0.9066 - val_dense_4_acc: 0.9781 - val_dense_5_acc: 0.9781\n",
            "Epoch 8/50\n",
            "540/540 [==============================] - 76s 140ms/step - loss: 0.5573 - dense_3_loss: 0.3514 - dense_4_loss: 0.1026 - dense_5_loss: 0.1033 - dense_3_acc: 0.8943 - dense_4_acc: 0.9693 - dense_5_acc: 0.9672 - val_loss: 0.5293 - val_dense_3_loss: 0.3590 - val_dense_4_loss: 0.0856 - val_dense_5_loss: 0.0847 - val_dense_3_acc: 0.9084 - val_dense_4_acc: 0.9806 - val_dense_5_acc: 0.9761\n",
            "Epoch 9/50\n",
            "540/540 [==============================] - 79s 146ms/step - loss: 0.5282 - dense_3_loss: 0.3278 - dense_4_loss: 0.1014 - dense_5_loss: 0.0990 - dense_3_acc: 0.9019 - dense_4_acc: 0.9693 - dense_5_acc: 0.9685 - val_loss: 0.5109 - val_dense_3_loss: 0.3495 - val_dense_4_loss: 0.0767 - val_dense_5_loss: 0.0847 - val_dense_3_acc: 0.9071 - val_dense_4_acc: 0.9803 - val_dense_5_acc: 0.9786\n",
            "Epoch 10/50\n",
            "540/540 [==============================] - 77s 143ms/step - loss: 0.4931 - dense_3_loss: 0.3074 - dense_4_loss: 0.0936 - dense_5_loss: 0.0921 - dense_3_acc: 0.9073 - dense_4_acc: 0.9719 - dense_5_acc: 0.9705 - val_loss: 0.5288 - val_dense_3_loss: 0.3491 - val_dense_4_loss: 0.0895 - val_dense_5_loss: 0.0901 - val_dense_3_acc: 0.9094 - val_dense_4_acc: 0.9766 - val_dense_5_acc: 0.9771\n",
            "Epoch 11/50\n",
            "540/540 [==============================] - 78s 144ms/step - loss: 0.4687 - dense_3_loss: 0.2915 - dense_4_loss: 0.0890 - dense_5_loss: 0.0881 - dense_3_acc: 0.9125 - dense_4_acc: 0.9728 - dense_5_acc: 0.9720 - val_loss: 0.5044 - val_dense_3_loss: 0.3470 - val_dense_4_loss: 0.0804 - val_dense_5_loss: 0.0770 - val_dense_3_acc: 0.9198 - val_dense_4_acc: 0.9821 - val_dense_5_acc: 0.9776\n",
            "Epoch 12/50\n",
            "540/540 [==============================] - 77s 142ms/step - loss: 0.4374 - dense_3_loss: 0.2699 - dense_4_loss: 0.0832 - dense_5_loss: 0.0843 - dense_3_acc: 0.9178 - dense_4_acc: 0.9751 - dense_5_acc: 0.9731 - val_loss: 0.5194 - val_dense_3_loss: 0.3460 - val_dense_4_loss: 0.0831 - val_dense_5_loss: 0.0903 - val_dense_3_acc: 0.9174 - val_dense_4_acc: 0.9796 - val_dense_5_acc: 0.9788\n",
            "Epoch 13/50\n",
            "540/540 [==============================] - 78s 144ms/step - loss: 0.4177 - dense_3_loss: 0.2573 - dense_4_loss: 0.0790 - dense_5_loss: 0.0814 - dense_3_acc: 0.9219 - dense_4_acc: 0.9761 - dense_5_acc: 0.9744 - val_loss: 0.4784 - val_dense_3_loss: 0.3258 - val_dense_4_loss: 0.0806 - val_dense_5_loss: 0.0721 - val_dense_3_acc: 0.9174 - val_dense_4_acc: 0.9801 - val_dense_5_acc: 0.9793\n",
            "Epoch 14/50\n",
            "540/540 [==============================] - 77s 143ms/step - loss: 0.3962 - dense_3_loss: 0.2411 - dense_4_loss: 0.0764 - dense_5_loss: 0.0787 - dense_3_acc: 0.9269 - dense_4_acc: 0.9771 - dense_5_acc: 0.9747 - val_loss: 0.4902 - val_dense_3_loss: 0.3337 - val_dense_4_loss: 0.0751 - val_dense_5_loss: 0.0814 - val_dense_3_acc: 0.9139 - val_dense_4_acc: 0.9813 - val_dense_5_acc: 0.9776\n",
            "Epoch 15/50\n",
            "540/540 [==============================] - 77s 142ms/step - loss: 0.3794 - dense_3_loss: 0.2300 - dense_4_loss: 0.0746 - dense_5_loss: 0.0749 - dense_3_acc: 0.9294 - dense_4_acc: 0.9779 - dense_5_acc: 0.9761 - val_loss: 0.4746 - val_dense_3_loss: 0.3189 - val_dense_4_loss: 0.0753 - val_dense_5_loss: 0.0804 - val_dense_3_acc: 0.9256 - val_dense_4_acc: 0.9826 - val_dense_5_acc: 0.9786\n",
            "Epoch 16/50\n",
            "540/540 [==============================] - 77s 142ms/step - loss: 0.3562 - dense_3_loss: 0.2158 - dense_4_loss: 0.0699 - dense_5_loss: 0.0705 - dense_3_acc: 0.9341 - dense_4_acc: 0.9791 - dense_5_acc: 0.9769 - val_loss: 0.5106 - val_dense_3_loss: 0.3427 - val_dense_4_loss: 0.0781 - val_dense_5_loss: 0.0899 - val_dense_3_acc: 0.9169 - val_dense_4_acc: 0.9826 - val_dense_5_acc: 0.9776\n",
            "Epoch 17/50\n",
            "540/540 [==============================] - 77s 142ms/step - loss: 0.3481 - dense_3_loss: 0.2099 - dense_4_loss: 0.0674 - dense_5_loss: 0.0708 - dense_3_acc: 0.9357 - dense_4_acc: 0.9796 - dense_5_acc: 0.9772 - val_loss: 0.4968 - val_dense_3_loss: 0.3361 - val_dense_4_loss: 0.0829 - val_dense_5_loss: 0.0778 - val_dense_3_acc: 0.9231 - val_dense_4_acc: 0.9823 - val_dense_5_acc: 0.9808\n",
            "Epoch 18/50\n",
            "540/540 [==============================] - 76s 141ms/step - loss: 0.3332 - dense_3_loss: 0.2008 - dense_4_loss: 0.0651 - dense_5_loss: 0.0673 - dense_3_acc: 0.9381 - dense_4_acc: 0.9804 - dense_5_acc: 0.9785 - val_loss: 0.4786 - val_dense_3_loss: 0.3202 - val_dense_4_loss: 0.0830 - val_dense_5_loss: 0.0754 - val_dense_3_acc: 0.9183 - val_dense_4_acc: 0.9803 - val_dense_5_acc: 0.9813\n",
            "Epoch 19/50\n",
            "540/540 [==============================] - 77s 142ms/step - loss: 0.3237 - dense_3_loss: 0.1919 - dense_4_loss: 0.0646 - dense_5_loss: 0.0672 - dense_3_acc: 0.9411 - dense_4_acc: 0.9805 - dense_5_acc: 0.9783 - val_loss: 0.4836 - val_dense_3_loss: 0.3175 - val_dense_4_loss: 0.0851 - val_dense_5_loss: 0.0810 - val_dense_3_acc: 0.9218 - val_dense_4_acc: 0.9808 - val_dense_5_acc: 0.9796\n",
            "Epoch 20/50\n",
            "540/540 [==============================] - 76s 142ms/step - loss: 0.3046 - dense_3_loss: 0.1815 - dense_4_loss: 0.0600 - dense_5_loss: 0.0630 - dense_3_acc: 0.9440 - dense_4_acc: 0.9815 - dense_5_acc: 0.9798 - val_loss: 0.4819 - val_dense_3_loss: 0.3285 - val_dense_4_loss: 0.0801 - val_dense_5_loss: 0.0733 - val_dense_3_acc: 0.9206 - val_dense_4_acc: 0.9828 - val_dense_5_acc: 0.9816\n",
            "Epoch 21/50\n",
            "540/540 [==============================] - 76s 142ms/step - loss: 0.2919 - dense_3_loss: 0.1727 - dense_4_loss: 0.0575 - dense_5_loss: 0.0616 - dense_3_acc: 0.9466 - dense_4_acc: 0.9825 - dense_5_acc: 0.9801 - val_loss: 0.4460 - val_dense_3_loss: 0.3040 - val_dense_4_loss: 0.0634 - val_dense_5_loss: 0.0786 - val_dense_3_acc: 0.9273 - val_dense_4_acc: 0.9841 - val_dense_5_acc: 0.9818\n",
            "Epoch 22/50\n",
            "540/540 [==============================] - 77s 143ms/step - loss: 0.2857 - dense_3_loss: 0.1676 - dense_4_loss: 0.0578 - dense_5_loss: 0.0602 - dense_3_acc: 0.9470 - dense_4_acc: 0.9822 - dense_5_acc: 0.9804 - val_loss: 0.5059 - val_dense_3_loss: 0.3251 - val_dense_4_loss: 0.0933 - val_dense_5_loss: 0.0876 - val_dense_3_acc: 0.9266 - val_dense_4_acc: 0.9783 - val_dense_5_acc: 0.9793\n",
            "Epoch 23/50\n",
            "540/540 [==============================] - 76s 140ms/step - loss: 0.2687 - dense_3_loss: 0.1580 - dense_4_loss: 0.0529 - dense_5_loss: 0.0579 - dense_3_acc: 0.9512 - dense_4_acc: 0.9839 - dense_5_acc: 0.9809 - val_loss: 0.4485 - val_dense_3_loss: 0.2988 - val_dense_4_loss: 0.0732 - val_dense_5_loss: 0.0765 - val_dense_3_acc: 0.9281 - val_dense_4_acc: 0.9808 - val_dense_5_acc: 0.9813\n",
            "Epoch 24/50\n",
            "540/540 [==============================] - 76s 141ms/step - loss: 0.2647 - dense_3_loss: 0.1552 - dense_4_loss: 0.0530 - dense_5_loss: 0.0564 - dense_3_acc: 0.9523 - dense_4_acc: 0.9837 - dense_5_acc: 0.9818 - val_loss: 0.4705 - val_dense_3_loss: 0.3161 - val_dense_4_loss: 0.0757 - val_dense_5_loss: 0.0787 - val_dense_3_acc: 0.9291 - val_dense_4_acc: 0.9831 - val_dense_5_acc: 0.9816\n",
            "Epoch 25/50\n",
            "209/540 [==========>...................] - ETA: 46s - loss: 0.2614 - dense_3_loss: 0.1548 - dense_4_loss: 0.0515 - dense_5_loss: 0.0551 - dense_3_acc: 0.9529 - dense_4_acc: 0.9843 - dense_5_acc: 0.9821"
          ],
          "name": "stdout"
        }
      ]
    },
    {
      "cell_type": "code",
      "metadata": {
        "trusted": true,
        "id": "e3N5k5YvAuDT",
        "colab_type": "code",
        "colab": {}
      },
      "source": [
        "%matplotlib inline\n",
        "def plot_loss(his, epoch, title):\n",
        "    plt.style.use('ggplot')\n",
        "    plt.figure()\n",
        "    plt.plot(np.arange(0, epoch), his.history['loss'], label='train_loss')\n",
        "    plt.plot(np.arange(0, epoch), his.history['dense_3_loss'], label='train_root_loss')\n",
        "    plt.plot(np.arange(0, epoch), his.history['dense_4_loss'], label='train_vowel_loss')\n",
        "    plt.plot(np.arange(0, epoch), his.history['dense_5_loss'], label='train_consonant_loss')\n",
        "    \n",
        "    plt.plot(np.arange(0, epoch), his.history['val_dense_3_loss'], label='val_train_root_loss')\n",
        "    plt.plot(np.arange(0, epoch), his.history['val_dense_4_loss'], label='val_train_vowel_loss')\n",
        "    plt.plot(np.arange(0, epoch), his.history['val_dense_5_loss'], label='val_train_consonant_loss')\n",
        "    \n",
        "    plt.title(title)\n",
        "    plt.xlabel('Epoch #')\n",
        "    plt.ylabel('Loss')\n",
        "    plt.legend(loc='upper right')\n",
        "    plt.show()\n",
        "\n",
        "def plot_acc(his, epoch, title):\n",
        "    plt.style.use('ggplot')\n",
        "    plt.figure()\n",
        "    plt.plot(np.arange(0, epoch), his.history['dense_3_accuracy'], label='train_root_acc')\n",
        "    plt.plot(np.arange(0, epoch), his.history['dense_4_accuracy'], label='train_vowel_accuracy')\n",
        "    plt.plot(np.arange(0, epoch), his.history['dense_5_accuracy'], label='train_consonant_accuracy')\n",
        "    \n",
        "    plt.plot(np.arange(0, epoch), his.history['val_dense_3_accuracy'], label='val_root_acc')\n",
        "    plt.plot(np.arange(0, epoch), his.history['val_dense_4_accuracy'], label='val_vowel_accuracy')\n",
        "    plt.plot(np.arange(0, epoch), his.history['val_dense_5_accuracy'], label='val_consonant_accuracy')\n",
        "    plt.title(title)\n",
        "    plt.xlabel('Epoch #')\n",
        "    plt.ylabel('Accuracy')\n",
        "    plt.legend(loc='upper right')\n",
        "    plt.show()"
      ],
      "execution_count": 0,
      "outputs": []
    },
    {
      "cell_type": "code",
      "metadata": {
        "id": "QQO_4XGSMSXU",
        "colab_type": "code",
        "colab": {}
      },
      "source": [
        "end_time = datetime.datetime.now(pytz.timezone('Asia/Tokyo'))\n",
        "print(\"\\nStart   Time  : \" + str(start_time))\n",
        "print(  \"End     Time  : \" + str(end_time))\n",
        "print(  \"Elapsed Time  : \" + str(end_time - start_time))"
      ],
      "execution_count": 0,
      "outputs": []
    },
    {
      "cell_type": "code",
      "metadata": {
        "trusted": true,
        "id": "zsi30e6DAuDW",
        "colab_type": "code",
        "colab": {}
      },
      "source": [
        "for dataset in range(4):\n",
        "    plot_loss(histories[dataset], epochs, f'Training Dataset: {dataset}')\n",
        "    plot_acc(histories[dataset], epochs, f'Training Dataset: {dataset}')"
      ],
      "execution_count": 0,
      "outputs": []
    },
    {
      "cell_type": "code",
      "metadata": {
        "trusted": true,
        "id": "VgAUYRkCAuDZ",
        "colab_type": "code",
        "colab": {}
      },
      "source": [
        "del histories\n",
        "gc.collect()"
      ],
      "execution_count": 0,
      "outputs": []
    },
    {
      "cell_type": "code",
      "metadata": {
        "trusted": true,
        "id": "Wq1fiHVyAuDb",
        "colab_type": "code",
        "colab": {}
      },
      "source": [
        "preds_dict = {\n",
        "    'grapheme_root': [],\n",
        "    'vowel_diacritic': [],\n",
        "    'consonant_diacritic': []\n",
        "}"
      ],
      "execution_count": 0,
      "outputs": []
    },
    {
      "cell_type": "code",
      "metadata": {
        "trusted": true,
        "id": "JWl9edPaAuDc",
        "colab_type": "code",
        "colab": {}
      },
      "source": [
        "components = ['consonant_diacritic', 'grapheme_root', 'vowel_diacritic']\n",
        "target=[] # model predictions placeholder\n",
        "row_id=[] # row_id place holder\n",
        "for i in range(4):\n",
        "    df_test_img = pd.read_parquet('/kaggle/input/bengaliai-cv19/test_image_data_{}.parquet'.format(i)) \n",
        "    df_test_img.set_index('image_id', inplace=True)\n",
        "\n",
        "    X_test = resize(df_test_img, need_progress_bar=False)/255\n",
        "    X_test = X_test.values.reshape(-1, IMG_SIZE, IMG_SIZE, N_CHANNELS)\n",
        "    \n",
        "    preds = model.predict(X_test)\n",
        "\n",
        "    for i, p in enumerate(preds_dict):\n",
        "        preds_dict[p] = np.argmax(preds[i], axis=1)\n",
        "\n",
        "    for k,id in enumerate(df_test_img.index.values):  \n",
        "        for i,comp in enumerate(components):\n",
        "            id_sample=id+'_'+comp\n",
        "            row_id.append(id_sample)\n",
        "            target.append(preds_dict[comp][k])\n",
        "    del df_test_img\n",
        "    del X_test\n",
        "    gc.collect()\n",
        "\n",
        "df_sample = pd.DataFrame(\n",
        "    {\n",
        "        'row_id': row_id,\n",
        "        'target':target\n",
        "    },\n",
        "    columns = ['row_id','target'] \n",
        ")\n",
        "df_sample.to_csv('submission.csv',index=False)\n",
        "df_sample.head()"
      ],
      "execution_count": 0,
      "outputs": []
    }
  ]
}