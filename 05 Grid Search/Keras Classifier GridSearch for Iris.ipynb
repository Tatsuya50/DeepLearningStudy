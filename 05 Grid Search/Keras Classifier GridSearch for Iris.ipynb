{
 "cells": [
  {
   "cell_type": "markdown",
   "metadata": {},
   "source": [
    "## Keras with GridSearchCVでパラメータ最適化自動化\n",
    "\n",
    "参考：<br>\n",
    "　　https://qiita.com/cvusk/items/285e2b02b0950537b65e"
   ]
  },
  {
   "cell_type": "code",
   "execution_count": 1,
   "metadata": {},
   "outputs": [
    {
     "name": "stdout",
     "output_type": "stream",
     "text": [
      "2019-08-27 02:11:46.477648+09:00\n"
     ]
    }
   ],
   "source": [
    "import datetime\n",
    "import pytz\n",
    "\n",
    "start_time = datetime.datetime.now(pytz.timezone('Asia/Tokyo'))\n",
    "print(start_time)"
   ]
  },
  {
   "cell_type": "code",
   "execution_count": 2,
   "metadata": {},
   "outputs": [
    {
     "name": "stderr",
     "output_type": "stream",
     "text": [
      "Using TensorFlow backend.\n"
     ]
    }
   ],
   "source": [
    "import numpy as np\n",
    "from sklearn import datasets, preprocessing\n",
    "from sklearn.model_selection import train_test_split\n",
    "from sklearn.model_selection import GridSearchCV\n",
    "from keras.models import Sequential\n",
    "from keras.layers.core import Dense, Activation\n",
    "from keras.utils import np_utils\n",
    "from keras import backend as K\n",
    "from keras.wrappers.scikit_learn import KerasClassifier"
   ]
  },
  {
   "cell_type": "code",
   "execution_count": 3,
   "metadata": {},
   "outputs": [],
   "source": [
    "# import data and divided it into training and test purposes\n",
    "iris = datasets.load_iris()"
   ]
  },
  {
   "cell_type": "code",
   "execution_count": 4,
   "metadata": {},
   "outputs": [],
   "source": [
    "x = preprocessing.scale(iris.data)\n",
    "y = np_utils.to_categorical(iris.target)"
   ]
  },
  {
   "cell_type": "code",
   "execution_count": 5,
   "metadata": {},
   "outputs": [],
   "source": [
    "x_tr, x_te, y_tr, y_te = train_test_split(x, y, train_size  = 0.7)\n",
    "num_classes = y_te.shape[1]"
   ]
  },
  {
   "cell_type": "code",
   "execution_count": 6,
   "metadata": {},
   "outputs": [],
   "source": [
    "# Define model for iris classification\n",
    "def iris_model(activation=\"relu\", optimizer=\"adam\", out_dim=100):\n",
    "    model = Sequential()\n",
    "    model.add(Dense(out_dim, input_dim=4, activation=activation))\n",
    "    model.add(Dense(out_dim, activation=activation))   \n",
    "    model.add(Dense(num_classes, activation=\"softmax\"))\n",
    "    \n",
    "    model.compile(loss='categorical_crossentropy', optimizer=optimizer, metrics=['accuracy'])\n",
    "    \n",
    "    return model"
   ]
  },
  {
   "cell_type": "code",
   "execution_count": 7,
   "metadata": {},
   "outputs": [],
   "source": [
    "# Define options for parameters\n",
    "activation = [\"relu\", \"sigmoid\"]\n",
    "optimizer  = [\"adam\", \"adagrad\"]\n",
    "out_dim    = [100, 200]\n",
    "nb_epoch   = [10, 25]\n",
    "batch_size = [5, 10]"
   ]
  },
  {
   "cell_type": "code",
   "execution_count": 8,
   "metadata": {},
   "outputs": [],
   "source": [
    "# Retrieve model and parameter into GridSearchCV\n",
    "model = KerasClassifier(build_fn=iris_model, verbose=0)\n",
    "\n",
    "param_grid = dict(activation = activation, \n",
    "                  optimizer  = optimizer, \n",
    "                  out_dim    = out_dim, \n",
    "                  nb_epoch   = nb_epoch, \n",
    "                  batch_size = batch_size)\n",
    "\n",
    "grid = GridSearchCV(estimator=model, param_grid=param_grid)"
   ]
  },
  {
   "cell_type": "code",
   "execution_count": 9,
   "metadata": {},
   "outputs": [
    {
     "name": "stdout",
     "output_type": "stream",
     "text": [
      "WARNING:tensorflow:From C:\\Anaconda3\\lib\\site-packages\\tensorflow\\python\\framework\\op_def_library.py:263: colocate_with (from tensorflow.python.framework.ops) is deprecated and will be removed in a future version.\n",
      "Instructions for updating:\n",
      "Colocations handled automatically by placer.\n",
      "WARNING:tensorflow:From C:\\Anaconda3\\lib\\site-packages\\tensorflow\\python\\ops\\math_ops.py:3066: to_int32 (from tensorflow.python.ops.math_ops) is deprecated and will be removed in a future version.\n",
      "Instructions for updating:\n",
      "Use tf.cast instead.\n"
     ]
    },
    {
     "name": "stderr",
     "output_type": "stream",
     "text": [
      "C:\\Anaconda3\\lib\\site-packages\\sklearn\\model_selection\\_split.py:1978: FutureWarning: The default value of cv will change from 3 to 5 in version 0.22. Specify it explicitly to silence this warning.\n",
      "  warnings.warn(CV_WARNING, FutureWarning)\n"
     ]
    }
   ],
   "source": [
    "# Run grid search\n",
    "grid_result = grid.fit(x_tr, y_tr)"
   ]
  },
  {
   "cell_type": "code",
   "execution_count": 10,
   "metadata": {},
   "outputs": [
    {
     "name": "stdout",
     "output_type": "stream",
     "text": [
      "0.8857142925262451\n",
      "{'activation': 'relu', 'batch_size': 5, 'nb_epoch': 10, 'optimizer': 'adagrad', 'out_dim': 100}\n"
     ]
    }
   ],
   "source": [
    "# Get the best score and the optimized mode\n",
    "print(grid_result.best_score_)\n",
    "print(grid_result.best_params_)"
   ]
  },
  {
   "cell_type": "code",
   "execution_count": 11,
   "metadata": {},
   "outputs": [
    {
     "name": "stdout",
     "output_type": "stream",
     "text": [
      "0.9111111111111111\n"
     ]
    }
   ],
   "source": [
    "# Evaluate the model with test data\n",
    "grid_eval = grid.predict(x_te)\n",
    "\n",
    "def y_binary(i):\n",
    "    if   i == 0:\n",
    "        return [1, 0, 0]\n",
    "    elif i == 1:\n",
    "        return [0, 1, 0]\n",
    "    elif i == 2:\n",
    "        return [0, 0, 1]\n",
    "\n",
    "y_eval = np.array([y_binary(i) for i in grid_eval])\n",
    "accuracy = (y_eval == y_te)\n",
    "print(np.count_nonzero(accuracy == True) / (accuracy.shape[0] * accuracy.shape[1]))"
   ]
  },
  {
   "cell_type": "code",
   "execution_count": 12,
   "metadata": {},
   "outputs": [
    {
     "name": "stdout",
     "output_type": "stream",
     "text": [
      "_________________________________________________________________\n",
      "Layer (type)                 Output Shape              Param #   \n",
      "=================================================================\n",
      "dense_292 (Dense)            (None, 100)               500       \n",
      "_________________________________________________________________\n",
      "dense_293 (Dense)            (None, 100)               10100     \n",
      "_________________________________________________________________\n",
      "dense_294 (Dense)            (None, 3)                 303       \n",
      "=================================================================\n",
      "Total params: 10,903\n",
      "Trainable params: 10,903\n",
      "Non-trainable params: 0\n",
      "_________________________________________________________________\n"
     ]
    }
   ],
   "source": [
    "# Now see the optimized model\n",
    "model = iris_model(activation = grid_result.best_params_['activation'], \n",
    "                   optimizer  = grid_result.best_params_['optimizer'], \n",
    "                   out_dim    = grid_result.best_params_['out_dim'])\n",
    "\n",
    "model.summary()"
   ]
  },
  {
   "cell_type": "code",
   "execution_count": 13,
   "metadata": {},
   "outputs": [
    {
     "name": "stdout",
     "output_type": "stream",
     "text": [
      "\n",
      "Start   Time  : 2019-08-27 02:11:46.477648+09:00\n",
      "End     Time  : 2019-08-27 02:16:52.984806+09:00\n",
      "Elapsed Time  : 0:05:06.507158\n"
     ]
    }
   ],
   "source": [
    "end_time = datetime.datetime.now(pytz.timezone('Asia/Tokyo'))\n",
    "print(\"\\nStart   Time  : \" + str(start_time))\n",
    "print(  \"End     Time  : \" + str(end_time))\n",
    "print(  \"Elapsed Time  : \" + str(end_time - start_time))"
   ]
  }
 ],
 "metadata": {
  "kernelspec": {
   "display_name": "Python 3",
   "language": "python",
   "name": "python3"
  },
  "language_info": {
   "codemirror_mode": {
    "name": "ipython",
    "version": 3
   },
   "file_extension": ".py",
   "mimetype": "text/x-python",
   "name": "python",
   "nbconvert_exporter": "python",
   "pygments_lexer": "ipython3",
   "version": "3.7.3"
  }
 },
 "nbformat": 4,
 "nbformat_minor": 2
}
