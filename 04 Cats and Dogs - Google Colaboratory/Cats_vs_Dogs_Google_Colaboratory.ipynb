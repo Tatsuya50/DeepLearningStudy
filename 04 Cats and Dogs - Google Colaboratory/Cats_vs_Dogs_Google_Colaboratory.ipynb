{
  "nbformat": 4,
  "nbformat_minor": 0,
  "metadata": {
    "kernelspec": {
      "name": "python3",
      "display_name": "Python 3"
    },
    "language_info": {
      "codemirror_mode": {
        "name": "ipython",
        "version": 3
      },
      "file_extension": ".py",
      "mimetype": "text/x-python",
      "name": "python",
      "nbconvert_exporter": "python",
      "pygments_lexer": "ipython3",
      "version": "3.7.3"
    },
    "colab": {
      "name": "Cats_vs_Dogs.ipynb",
      "version": "0.3.2",
      "provenance": [],
      "collapsed_sections": []
    },
    "accelerator": "GPU"
  },
  "cells": [
    {
      "cell_type": "markdown",
      "metadata": {
        "id": "5iy_hwiPUdoi",
        "colab_type": "text"
      },
      "source": [
        "# Cats and Dogs"
      ]
    },
    {
      "cell_type": "code",
      "metadata": {
        "id": "u9cyLDotU50T",
        "colab_type": "code",
        "colab": {
          "base_uri": "https://localhost:8080/",
          "height": 122
        },
        "outputId": "4adb5c97-d0cb-4cbb-a0b0-981d53f50744"
      },
      "source": [
        "from google.colab import drive\n",
        "drive.mount('/content/drive')"
      ],
      "execution_count": 1,
      "outputs": [
        {
          "output_type": "stream",
          "text": [
            "Go to this URL in a browser: https://accounts.google.com/o/oauth2/auth?client_id=947318989803-6bn6qk8qdgf4n4g3pfee6491hc0brc4i.apps.googleusercontent.com&redirect_uri=urn%3Aietf%3Awg%3Aoauth%3A2.0%3Aoob&scope=email%20https%3A%2F%2Fwww.googleapis.com%2Fauth%2Fdocs.test%20https%3A%2F%2Fwww.googleapis.com%2Fauth%2Fdrive%20https%3A%2F%2Fwww.googleapis.com%2Fauth%2Fdrive.photos.readonly%20https%3A%2F%2Fwww.googleapis.com%2Fauth%2Fpeopleapi.readonly&response_type=code\n",
            "\n",
            "Enter your authorization code:\n",
            "··········\n",
            "Mounted at /content/drive\n"
          ],
          "name": "stdout"
        }
      ]
    },
    {
      "cell_type": "code",
      "metadata": {
        "id": "CsnZqvqKU9Uw",
        "colab_type": "code",
        "colab": {}
      },
      "source": [
        "import sys\n",
        "sys.path.append('/content/drive/My Drive/Cats_vs_Dogs')"
      ],
      "execution_count": 0,
      "outputs": []
    },
    {
      "cell_type": "code",
      "metadata": {
        "id": "A1YnT2cBVHYf",
        "colab_type": "code",
        "colab": {
          "base_uri": "https://localhost:8080/",
          "height": 85
        },
        "outputId": "9fbd8534-1988-4b23-bb85-98b9e78d99c8"
      },
      "source": [
        "!ls -l /content/drive/'My Drive'/Cats_vs_Dogs"
      ],
      "execution_count": 3,
      "outputs": [
        {
          "output_type": "stream",
          "text": [
            "total 88761\n",
            "drwx------ 2 root root     4096 Aug 26 09:55 cats_and_dogs_small\n",
            "-rw------- 1 root root 90876119 Aug 26 09:46 cats_and_dogs_small.zip\n",
            "-rw------- 1 root root    10509 Aug 26 10:00 Cats_vs_Dogs.ipynb\n"
          ],
          "name": "stdout"
        }
      ]
    },
    {
      "cell_type": "code",
      "metadata": {
        "id": "3vmSEP9KVWVI",
        "colab_type": "code",
        "colab": {
          "base_uri": "https://localhost:8080/",
          "height": 85
        },
        "outputId": "684adfbc-0973-4c4e-e33d-f7a63711f173"
      },
      "source": [
        "!unzip /content/drive/'My Drive'/Cats_vs_Dogs/cats_and_dogs_small.zip -d /content/drive/'My Drive'/Cats_vs_Dogs > /dev/null 2>&1 &\n",
        "!ls -l /content/drive/'My Drive'/Cats_vs_Dogs"
      ],
      "execution_count": 4,
      "outputs": [
        {
          "output_type": "stream",
          "text": [
            "total 88761\n",
            "drwx------ 3 root root     4096 Aug 26 09:55 cats_and_dogs_small\n",
            "-rw------- 1 root root 90876119 Aug 26 09:46 cats_and_dogs_small.zip\n",
            "-rw------- 1 root root    10509 Aug 26 10:00 Cats_vs_Dogs.ipynb\n"
          ],
          "name": "stdout"
        }
      ]
    },
    {
      "cell_type": "code",
      "metadata": {
        "id": "eYMGDGVXUdoj",
        "colab_type": "code",
        "colab": {}
      },
      "source": [
        "import os                        # OS依存の処理を共通化するモジュール\n",
        "import glob                      # ファイルやフォルダを操作する際の便利なモジュール\n",
        "import numpy as np               # 数値計算用モジュール\n",
        "import matplotlib.pyplot as plt  # 図形描画用モジュール"
      ],
      "execution_count": 0,
      "outputs": []
    },
    {
      "cell_type": "code",
      "metadata": {
        "id": "LMuG94QgUdol",
        "colab_type": "code",
        "colab": {}
      },
      "source": [
        "# Jupyter の notebook 内で図形を表示するために必要な指示\n",
        "# 注意： Python のコードとして動かすときには次の行を削除しておくこと！\n",
        "%matplotlib inline"
      ],
      "execution_count": 0,
      "outputs": []
    },
    {
      "cell_type": "code",
      "metadata": {
        "id": "BiUTzjucUdon",
        "colab_type": "code",
        "colab": {
          "base_uri": "https://localhost:8080/",
          "height": 34
        },
        "outputId": "1a13ee29-7444-490c-841f-1292baf53307"
      },
      "source": [
        "# Deep Learning の基本ライブラリである Tensorflow を使いやすくするための Keras を導入する\n",
        "from keras.preprocessing.image import load_img, img_to_array\n",
        "from keras.utils import np_utils"
      ],
      "execution_count": 7,
      "outputs": [
        {
          "output_type": "stream",
          "text": [
            "Using TensorFlow backend.\n"
          ],
          "name": "stderr"
        }
      ]
    },
    {
      "cell_type": "code",
      "metadata": {
        "id": "JR7uSvEhUdop",
        "colab_type": "code",
        "colab": {}
      },
      "source": [
        "# 画像を読み込んでデータとラベルを順に追加するためのリスト（入れ物）\n",
        "images = []\n",
        "labels = []\n",
        "\n",
        "def glob_images(dir, label, img_size, max_count):\n",
        "    files = glob.glob(dir + \"/*.jpg\")\n",
        "    for count, f in enumerate(files):\n",
        "        img = load_img(f, target_size=(img_size, img_size))\n",
        "        img = img.convert(\"RGB\")\n",
        "        \n",
        "        # 画像を行列に変換する ary.shape ⇒ (img_size, phoimg_sizeto_size, 3)\n",
        "        ary = img_to_array(img)\n",
        "                \n",
        "        images.append(ary)     # データをリストに追加\n",
        "        labels.append(label)   # ラベルをリストに追加\n",
        "        \n",
        "        if count >= max_count - 1:\n",
        "            break"
      ],
      "execution_count": 0,
      "outputs": []
    },
    {
      "cell_type": "code",
      "metadata": {
        "id": "OKpGXRBfUdor",
        "colab_type": "code",
        "colab": {
          "base_uri": "https://localhost:8080/",
          "height": 119
        },
        "outputId": "60f4ce72-24e7-45f3-8c31-014a8312d891"
      },
      "source": [
        "path = \"/content/drive/My Drive/Cats_vs_Dogs/cats_and_dogs_small/train/\"\n",
        "\n",
        "label = 0\n",
        "label_names = []\n",
        "\n",
        "# 変換後の画像のサイズ (縦と横は同じに設定) [この値を変更して再実行してみる]\n",
        "img_size = 75\n",
        "\n",
        "# 各フォルダ内で読み込む画像枚数\n",
        "max_count = 200    # 500 や 1000 に変更して、test データの予測精度を比較する\n",
        "\n",
        "for name in os.listdir(path):\n",
        "    if os.path.isdir(path + name):\n",
        "        label_names.append(name)\n",
        "        print(\"path : \", path + name)\n",
        "        print(\"label: \", label)\n",
        "        glob_images(path + name, label, img_size, max_count)\n",
        "        print(labels.count(label))\n",
        "        label += 1\n",
        "\n",
        "# numpy の array形式に変換\n",
        "images = np.asarray(images)\n",
        "labels = np.asarray(labels)\n",
        "\n",
        "# 画像データを整数型から浮動小数点型に変換し、正規化 (0～255 ⇒ 0.0～1.0)\n",
        "images = images.astype(np.float32) / 255.0"
      ],
      "execution_count": 9,
      "outputs": [
        {
          "output_type": "stream",
          "text": [
            "path :  /content/drive/My Drive/Cats_vs_Dogs/cats_and_dogs_small/train/cats\n",
            "label:  0\n",
            "200\n",
            "path :  /content/drive/My Drive/Cats_vs_Dogs/cats_and_dogs_small/train/dogs\n",
            "label:  1\n",
            "200\n"
          ],
          "name": "stdout"
        }
      ]
    },
    {
      "cell_type": "markdown",
      "metadata": {
        "id": "JJjQTS5zUdot",
        "colab_type": "text"
      },
      "source": [
        "### ヒント:\n",
        "各フォルダ内で読み込む画像枚数： <font color='red'>**max_count**</font> を 200 から 500 や 1000 に変更して、最後のセルで計算される test データの予測精度を比較する"
      ]
    },
    {
      "cell_type": "code",
      "metadata": {
        "id": "G6Zwm9_1Udot",
        "colab_type": "code",
        "colab": {
          "base_uri": "https://localhost:8080/",
          "height": 34
        },
        "outputId": "bc716278-a41c-430f-e82e-6c7bb52bd537"
      },
      "source": [
        "# ラベルの種類数\n",
        "classes = len(label_names)\n",
        "print(\"ラベルの種類数 : \", classes)\n",
        "\n",
        "# ラベルをone-hotベクトル形式に変換\n",
        "labels = np_utils.to_categorical(labels, classes)"
      ],
      "execution_count": 10,
      "outputs": [
        {
          "output_type": "stream",
          "text": [
            "ラベルの種類数 :  2\n"
          ],
          "name": "stdout"
        }
      ]
    },
    {
      "cell_type": "code",
      "metadata": {
        "id": "QcEVl3dpUdov",
        "colab_type": "code",
        "colab": {
          "base_uri": "https://localhost:8080/",
          "height": 51
        },
        "outputId": "ca1fd69c-7163-480c-d735-e2af04a1cff5"
      },
      "source": [
        "print(images.shape)\n",
        "print(labels.shape)"
      ],
      "execution_count": 11,
      "outputs": [
        {
          "output_type": "stream",
          "text": [
            "(400, 75, 75, 3)\n",
            "(400, 2)\n"
          ],
          "name": "stdout"
        }
      ]
    },
    {
      "cell_type": "code",
      "metadata": {
        "id": "4cJkr3tXUdox",
        "colab_type": "code",
        "colab": {
          "base_uri": "https://localhost:8080/",
          "height": 85
        },
        "outputId": "b7df4509-9dae-4963-926b-90d8a50ad71b"
      },
      "source": [
        "# データを訓練用と検証用とに分けるモジュール\n",
        "from sklearn.model_selection import train_test_split\n",
        "\n",
        "X_train, X_test, y_train, y_test = train_test_split(images, labels, test_size=0.3, random_state=0)\n",
        "\n",
        "print(\"X_train: \", len(X_train))\n",
        "print(\"y_train: \", len(y_train))\n",
        "print(\"X_test : \", len(X_test))\n",
        "print(\"y_test : \", len(y_test))"
      ],
      "execution_count": 12,
      "outputs": [
        {
          "output_type": "stream",
          "text": [
            "X_train:  280\n",
            "y_train:  280\n",
            "X_test :  120\n",
            "y_test :  120\n"
          ],
          "name": "stdout"
        }
      ]
    },
    {
      "cell_type": "code",
      "metadata": {
        "id": "iOB3udJnUdoy",
        "colab_type": "code",
        "colab": {
          "base_uri": "https://localhost:8080/",
          "height": 258
        },
        "outputId": "a8223d90-9ab1-4452-977b-df18de2f4c3e"
      },
      "source": [
        "from keras.models import Sequential\n",
        "from keras.layers import Conv2D, MaxPooling2D, Activation, Dropout, Flatten, Dense\n",
        "\n",
        "# Sequentialタイプのモデルを生成\n",
        "model = Sequential()\n",
        "\n",
        "model.add(Conv2D(32, (3, 3), activation='relu', input_shape=(img_size, img_size, 3)))\n",
        "model.add(MaxPooling2D(pool_size=(2, 2)))\n",
        "\n",
        "model.add(Conv2D(64, (3, 3), activation='relu'))\n",
        "model.add(MaxPooling2D(pool_size=(2, 2)))\n",
        "\n",
        "model.add(Conv2D(128, (3, 3), activation='relu'))\n",
        "model.add(MaxPooling2D(pool_size=(2, 2)))\n",
        "\n",
        "model.add(Flatten())\n",
        "model.add(Dense(128, activation='relu'))\n",
        "model.add(Dense(classes, activation='softmax'))\n",
        "\n",
        "# モデルをコンパイル\n",
        "model.compile(\n",
        "        loss='categorical_crossentropy',\n",
        "        optimizer='adam',\n",
        "        metrics=['accuracy'])"
      ],
      "execution_count": 13,
      "outputs": [
        {
          "output_type": "stream",
          "text": [
            "WARNING: Logging before flag parsing goes to stderr.\n",
            "W0826 10:03:51.461983 140622289885056 deprecation_wrapper.py:119] From /usr/local/lib/python3.6/dist-packages/keras/backend/tensorflow_backend.py:74: The name tf.get_default_graph is deprecated. Please use tf.compat.v1.get_default_graph instead.\n",
            "\n",
            "W0826 10:03:51.499844 140622289885056 deprecation_wrapper.py:119] From /usr/local/lib/python3.6/dist-packages/keras/backend/tensorflow_backend.py:517: The name tf.placeholder is deprecated. Please use tf.compat.v1.placeholder instead.\n",
            "\n",
            "W0826 10:03:51.507978 140622289885056 deprecation_wrapper.py:119] From /usr/local/lib/python3.6/dist-packages/keras/backend/tensorflow_backend.py:4138: The name tf.random_uniform is deprecated. Please use tf.random.uniform instead.\n",
            "\n",
            "W0826 10:03:51.533686 140622289885056 deprecation_wrapper.py:119] From /usr/local/lib/python3.6/dist-packages/keras/backend/tensorflow_backend.py:3976: The name tf.nn.max_pool is deprecated. Please use tf.nn.max_pool2d instead.\n",
            "\n",
            "W0826 10:03:51.589369 140622289885056 deprecation_wrapper.py:119] From /usr/local/lib/python3.6/dist-packages/keras/optimizers.py:790: The name tf.train.Optimizer is deprecated. Please use tf.compat.v1.train.Optimizer instead.\n",
            "\n",
            "W0826 10:03:51.607935 140622289885056 deprecation_wrapper.py:119] From /usr/local/lib/python3.6/dist-packages/keras/backend/tensorflow_backend.py:3295: The name tf.log is deprecated. Please use tf.math.log instead.\n",
            "\n"
          ],
          "name": "stderr"
        }
      ]
    },
    {
      "cell_type": "code",
      "metadata": {
        "id": "YBX3aSpYUdo0",
        "colab_type": "code",
        "colab": {
          "base_uri": "https://localhost:8080/",
          "height": 442
        },
        "outputId": "72373c2f-ec08-4839-d81f-99e90ac25fca"
      },
      "source": [
        "# モデルのサマリを表示\n",
        "model.summary()"
      ],
      "execution_count": 14,
      "outputs": [
        {
          "output_type": "stream",
          "text": [
            "_________________________________________________________________\n",
            "Layer (type)                 Output Shape              Param #   \n",
            "=================================================================\n",
            "conv2d_1 (Conv2D)            (None, 73, 73, 32)        896       \n",
            "_________________________________________________________________\n",
            "max_pooling2d_1 (MaxPooling2 (None, 36, 36, 32)        0         \n",
            "_________________________________________________________________\n",
            "conv2d_2 (Conv2D)            (None, 34, 34, 64)        18496     \n",
            "_________________________________________________________________\n",
            "max_pooling2d_2 (MaxPooling2 (None, 17, 17, 64)        0         \n",
            "_________________________________________________________________\n",
            "conv2d_3 (Conv2D)            (None, 15, 15, 128)       73856     \n",
            "_________________________________________________________________\n",
            "max_pooling2d_3 (MaxPooling2 (None, 7, 7, 128)         0         \n",
            "_________________________________________________________________\n",
            "flatten_1 (Flatten)          (None, 6272)              0         \n",
            "_________________________________________________________________\n",
            "dense_1 (Dense)              (None, 128)               802944    \n",
            "_________________________________________________________________\n",
            "dense_2 (Dense)              (None, 2)                 258       \n",
            "=================================================================\n",
            "Total params: 896,450\n",
            "Trainable params: 896,450\n",
            "Non-trainable params: 0\n",
            "_________________________________________________________________\n"
          ],
          "name": "stdout"
        }
      ]
    },
    {
      "cell_type": "code",
      "metadata": {
        "scrolled": true,
        "id": "QyWwf8PDUdo2",
        "colab_type": "code",
        "colab": {
          "base_uri": "https://localhost:8080/",
          "height": 1000
        },
        "outputId": "72fb0286-b412-4960-e192-2822eab214c1"
      },
      "source": [
        "batch_size = 32    # バッチサイズ\n",
        "epochs     = 50    # 学習回数\n",
        "\n",
        "# 開始時刻を記録\n",
        "import time\n",
        "start = time.time()\n",
        "\n",
        "# モデルの訓練（学習）\n",
        "# https://keras.io/ja/models/sequential/\n",
        "history = model.fit(X_train, y_train,\n",
        "                    batch_size=batch_size,\n",
        "                    epochs=epochs,\n",
        "                    validation_data=(X_test, y_test),\n",
        "                    verbose=1)\n",
        "\n",
        "# 経過時間を表示\n",
        "elapsed_time = time.time() - start\n",
        "print(\"Elapsed Time : {0}\".format(elapsed_time) + \"[sec]\")"
      ],
      "execution_count": 15,
      "outputs": [
        {
          "output_type": "stream",
          "text": [
            "W0826 10:03:51.736445 140622289885056 deprecation.py:323] From /usr/local/lib/python3.6/dist-packages/tensorflow/python/ops/math_grad.py:1250: add_dispatch_support.<locals>.wrapper (from tensorflow.python.ops.array_ops) is deprecated and will be removed in a future version.\n",
            "Instructions for updating:\n",
            "Use tf.where in 2.0, which has the same broadcast rule as np.where\n",
            "W0826 10:03:51.793140 140622289885056 deprecation_wrapper.py:119] From /usr/local/lib/python3.6/dist-packages/keras/backend/tensorflow_backend.py:986: The name tf.assign_add is deprecated. Please use tf.compat.v1.assign_add instead.\n",
            "\n"
          ],
          "name": "stderr"
        },
        {
          "output_type": "stream",
          "text": [
            "Train on 280 samples, validate on 120 samples\n",
            "Epoch 1/50\n",
            "280/280 [==============================] - 7s 25ms/step - loss: 0.7950 - acc: 0.5071 - val_loss: 0.6936 - val_acc: 0.4750\n",
            "Epoch 2/50\n",
            "280/280 [==============================] - 0s 360us/step - loss: 0.6908 - acc: 0.5107 - val_loss: 0.6943 - val_acc: 0.4750\n",
            "Epoch 3/50\n",
            "280/280 [==============================] - 0s 352us/step - loss: 0.6869 - acc: 0.5464 - val_loss: 0.6892 - val_acc: 0.4750\n",
            "Epoch 4/50\n",
            "280/280 [==============================] - 0s 345us/step - loss: 0.6753 - acc: 0.5179 - val_loss: 0.6785 - val_acc: 0.5750\n",
            "Epoch 5/50\n",
            "280/280 [==============================] - 0s 375us/step - loss: 0.6664 - acc: 0.5929 - val_loss: 0.6620 - val_acc: 0.6333\n",
            "Epoch 6/50\n",
            "280/280 [==============================] - 0s 391us/step - loss: 0.6535 - acc: 0.5786 - val_loss: 0.7394 - val_acc: 0.4750\n",
            "Epoch 7/50\n",
            "280/280 [==============================] - 0s 362us/step - loss: 0.6195 - acc: 0.6786 - val_loss: 0.6265 - val_acc: 0.6417\n",
            "Epoch 8/50\n",
            "280/280 [==============================] - 0s 351us/step - loss: 0.5725 - acc: 0.7107 - val_loss: 0.5935 - val_acc: 0.6833\n",
            "Epoch 9/50\n",
            "280/280 [==============================] - 0s 349us/step - loss: 0.5001 - acc: 0.7750 - val_loss: 0.6208 - val_acc: 0.6583\n",
            "Epoch 10/50\n",
            "280/280 [==============================] - 0s 362us/step - loss: 0.4228 - acc: 0.7893 - val_loss: 0.5311 - val_acc: 0.7167\n",
            "Epoch 11/50\n",
            "280/280 [==============================] - 0s 349us/step - loss: 0.3728 - acc: 0.8250 - val_loss: 0.7018 - val_acc: 0.6417\n",
            "Epoch 12/50\n",
            "280/280 [==============================] - 0s 375us/step - loss: 0.3468 - acc: 0.8464 - val_loss: 0.6128 - val_acc: 0.7167\n",
            "Epoch 13/50\n",
            "280/280 [==============================] - 0s 364us/step - loss: 0.3144 - acc: 0.8464 - val_loss: 0.5762 - val_acc: 0.7333\n",
            "Epoch 14/50\n",
            "280/280 [==============================] - 0s 374us/step - loss: 0.2093 - acc: 0.9179 - val_loss: 0.5536 - val_acc: 0.7583\n",
            "Epoch 15/50\n",
            "280/280 [==============================] - 0s 365us/step - loss: 0.1554 - acc: 0.9571 - val_loss: 0.6095 - val_acc: 0.7167\n",
            "Epoch 16/50\n",
            "280/280 [==============================] - 0s 368us/step - loss: 0.1173 - acc: 0.9679 - val_loss: 0.6587 - val_acc: 0.7417\n",
            "Epoch 17/50\n",
            "280/280 [==============================] - 0s 355us/step - loss: 0.0633 - acc: 0.9821 - val_loss: 0.6825 - val_acc: 0.7667\n",
            "Epoch 18/50\n",
            "280/280 [==============================] - 0s 354us/step - loss: 0.0372 - acc: 0.9964 - val_loss: 0.7493 - val_acc: 0.7833\n",
            "Epoch 19/50\n",
            "280/280 [==============================] - 0s 357us/step - loss: 0.0221 - acc: 0.9964 - val_loss: 0.8606 - val_acc: 0.7500\n",
            "Epoch 20/50\n",
            "280/280 [==============================] - 0s 358us/step - loss: 0.0157 - acc: 1.0000 - val_loss: 1.0173 - val_acc: 0.7083\n",
            "Epoch 21/50\n",
            "280/280 [==============================] - 0s 361us/step - loss: 0.0122 - acc: 1.0000 - val_loss: 0.9554 - val_acc: 0.7333\n",
            "Epoch 22/50\n",
            "280/280 [==============================] - 0s 363us/step - loss: 0.0074 - acc: 1.0000 - val_loss: 0.9984 - val_acc: 0.7500\n",
            "Epoch 23/50\n",
            "280/280 [==============================] - 0s 350us/step - loss: 0.0039 - acc: 1.0000 - val_loss: 1.0358 - val_acc: 0.7333\n",
            "Epoch 24/50\n",
            "280/280 [==============================] - 0s 373us/step - loss: 0.0027 - acc: 1.0000 - val_loss: 1.0691 - val_acc: 0.7500\n",
            "Epoch 25/50\n",
            "280/280 [==============================] - 0s 346us/step - loss: 0.0020 - acc: 1.0000 - val_loss: 1.0913 - val_acc: 0.7667\n",
            "Epoch 26/50\n",
            "280/280 [==============================] - 0s 378us/step - loss: 0.0016 - acc: 1.0000 - val_loss: 1.1192 - val_acc: 0.7333\n",
            "Epoch 27/50\n",
            "280/280 [==============================] - 0s 362us/step - loss: 0.0013 - acc: 1.0000 - val_loss: 1.1502 - val_acc: 0.7333\n",
            "Epoch 28/50\n",
            "280/280 [==============================] - 0s 351us/step - loss: 0.0012 - acc: 1.0000 - val_loss: 1.1707 - val_acc: 0.7417\n",
            "Epoch 29/50\n",
            "280/280 [==============================] - 0s 368us/step - loss: 0.0010 - acc: 1.0000 - val_loss: 1.1813 - val_acc: 0.7500\n",
            "Epoch 30/50\n",
            "280/280 [==============================] - 0s 357us/step - loss: 9.5274e-04 - acc: 1.0000 - val_loss: 1.1975 - val_acc: 0.7417\n",
            "Epoch 31/50\n",
            "280/280 [==============================] - 0s 360us/step - loss: 8.2452e-04 - acc: 1.0000 - val_loss: 1.2146 - val_acc: 0.7167\n",
            "Epoch 32/50\n",
            "280/280 [==============================] - 0s 374us/step - loss: 7.1286e-04 - acc: 1.0000 - val_loss: 1.2210 - val_acc: 0.7583\n",
            "Epoch 33/50\n",
            "280/280 [==============================] - 0s 424us/step - loss: 5.9840e-04 - acc: 1.0000 - val_loss: 1.2334 - val_acc: 0.7250\n",
            "Epoch 34/50\n",
            "280/280 [==============================] - 0s 357us/step - loss: 5.5036e-04 - acc: 1.0000 - val_loss: 1.2421 - val_acc: 0.7583\n",
            "Epoch 35/50\n",
            "280/280 [==============================] - 0s 350us/step - loss: 4.8887e-04 - acc: 1.0000 - val_loss: 1.2516 - val_acc: 0.7417\n",
            "Epoch 36/50\n",
            "280/280 [==============================] - 0s 375us/step - loss: 4.4674e-04 - acc: 1.0000 - val_loss: 1.2589 - val_acc: 0.7417\n",
            "Epoch 37/50\n",
            "280/280 [==============================] - 0s 348us/step - loss: 4.0656e-04 - acc: 1.0000 - val_loss: 1.2673 - val_acc: 0.7417\n",
            "Epoch 38/50\n",
            "280/280 [==============================] - 0s 349us/step - loss: 3.7710e-04 - acc: 1.0000 - val_loss: 1.2746 - val_acc: 0.7417\n",
            "Epoch 39/50\n",
            "280/280 [==============================] - 0s 351us/step - loss: 3.5522e-04 - acc: 1.0000 - val_loss: 1.2854 - val_acc: 0.7417\n",
            "Epoch 40/50\n",
            "280/280 [==============================] - 0s 370us/step - loss: 3.2810e-04 - acc: 1.0000 - val_loss: 1.2953 - val_acc: 0.7417\n",
            "Epoch 41/50\n",
            "280/280 [==============================] - 0s 356us/step - loss: 3.0344e-04 - acc: 1.0000 - val_loss: 1.3034 - val_acc: 0.7417\n",
            "Epoch 42/50\n",
            "280/280 [==============================] - 0s 360us/step - loss: 2.8447e-04 - acc: 1.0000 - val_loss: 1.3094 - val_acc: 0.7417\n",
            "Epoch 43/50\n",
            "280/280 [==============================] - 0s 363us/step - loss: 2.6881e-04 - acc: 1.0000 - val_loss: 1.3150 - val_acc: 0.7417\n",
            "Epoch 44/50\n",
            "280/280 [==============================] - 0s 351us/step - loss: 2.5288e-04 - acc: 1.0000 - val_loss: 1.3227 - val_acc: 0.7417\n",
            "Epoch 45/50\n",
            "280/280 [==============================] - 0s 366us/step - loss: 2.3374e-04 - acc: 1.0000 - val_loss: 1.3304 - val_acc: 0.7333\n",
            "Epoch 46/50\n",
            "280/280 [==============================] - 0s 369us/step - loss: 2.2355e-04 - acc: 1.0000 - val_loss: 1.3341 - val_acc: 0.7417\n",
            "Epoch 47/50\n",
            "280/280 [==============================] - 0s 363us/step - loss: 2.0827e-04 - acc: 1.0000 - val_loss: 1.3380 - val_acc: 0.7417\n",
            "Epoch 48/50\n",
            "280/280 [==============================] - 0s 344us/step - loss: 1.9668e-04 - acc: 1.0000 - val_loss: 1.3459 - val_acc: 0.7417\n",
            "Epoch 49/50\n",
            "280/280 [==============================] - 0s 346us/step - loss: 1.9260e-04 - acc: 1.0000 - val_loss: 1.3516 - val_acc: 0.7333\n",
            "Epoch 50/50\n",
            "280/280 [==============================] - 0s 357us/step - loss: 1.7519e-04 - acc: 1.0000 - val_loss: 1.3567 - val_acc: 0.7333\n",
            "Elapsed Time : 12.488730192184448[sec]\n"
          ],
          "name": "stdout"
        }
      ]
    },
    {
      "cell_type": "code",
      "metadata": {
        "id": "Y3rulRmxUdo5",
        "colab_type": "code",
        "colab": {
          "base_uri": "https://localhost:8080/",
          "height": 573
        },
        "outputId": "f6462143-c9b5-4dd8-cd7b-0ddc3ddaf437"
      },
      "source": [
        "# 現在の時刻をファイル名に挿入するための準備\n",
        "import datetime\n",
        "now = datetime.datetime.today().strftime('%Y_%m_%d_%H%M%S')\n",
        "\n",
        "# 精度の履歴をプロット\n",
        "plt.ylim(0.0, 1.0)\n",
        "plt.plot(history.history['acc']    , \"o-\", label=\"accuracy\")  # 訓練データの精度\n",
        "plt.plot(history.history['val_acc'], \"o-\", label=\"val_acc\")   # テストデータの精度\n",
        "plt.title('model accuracy')\n",
        "plt.xlabel('epoch')\n",
        "plt.ylabel('accuracy')\n",
        "plt.legend(loc=\"lower right\")\n",
        "\n",
        "# 精度のグラフを画像として保存\n",
        "filename = '04_keras_cnn_cats_and_dogs_Simple_acc_' + now + '.png'\n",
        "plt.savefig(filename)\n",
        "\n",
        "plt.figure()\n",
        "\n",
        "# 損失の履歴をプロット\n",
        "plt.plot(history.history['loss']    , \"o-\", label=\"loss\")      # 訓練データの損失\n",
        "plt.plot(history.history['val_loss'], \"o-\", label=\"val_loss\")  # テストデータの損失\n",
        "plt.title('model loss')\n",
        "plt.xlabel('epoch')\n",
        "plt.ylabel('loss')\n",
        "plt.legend(loc='center right')\n",
        "\n",
        "# 損失のグラフを画像として保存\n",
        "filename = '04_keras_cnn_cats_and_dogs_Simple_loss_' + now + '.png'\n",
        "plt.savefig(filename)\n",
        "\n",
        "plt.show()"
      ],
      "execution_count": 16,
      "outputs": [
        {
          "output_type": "display_data",
          "data": {
            "image/png": "[encoded data removed]",
            "text/plain": [
              "<Figure size 432x288 with 1 Axes>"
            ]
          },
          "metadata": {
            "tags": []
          }
        },
        {
          "output_type": "display_data",
          "data": {
            "image/png": "[encoded data removed]",
            "text/plain": [
              "<Figure size 432x288 with 1 Axes>"
            ]
          },
          "metadata": {
            "tags": []
          }
        }
      ]
    },
    {
      "cell_type": "code",
      "metadata": {
        "id": "jsrdXHTuUdo7",
        "colab_type": "code",
        "colab": {
          "base_uri": "https://localhost:8080/",
          "height": 170
        },
        "outputId": "1e364253-3639-470c-ad3b-b798a12ea8e5"
      },
      "source": [
        "# 学習済みの識別器を評価するための画像セットのパス\n",
        "path = \"/content/drive/My Drive/Cats_vs_Dogs/cats_and_dogs_small/test/\"\n",
        "\n",
        "images = []\n",
        "labels = []\n",
        "\n",
        "max_count = 200\n",
        "label = 0\n",
        "\n",
        "for name in os.listdir(path):\n",
        "    if os.path.isdir(path + name):\n",
        "        print(\"path : \", path + name)\n",
        "        print(\"label: \", label)\n",
        "        glob_images(path + name, label, img_size, max_count)\n",
        "        print(labels.count(label))\n",
        "        label += 1\n",
        "\n",
        "# numpy の array形式に変換\n",
        "images = np.asarray(images)\n",
        "labels = np.asarray(labels)\n",
        "\n",
        "# 画像データを整数型から浮動小数点型に変換し、正規化 (0～255 ⇒ 0.0～1.0)\n",
        "images = images.astype(np.float32) / 255.0\n",
        "\n",
        "# ラベルをone-hotベクトル形式に変換\n",
        "labels = np_utils.to_categorical(labels, classes)\n",
        "\n",
        "# 学習済みの識別器を評価\n",
        "loss, accuracy = model.evaluate(images, labels)\n",
        "print(\"accuracy: {}\".format(accuracy))\n",
        "print(\"loss    : {}\".format(loss))"
      ],
      "execution_count": 18,
      "outputs": [
        {
          "output_type": "stream",
          "text": [
            "path :  /content/drive/My Drive/Cats_vs_Dogs/cats_and_dogs_small/test/cats\n",
            "label:  0\n",
            "200\n",
            "path :  /content/drive/My Drive/Cats_vs_Dogs/cats_and_dogs_small/test/dogs\n",
            "label:  1\n",
            "200\n",
            "400/400 [==============================] - 0s 223us/step\n",
            "accuracy: 0.6525\n",
            "loss    : 2.2703770661354064\n"
          ],
          "name": "stdout"
        }
      ]
    }
  ]
}