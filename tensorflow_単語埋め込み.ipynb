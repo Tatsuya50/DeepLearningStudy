{
  "nbformat": 4,
  "nbformat_minor": 0,
  "metadata": {
    "colab": {
      "name": "tensorflow 単語埋め込み",
      "provenance": [],
      "authorship_tag": "ABX9TyPEqW3qT7ojFQU2WpLsTrcQ",
      "include_colab_link": true
    },
    "kernelspec": {
      "name": "python3",
      "display_name": "Python 3"
    }
  },
  "cells": [
    {
      "cell_type": "markdown",
      "metadata": {
        "id": "view-in-github",
        "colab_type": "text"
      },
      "source": [
        "<a href=\"https://colab.research.google.com/github/Tatsuya50/DeepLearningStudy/blob/master/tensorflow_%E5%8D%98%E8%AA%9E%E5%9F%8B%E3%82%81%E8%BE%BC%E3%81%BF.ipynb\" target=\"_parent\"><img src=\"https://colab.research.google.com/assets/colab-badge.svg\" alt=\"Open In Colab\"/></a>"
      ]
    },
    {
      "cell_type": "markdown",
      "metadata": {
        "id": "Xrij5JbQ5coJ",
        "colab_type": "text"
      },
      "source": [
        "# テキストを数値で表す\n",
        "#### ①ワンホットエンコーディング\n",
        "#### ②それぞれの数値をユニークな数値としてエンコードする\n",
        "### ③単語埋め込み\n",
        "⇒似たような単語を似たようにエンコードする技術。浮動小数点の密なベクトルを埋め込むことによって単語間の細かな関係を取得できる"
      ]
    },
    {
      "cell_type": "code",
      "metadata": {
        "id": "CUP4jB115bQ8",
        "colab_type": "code",
        "colab": {
          "base_uri": "https://localhost:8080/",
          "height": 82
        },
        "outputId": "07bb7d6a-9c4c-4816-86fb-8390976b797d"
      },
      "source": [
        "from __future__ import absolute_import, division, print_function, unicode_literals\n",
        "import tensorflow as tf"
      ],
      "execution_count": 1,
      "outputs": [
        {
          "output_type": "display_data",
          "data": {
            "text/html": [
              "<p style=\"color: red;\">\n",
              "The default version of TensorFlow in Colab will soon switch to TensorFlow 2.x.<br>\n",
              "We recommend you <a href=\"https://www.tensorflow.org/guide/migrate\" target=\"_blank\">upgrade</a> now \n",
              "or ensure your notebook will continue to use TensorFlow 1.x via the <code>%tensorflow_version 1.x</code> magic:\n",
              "<a href=\"https://colab.research.google.com/notebooks/tensorflow_version.ipynb\" target=\"_blank\">more info</a>.</p>\n"
            ],
            "text/plain": [
              "<IPython.core.display.HTML object>"
            ]
          },
          "metadata": {
            "tags": []
          }
        }
      ]
    },
    {
      "cell_type": "code",
      "metadata": {
        "id": "Hcd8lrEA623X",
        "colab_type": "code",
        "colab": {}
      },
      "source": [
        "from tensorflow import keras\n",
        "from tensorflow.keras import layers\n",
        "import tensorflow_datasets as tfds\n",
        "tfds.disable_progress_bar()"
      ],
      "execution_count": 0,
      "outputs": []
    },
    {
      "cell_type": "markdown",
      "metadata": {
        "id": "-G523w9k8NpP",
        "colab_type": "text"
      },
      "source": [
        "# kerasで単語埋め込みを行うEmbeddingレイヤー\n",
        "単語間の類似性を返すレイヤー  \n",
        "以下で具体例を示す"
      ]
    },
    {
      "cell_type": "code",
      "metadata": {
        "id": "p-4zcsAj7SZI",
        "colab_type": "code",
        "colab": {
          "base_uri": "https://localhost:8080/",
          "height": 92
        },
        "outputId": "33345b69-88e0-4f0c-c505-73e2ca78cfbf"
      },
      "source": [
        "#モデル名 = Embeddingレイヤーを指定(inputの次元, outputの次元)\n",
        "embedding_layer = layers.Embedding(1000, 5)\n"
      ],
      "execution_count": 3,
      "outputs": [
        {
          "output_type": "stream",
          "text": [
            "WARNING:tensorflow:From /usr/local/lib/python3.6/dist-packages/tensorflow_core/python/keras/initializers.py:119: calling RandomUniform.__init__ (from tensorflow.python.ops.init_ops) with dtype is deprecated and will be removed in a future version.\n",
            "Instructions for updating:\n",
            "Call initializer instance with the dtype argument instead of passing it to the constructor\n"
          ],
          "name": "stdout"
        }
      ]
    },
    {
      "cell_type": "markdown",
      "metadata": {
        "id": "m5Lz1HYQ9kte",
        "colab_type": "text"
      },
      "source": [
        "整数を渡すことによってそれぞれの整数が埋め込みテーブルのベクトルに変換される  \n",
        "⇒レイヤー作成時に指定したoutputの次元数だけそれぞれの整数が置き換えられたベクトルが表示される"
      ]
    },
    {
      "cell_type": "code",
      "metadata": {
        "id": "TwDy9y4Z9eLO",
        "colab_type": "code",
        "colab": {
          "base_uri": "https://localhost:8080/",
          "height": 35
        },
        "outputId": "f9d60939-cbef-4de0-8fad-8826d54bb598"
      },
      "source": [
        "#[1, 2, 3]をembeddingレイヤーに渡すとどのベクトルで返ってくるか検証\n",
        "result = embedding_layer(tf.constant([1, 2, 3]))\n",
        "print(result)"
      ],
      "execution_count": 11,
      "outputs": [
        {
          "output_type": "stream",
          "text": [
            "Tensor(\"embedding_7/embedding_lookup/Identity_1:0\", shape=(3, 5), dtype=float32)\n"
          ],
          "name": "stdout"
        }
      ]
    },
    {
      "cell_type": "markdown",
      "metadata": {
        "id": "2L-xtMYjAm-W",
        "colab_type": "text"
      },
      "source": [
        "# テキストデータのダウンロード（前処理済み）\n",
        "本来ならばテキストデータを加工する必要がある。  \n",
        "e.g.) 空白を'_'に変換する、など"
      ]
    },
    {
      "cell_type": "code",
      "metadata": {
        "id": "COkG4lMe-yti",
        "colab_type": "code",
        "colab": {
          "base_uri": "https://localhost:8080/",
          "height": 201
        },
        "outputId": "4fc20dcd-32ef-4cd4-bf4d-366ad41a2cc7"
      },
      "source": [
        "(train_data, test_data), info = tfds.load(\n",
        "    'imdb_reviews/subwords8k', \n",
        "    split = (tfds.Split.TRAIN, tfds.Split.TEST), \n",
        "    with_info=True, as_supervised=True)"
      ],
      "execution_count": 0,
      "outputs": [
        {
          "output_type": "stream",
          "text": [
            "\u001b[1mDownloading and preparing dataset imdb_reviews (80.23 MiB) to /root/tensorflow_datasets/imdb_reviews/subwords8k/0.1.0...\u001b[0m\n",
            "WARNING:tensorflow:From /usr/local/lib/python3.6/dist-packages/tensorflow_datasets/core/file_format_adapter.py:209: tf_record_iterator (from tensorflow.python.lib.io.tf_record) is deprecated and will be removed in a future version.\n",
            "Instructions for updating:\n",
            "Use eager execution and: \n",
            "`tf.data.TFRecordDataset(path)`\n"
          ],
          "name": "stdout"
        },
        {
          "output_type": "stream",
          "text": [
            "WARNING:tensorflow:From /usr/local/lib/python3.6/dist-packages/tensorflow_datasets/core/file_format_adapter.py:209: tf_record_iterator (from tensorflow.python.lib.io.tf_record) is deprecated and will be removed in a future version.\n",
            "Instructions for updating:\n",
            "Use eager execution and: \n",
            "`tf.data.TFRecordDataset(path)`\n"
          ],
          "name": "stderr"
        }
      ]
    },
    {
      "cell_type": "code",
      "metadata": {
        "id": "0ts8-fxLA9XF",
        "colab_type": "code",
        "colab": {}
      },
      "source": [
        ""
      ],
      "execution_count": 0,
      "outputs": []
    }
  ]
}